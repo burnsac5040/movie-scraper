{
 "cells": [
  {
   "cell_type": "code",
   "execution_count": 119,
   "metadata": {},
   "outputs": [],
   "source": [
    "import requests\n",
    "from bs4 import BeautifulSoup as bs\n",
    "import csv\n",
    "import re"
   ]
  },
  {
   "cell_type": "code",
   "execution_count": 155,
   "metadata": {},
   "outputs": [],
   "source": [
    "def get_page(url):\n",
    "    response = requests.get(url)\n",
    "    \n",
    "    if not response.ok:\n",
    "        print('Server Responded: ', response.status_code)\n",
    "    else:\n",
    "        soup = bs(response.text, 'lxml')\n",
    "    return soup\n",
    "\n",
    "\n",
    "def get_data(soup):\n",
    "    try:\n",
    "        title = soup.find('h1', class_='text-bold text-size-400 text-size-sm-700').get_text().strip()\n",
    "    except:\n",
    "        title = ''\n",
    "        \n",
    "    try:\n",
    "        price = soup.find('span', class_='first-price').get_text()\n",
    "    except:\n",
    "        price = ''\n",
    "        \n",
    "    try:\n",
    "        specs = soup.find_all('div', class_='col-xs-8')\n",
    "        specs_list = [item.get_text() for item in specs]\n",
    "        spec_names = ['Mileage', 'Drive Type', 'Engine', 'Transmission', 'Fuel Type', 'MPG', 'Exterior', 'Interior', 'VIN']\n",
    "        combined_specs = zip(spec_names, specs_list)\n",
    "        specs_dict = dict(combined_specs)\n",
    "    except:\n",
    "        specs = ''\n",
    "        \n",
    "    data_dict = {\n",
    "        'Title': title,\n",
    "        'Price': price,\n",
    "    }\n",
    "    \n",
    "    data_dict.update(specs_dict)\n",
    "    \n",
    "    return data_dict\n",
    "\n",
    "\n",
    "def get_index_data(soup):\n",
    "    try:\n",
    "        links = soup.find_all('a', attrs={'rel':'nofollow'})\n",
    "    except:\n",
    "        links = []\n",
    "    \n",
    "    urls = [link['href'] for link in links]\n",
    "    actual = [url for url in urls if not url.startswith('tel')]\n",
    "    full_urls = [f'https://www.kbb.com{url}' for url in actual][::2]\n",
    "    \n",
    "    return full_urls"
   ]
  },
  {
   "cell_type": "code",
   "execution_count": 183,
   "metadata": {},
   "outputs": [],
   "source": [
    "def write_csv(data):\n",
    "    with open('kbb_scraper.csv', 'a') as csvfile:\n",
    "        writer = csv.writer(csvfile)\n",
    "        \n",
    "        try:\n",
    "            row = [data['Title'], data['Price'], data['Mileage'], data['Drive Type'], data['Engine'],\n",
    "                  data['Transmission'], data['Fuel Type'], data['MPG'], data['Exterior'], data['Interior']]\n",
    "            \n",
    "            writer.writerow(row)\n",
    "        except:\n",
    "            try: \n",
    "                row = [data['Title'], data['Price'], data['Mileage'], data['Drive Type'], data['Engine'],\n",
    "                data['Transmission'], data['Fuel Type'], data['MPG'], data['Exterior']]\n",
    "                \n",
    "                writer.writerow(row)\n",
    "            except:\n",
    "                try:\n",
    "                    row = [data['Title'], data['Price'], data['Mileage'], data['Drive Type'], data['Engine'],\n",
    "                    data['Transmission'], data['Fuel Type'], data['MPG']]\n",
    "            \n",
    "                    writer.writerow(row)\n",
    "                except:\n",
    "                    row = [data['Title']]\n",
    "                    writer.writerow(row)"
   ]
  },
  {
   "cell_type": "code",
   "execution_count": 171,
   "metadata": {},
   "outputs": [],
   "source": [
    "url = 'https://www.kbb.com/cars-for-sale/all/?distance=75'\n",
    "get_index_data(get_page(url))\n",
    "\n",
    "url_records = [f'https://www.kbb.com/cars-for-sale/all/columbia-mo-65201?distance=75&dma=&channel=KBB&searchRadius=75&isNewSearch=false&marketExtension=include&showAccelerateBanner=false&sortBy=relevance&numRecords=25&firstRecord={x}' \n",
    "              for x in range(1000) if x % 25 == 0]"
   ]
  },
  {
   "cell_type": "code",
   "execution_count": 185,
   "metadata": {},
   "outputs": [
    {
     "name": "stdout",
     "output_type": "stream",
     "text": [
      "{'Title': 'Certified 2019 Ford Escape FWD S', 'Price': '17,243', 'Mileage': '9,848', 'Drive Type': '2 wheel drive - front', 'Engine': '4-Cylinder', 'Transmission': '6-Speed Automatic', 'Fuel Type': 'Flexible Fuel', 'MPG': '21 City / 29 Highway', 'Exterior': 'Agate Black Metallic', 'Interior': 'Chromite Gray/Charcoal Black', 'VIN': '1FMCU0F76KUB60168'}\n",
      "{'Title': 'Used 2014 Chevrolet Corvette Stingray Coupe', 'Price': '38,590', 'Mileage': '34,047', 'Drive Type': '2 wheel drive - rear', 'Engine': '8-Cylinder', 'Transmission': '6-Speed Automatic', 'Fuel Type': 'Gasoline', 'MPG': '16 City / 27 Highway', 'Exterior': 'Blue', 'Interior': 'Black', 'VIN': '1G1YD2D74E5125290'}\n",
      "{'Title': 'Used 2019 BMW 530i xDrive', 'Price': '37,987', 'Mileage': '24,491', 'Drive Type': 'All wheel drive', 'Engine': '4-Cylinder Turbo', 'Transmission': '8-Speed Automatic', 'Fuel Type': 'Gasoline', 'MPG': '23 City / 33 Highway', 'Exterior': 'Mineral White Metallic', 'Interior': 'Ivory White', 'VIN': 'WBAJA7C5XKWC77854'}\n",
      "{'Title': 'Certified 2018 Ford Escape 4WD Titanium', 'Price': '23,922', 'Mileage': '15,602', 'Drive Type': '4 wheel drive', 'Engine': '4-Cylinder Turbo', 'Transmission': '6-Speed Automatic', 'Fuel Type': 'Gasoline', 'MPG': '20 City / 27 Highway', 'Exterior': 'Shadow Black', 'Interior': 'Charcoal Black', 'VIN': '1FMCU9J91JUC69410'}\n",
      "{'Title': 'New 2021 Jeep Cherokee 4WD Latitude Plus', 'Price': '31,845MSRP', 'Mileage': '15', 'Drive Type': '4 wheel drive', 'Engine': '4-Cylinder', 'Transmission': '9-Speed Automatic', 'Fuel Type': 'Gasoline', 'MPG': '21 City / 29 Highway', 'Exterior': 'Velvet Red Pearlcoat', 'Interior': 'Ski Gray/Black', 'VIN': '1C4PJMLB6MD109593'}\n",
      "{'Title': 'Used 2017 Ford Explorer 4WD XLT', 'Price': '26,000', 'Mileage': '40,418', 'Drive Type': '4 wheel drive', 'Engine': '6-Cylinder', 'Transmission': '6-Speed Automatic', 'Fuel Type': 'Gasoline', 'MPG': '16 City / 23 Highway', 'Exterior': 'Blue Jeans Metallic', 'Interior': 'Medium Light Camel', 'VIN': '1FM5K8D87HGE17869'}\n",
      "{'Title': 'Used 2017 Chevrolet Traverse AWD Premier', 'Price': '26,688', 'Mileage': '58,141', 'Drive Type': 'All wheel drive', 'Engine': '6-Cylinder', 'Transmission': '6-Speed Automatic', 'Fuel Type': 'Gasoline', 'MPG': '15 City / 22 Highway', 'Exterior': 'Mosaic Black Metallic', 'Interior': 'Ebony', 'VIN': '1GNKVJKD3HJ173881'}\n",
      "{'Title': 'Used 2020 Chevrolet Equinox LT', 'Price': '22,591', 'Mileage': '13,476', 'Drive Type': 'All wheel drive', 'Engine': '4-Cylinder Turbo', 'Transmission': '6-Speed Automatic', 'Fuel Type': 'Gasoline', 'MPG': '25 City / 30 Highway', 'Exterior': 'Satin Steel Metallic', 'Interior': 'Jet Black', 'VIN': '2GNAXTEV4L6125169'}\n",
      "{'Title': 'Used 2015 Hyundai Santa Fe FWD Sport w/ Option Group 02', 'Price': '14,895', 'Mileage': '65,671', 'Drive Type': '2 wheel drive - front', 'Engine': '4-Cylinder', 'Transmission': '6-Speed Automatic', 'Fuel Type': 'Gasoline', 'MPG': '20 City / 27 Highway', 'Exterior': 'Mineral Gray', 'Interior': 'Gray', 'VIN': '5XYZU3LB4FG249866'}\n",
      "{'Title': 'Used 2017 Jeep Wrangler 4WD Unlimited Sport', 'Price': '32,990', 'Mileage': '26,451', 'Drive Type': '4 wheel drive', 'Engine': '6-Cylinder', 'Transmission': '5-Speed Automatic', 'Fuel Type': 'Gasoline', 'MPG': '16 City / 20 Highway', 'Exterior': 'Blue', 'Interior': 'Black', 'VIN': '1C4HJWDG6HL702229'}\n",
      "{'Title': 'Used 2014 Chevrolet Malibu LT', 'Price': '10,795', 'Mileage': '94,327', 'Drive Type': '2 wheel drive - front', 'Engine': '4-Cylinder', 'Transmission': '6-Speed Automatic', 'Fuel Type': 'Gasoline', 'MPG': '25 City / 36 Highway', 'Exterior': 'Crystal Red Tintcoat - Red', 'Interior': 'Cocoa/Light Neutral Cloth', 'VIN': '1G11C5SL0EF159047'}\n",
      "{'Title': 'Certified 2017 Ford Escape FWD Titanium', 'Price': '18,922', 'Mileage': '39,173', 'Drive Type': '2 wheel drive - front', 'Engine': '4-Cylinder Turbo', 'Transmission': '6-Speed Automatic', 'Fuel Type': 'Gasoline', 'MPG': '22 City / 29 Highway', 'Exterior': 'Magnetic Metallic', 'Interior': 'Charcoal Black', 'VIN': '1FMCU0J91HUD77824'}\n",
      "{'Title': 'New 2021 Volkswagen Atlas 4Motion SEL Premium V6', 'Price': '45,853', 'Mileage': '9', 'Drive Type': 'All wheel drive', 'Engine': '6-Cylinder', 'Transmission': '8-Speed Automatic', 'Fuel Type': 'Gasoline', 'MPG': '16 City / 22 Highway', 'Exterior': 'Pacific Blue Metallic', 'Interior': 'Titan Black', 'VIN': '1V2TR2CA3MC527231'}\n",
      "{'Title': 'Used 2018 Ford F150 XLT', 'Price': '35,976', 'Mileage': '34,599', 'Drive Type': '4 wheel drive', 'Engine': '6-Cylinder Turbo', 'Transmission': '10-Speed Automatic', 'Fuel Type': 'Gasoline', 'MPG': '5\\'6\"', 'Exterior': '18 City / 23 Highway', 'Interior': 'Shadow Black', 'VIN': 'Black'}\n",
      "{'Title': 'Used 2015 Cadillac SRX FWD Luxury', 'Price': '17,995', 'Mileage': '81,438', 'Drive Type': '2 wheel drive - front', 'Engine': '6-Cylinder', 'Transmission': '6-Speed Automatic', 'Fuel Type': 'Gasoline', 'MPG': '17 City / 24 Highway', 'Exterior': 'Radiant Silver Metallic - Gray', 'Interior': 'Ebony W/Ebony Accents Leather', 'VIN': '3GYFNBE35FS573496'}\n",
      "{'Title': 'Used 2017 Toyota Sienna XLE Premium', 'Price': '26,849', 'Mileage': '44,363', 'Drive Type': '2 wheel drive - front', 'Engine': '6-Cylinder', 'Transmission': '8-Speed Automatic', 'Fuel Type': 'Gasoline', 'MPG': '19 City / 27 Highway', 'Exterior': 'Sky Blue Pearl', 'Interior': 'Ash', 'VIN': '5TDYZ3DC8HS803145'}\n",
      "{'Title': 'Used 2016 Chevrolet Spark LT', 'Price': '10,988', 'Mileage': '16,860', 'Drive Type': '2 wheel drive - front', 'Engine': '4-Cylinder', 'Transmission': 'Continuously Variable Automatic', 'Fuel Type': 'Gasoline', 'MPG': '31 City / 40 Highway', 'Exterior': 'Purple', 'Interior': 'Black Cloth', 'VIN': 'KL8CD6SA1GC633652'}\n",
      "{'Title': 'Used 2015 Honda Civic EX Sedan', 'Price': '14,862', 'Mileage': '40,515', 'Drive Type': '2 wheel drive - front', 'Engine': '4-Cylinder', 'Transmission': 'Continuously Variable Automatic', 'Fuel Type': 'Gasoline', 'MPG': '29 City / 37 Highway', 'Exterior': 'Crystal Black Pearl', 'Interior': 'Black', 'VIN': '19XFB2F81FE097173'}\n",
      "{'Title': 'New 2020 RAM 1500 4x4 Crew Cab', 'Price': '50,050MSRP', 'Mileage': '10', 'Drive Type': '4 wheel drive', 'Engine': '8-Cylinder', 'Transmission': '8-Speed Automatic', 'Fuel Type': 'Gasoline', 'MPG': '6\\'5\"', 'Exterior': '19 City / 24 Highway', 'Interior': 'Granite Crystal Metallic Clearcoat', 'VIN': 'Black'}\n",
      "{'Title': 'Used 2015 Dodge Challenger R/T Plus', 'Price': '28,990', 'Mileage': '15,653', 'Drive Type': '2 wheel drive - rear', 'Engine': '8-Cylinder', 'Transmission': '6-Speed Manual', 'Fuel Type': 'Gasoline', 'MPG': '15 City / 23 Highway', 'Exterior': 'Silver', 'Interior': 'Black', 'VIN': '2C3CDZBT2FH711186'}\n",
      "{'Title': 'Used 2017 Hyundai Azera', 'Price': '16,950', 'Mileage': '39,446', 'Drive Type': '2 wheel drive - front', 'Engine': '6-Cylinder', 'Transmission': '6-Speed Automatic', 'Fuel Type': 'Gasoline', 'MPG': '20 City / 28 Highway', 'Exterior': 'Hyper White', 'Interior': 'Black', 'VIN': 'KMHFG4JGXHA585728'}\n",
      "{'Title': 'Used 2017 Ford Focus SE Sedan', 'Price': '12,598', 'Mileage': '41,290', 'Drive Type': '2 wheel drive - front', 'Engine': '4-Cylinder', 'Transmission': '6-Speed Automatic', 'Fuel Type': 'Flexible Fuel', 'MPG': 'Information Unavailable', 'Exterior': 'Ingot Silver Metallic', 'Interior': 'Charcoal Black', 'VIN': '1FADP3F2XHL213643'}\n",
      "{'Title': 'Used 2015 Honda Fit EX', 'Price': '9,861', 'Mileage': '103,463', 'Drive Type': '2 wheel drive - front', 'Engine': '4-Cylinder', 'Transmission': '6-Speed Manual', 'Fuel Type': 'Gasoline', 'MPG': '29 City / 36 Highway', 'Exterior': 'Crystal Black Pearl', 'Interior': 'Black', 'VIN': '3HGGK5G80FM719791'}\n",
      "{'Title': 'Used 2018 Ford Focus SE Hatchback', 'Price': '13,875', 'Mileage': '22,983', 'Drive Type': '2 wheel drive - front', 'Engine': '4-Cylinder', 'Transmission': '6-Speed Automatic', 'Fuel Type': 'Flexible Fuel', 'MPG': '26 City / 38 Highway', 'Exterior': 'Oxford White', 'Interior': 'Charcoal Black', 'VIN': '1FADP3K26JL298850'}\n",
      "{'Title': 'Used 2017 Ford Explorer FWD Limited', 'Price': '24,995', 'Mileage': '84,460', 'Drive Type': '2 wheel drive - front', 'Engine': '6-Cylinder', 'Transmission': '6-Speed Automatic', 'Fuel Type': 'Gasoline', 'MPG': '17 City / 24 Highway', 'Exterior': 'Ingot Silver Metallic', 'Interior': 'Ebony Black W/Perforated Leath', 'VIN': '1FM5K7F85HGC23185'}\n"
     ]
    },
    {
     "name": "stdout",
     "output_type": "stream",
     "text": [
      "{'Title': 'Used 2010 Ford Flex 2WD Limited', 'Price': '9,591', 'Mileage': '136,920', 'Drive Type': '2 wheel drive - front', 'Engine': '6-Cylinder', 'Transmission': '6-Speed Automatic', 'Fuel Type': 'Gasoline', 'MPG': '17 City / 24 Highway', 'Exterior': 'Cinnamon Metallic', 'Interior': 'Charcoal Black', 'VIN': '2FMGK5DC8ABB13989'}\n",
      "{'Title': 'New 2021 Chevrolet Silverado 1500 4x4 Crew Cab LT', 'Price': '39,283', 'Mileage': '0', 'Drive Type': '4 wheel drive', 'Engine': '8-Cylinder', 'Transmission': '8-Speed Automatic', 'Fuel Type': 'Gasoline', 'MPG': '5\\'10\"', 'Exterior': '19 City / 22 Highway', 'Interior': 'Satin Steel Metallic - Gray', 'VIN': 'Jet Black Cloth'}\n",
      "{'Title': 'Certified 2017 Ford Escape FWD S', 'Price': '16,570', 'Mileage': '14,365', 'Drive Type': '2 wheel drive - front', 'Engine': '4-Cylinder', 'Transmission': '6-Speed Automatic', 'Fuel Type': 'Gasoline', 'MPG': '21 City / 29 Highway', 'Exterior': 'Shadow Black', 'Interior': 'Charcoal Black', 'VIN': '1FMCU0F75HUC77359'}\n",
      "{'Title': 'Certified 2019 Chevrolet Suburban 4WD LT', 'Price': '42,950', 'Mileage': '49,594', 'Drive Type': '4 wheel drive', 'Engine': '8-Cylinder', 'Transmission': '6-Speed Automatic', 'Fuel Type': 'Flexible Fuel', 'MPG': '14 City / 21 Highway', 'Exterior': 'Black', 'Interior': 'Jet Black', 'VIN': '1GNSKHKC8KR364505'}\n",
      "{'Title': 'Used 2020 Chrysler Pacifica Touring-L', 'Price': '27,499', 'Mileage': '29,037', 'Drive Type': '2 wheel drive - front', 'Engine': '6-Cylinder', 'Transmission': '9-Speed Automatic', 'Fuel Type': 'Gasoline', 'MPG': '19 City / 28 Highway', 'Exterior': 'Velvet Red Pearlcoat', 'Interior': 'Alloy', 'VIN': '2C4RC1BG3LR112445'}\n",
      "{'Title': 'New 2020 Honda Accord Touring Hybrid', 'Price': '33,219', 'Mileage': '5', 'Drive Type': '2 wheel drive - front', 'Engine': '4-Cylinder', 'Transmission': 'Continuously Variable Automatic', 'Fuel Type': 'Hybrid Gas/Electric', 'MPG': 'Information Unavailable', 'Exterior': '48 City / 47 Highway', 'Interior': 'Platinum White', 'VIN': 'Black'}\n",
      "{'Title': 'Used 2017 Ford F150 XLT', 'Price': '29,990', 'Mileage': '10,922', 'Drive Type': '2 wheel drive - rear', 'Engine': '6-Cylinder Turbo', 'Transmission': '6-Speed Automatic', 'Fuel Type': 'Gasoline', 'MPG': '6\\'6\"', 'Exterior': '19 City / 26 Highway', 'Interior': 'Gray', 'VIN': 'Black'}\n",
      "{'Title': 'Used 2013 Tesla Model S', 'Price': '29,990', 'Mileage': '83,760', 'Drive Type': '2 wheel drive - rear', 'Engine': 'Electric', 'Transmission': 'Single-Speed', 'Fuel Type': '208 Miles', 'MPG': 'Black', 'Exterior': 'Black', 'Interior': '5YJSA1CN9DFP05972'}\n",
      "{'Title': 'Used 2019 Nissan Versa 1.6 SV', 'Price': '11,999', 'Mileage': '38,014', 'Drive Type': '2 wheel drive - front', 'Engine': '4-Cylinder', 'Transmission': 'Continuously Variable Automatic', 'Fuel Type': 'Gasoline', 'MPG': '31 City / 39 Highway', 'Exterior': 'Black', 'Interior': 'Charcoal', 'VIN': '3N1CN7AP4KL838799'}\n",
      "{'Title': 'Used 2019 Ford Mustang GT Convertible', 'Price': '40,495', 'Mileage': '5,333', 'Drive Type': '2 wheel drive - rear', 'Engine': '8-Cylinder', 'Transmission': 'Automatic', 'Fuel Type': 'Gasoline', 'MPG': '15 City / 24 Highway', 'Exterior': 'Oxford White - White', 'Interior': 'Ceramic Leather', 'VIN': '1FATP8FF0K5192860'}\n",
      "{'Title': 'Used 2009 Ford F150 XLT', 'Price': '9,995', 'Mileage': '179,934', 'Drive Type': '4 wheel drive', 'Engine': '8-Cylinder', 'Transmission': '6-Speed Automatic', 'Fuel Type': 'Gasoline', 'MPG': '14 City / 18 Highway', 'Exterior': 'Brilliant Silver Clearcoat Metallic', 'Interior': 'Medium Stone', 'VIN': '1FTRX148X9FB27812'}\n",
      "{'Title': 'Used 2020 Chevrolet Trax AWD LS', 'Price': '23,510', 'Mileage': '2', 'Drive Type': 'All wheel drive', 'Engine': '4-Cylinder Turbo', 'Transmission': '6-Speed Automatic', 'Fuel Type': 'Gasoline', 'MPG': '24 City / 29 Highway', 'Exterior': 'Gan Silver Ice Metallic', 'Interior': 'Afj Jet Black', 'VIN': 'KL7CJNSB7LB322615'}\n",
      "{'Title': 'Certified 2018 Ford Escape FWD Titanium', 'Price': '17,988', 'Mileage': '51,105', 'Drive Type': '2 wheel drive - front', 'Engine': '4-Cylinder Turbo', 'Transmission': '6-Speed Automatic', 'Fuel Type': 'Gasoline', 'MPG': '21 City / 28 Highway', 'Exterior': 'Blue Metallic', 'Interior': 'Medium Light Stone', 'VIN': '1FMCU0J93JUB84919'}\n",
      "{'Title': 'Used 2014 Chevrolet Impala LT', 'Price': '12,990', 'Mileage': '112,873', 'Drive Type': '2 wheel drive - front', 'Engine': '6-Cylinder', 'Transmission': '6-Speed Automatic', 'Fuel Type': 'Flexible Fuel', 'MPG': '19 City / 28 Highway', 'Exterior': 'Champagne Silver Metallic', 'Interior': 'Dark Titanium/Jet Black W/Sued', 'VIN': '2G1125S3XE9312044'}\n",
      "{'Title': 'Used 2015 Chevrolet Tahoe 2WD LS', 'Price': '26,969', 'Mileage': '80,139', 'Drive Type': '2 wheel drive - rear', 'Engine': '8-Cylinder', 'Transmission': '6-Speed Automatic', 'Fuel Type': 'Gasoline', 'MPG': '16 City / 23 Highway', 'Exterior': 'Black', 'Interior': 'Jet Black', 'VIN': '1GNSCAKC1FR648486'}\n",
      "{'Title': 'Used 2017 Hyundai Tucson Limited', 'Price': '18,972', 'Mileage': '67,686', 'Drive Type': '2 wheel drive - front', 'Engine': '4-Cylinder Turbo', 'Transmission': '7-Speed Automatic', 'Fuel Type': 'Gasoline', 'MPG': '25 City / 30 Highway', 'Exterior': 'Ruby Wine', 'Interior': 'Beige', 'VIN': 'KM8J33A27HU323264'}\n",
      "{'Title': 'Used 2018 Volkswagen Tiguan SEL', 'Price': '21,500', 'Mileage': '38,141', 'Drive Type': '2 wheel drive - front', 'Engine': '4-Cylinder Turbo', 'Transmission': '8-Speed Automatic', 'Fuel Type': 'Gasoline', 'MPG': '22 City / 27 Highway', 'Exterior': 'Silk Blue Metallic', 'Interior': 'Titan Black', 'VIN': '3VV3B7AXXJM008425'}\n",
      "{'Title': 'Certified 2018 Chevrolet Silverado 1500 LTZ', 'Price': '46,450', 'Mileage': '15,366', 'Drive Type': '4 wheel drive', 'Engine': '8-Cylinder', 'Transmission': '8-Speed Automatic', 'Fuel Type': 'Gasoline', 'MPG': '5\\'10\"', 'Exterior': '16 City / 22 Highway', 'Interior': 'Summit White', 'VIN': 'Jet Black'}\n",
      "{'Title': 'Used 2011 Toyota Highlander Limited', 'Price': '11,619', 'Mileage': '176,044', 'Drive Type': '4 wheel drive', 'Engine': '6-Cylinder', 'Transmission': '5-Speed Automatic', 'Fuel Type': 'Gasoline', 'MPG': '17 City / 22 Highway', 'Exterior': 'Nautical Blue Metallic', 'Interior': 'Black', 'VIN': '5TDDK3EHXBS082816'}\n",
      "{'Title': 'Certified 2019 Honda Odyssey EX-L', 'Price': '33,079', 'Mileage': '17,313', 'Drive Type': '2 wheel drive - front', 'Engine': '6-Cylinder', 'Transmission': '9-Speed Automatic', 'Fuel Type': 'Gasoline', 'MPG': '19 City / 28 Highway', 'Exterior': 'White Diamond Pearl', 'Interior': 'Beige', 'VIN': '5FNRL6H76KB100014'}\n",
      "{'Title': 'Used 2020 Volkswagen Tiguan SE', 'Price': '25,875', 'Mileage': '9,952', 'Drive Type': 'All wheel drive', 'Engine': '4-Cylinder Turbo', 'Transmission': '8-Speed Automatic', 'Fuel Type': 'Gasoline', 'MPG': '20 City / 27 Highway', 'Exterior': 'Silver', 'Interior': 'Titan Black', 'VIN': '3VV2B7AX5LM060155'}\n",
      "{'Title': 'Used 2019 GMC Terrain FWD SLE', 'Price': '20,695', 'Mileage': '21,908', 'Drive Type': '2 wheel drive - front', 'Engine': '4-Cylinder Turbo', 'Transmission': '9-Speed Automatic', 'Fuel Type': 'Gasoline', 'MPG': '26 City / 30 Highway', 'Exterior': 'Red Quartz Tintcoat', 'Interior': 'Jet Black', 'VIN': '3GKALMEV9KL144440'}\n",
      "{'Title': 'Used 2019 Toyota Camry SE', 'Price': '19,991', 'Mileage': '39,601', 'Drive Type': '2 wheel drive - front', 'Engine': '4-Cylinder', 'Transmission': '8-Speed Automatic', 'Fuel Type': 'Gasoline', 'MPG': '29 City / 41 Highway', 'Exterior': 'Super White', 'Interior': 'Black', 'VIN': '4T1B11HK6KU793183'}\n",
      "{'Title': 'Used 2015 Dodge Charger SE w/ Sport Appearance Group', 'Price': '18,995', 'Mileage': '48,030', 'Drive Type': '2 wheel drive - rear', 'Engine': '6-Cylinder', 'Transmission': '8-Speed Automatic', 'Fuel Type': 'Gasoline', 'MPG': '19 City / 30 Highway', 'Exterior': 'Billet Silver Metallic Clearcoat', 'Interior': 'Black W/Cloth Seats Or Sport C', 'VIN': '2C3CDXBG3FH866885'}\n",
      "{'Title': 'Certified 2017 Ford Escape FWD SE', 'Price': '16,976', 'Mileage': '15,016', 'Drive Type': '2 wheel drive - front', 'Engine': '4-Cylinder Turbo', 'Transmission': '6-Speed Automatic', 'Fuel Type': 'Gasoline', 'MPG': '23 City / 30 Highway', 'Exterior': 'Magnetic Metallic', 'Interior': 'Charcoal Black', 'VIN': '1FMCU0GD9HUC94072'}\n"
     ]
    },
    {
     "name": "stdout",
     "output_type": "stream",
     "text": [
      "{'Title': 'Used 2016 Nissan Rogue SL', 'Price': '18,895', 'Mileage': '35,281', 'Drive Type': 'All wheel drive', 'Engine': '4-Cylinder', 'Transmission': 'Continuously Variable Automatic', 'Fuel Type': 'Gasoline', 'MPG': '25 City / 31 Highway', 'Exterior': 'Magnetic Black', 'Interior': 'Charcoal', 'VIN': '5N1AT2MV7GC762338'}\n",
      "{'Title': 'Used 2019 Nissan Sentra SV', 'Price': '13,939', 'Mileage': '31,705', 'Drive Type': '2 wheel drive - front', 'Engine': '4-Cylinder', 'Transmission': 'Continuously Variable Automatic', 'Fuel Type': 'Gasoline', 'MPG': '29 City / 37 Highway', 'Exterior': 'Brilliant Silver Metallic', 'Interior': 'Charcoal', 'VIN': '3N1AB7AP8KY299218'}\n",
      "{'Title': 'Used 2017 Chevrolet Silverado 1500 LT', 'Price': '35,950', 'Mileage': '30,973', 'Drive Type': '4 wheel drive', 'Engine': '8-Cylinder', 'Transmission': '6-Speed Automatic', 'Fuel Type': 'Gasoline', 'MPG': '5\\'10\"', 'Exterior': '16 City / 22 Highway', 'Interior': 'Black', 'VIN': 'Jet Black'}\n",
      "{'Title': 'Used 2017 GMC Acadia FWD SLE w/ SLE-2', 'Price': '20,188', 'Mileage': '69,579', 'Drive Type': '2 wheel drive - front', 'Engine': '4-Cylinder', 'Transmission': '6-Speed Automatic', 'Fuel Type': 'Gasoline', 'MPG': '21 City / 26 Highway', 'Exterior': 'Quicksilver Metallic', 'Interior': 'Jet Black', 'VIN': '1GKKNLLA4HZ272739'}\n",
      "{'Title': 'Used 2018 RAM 1500 Big Horn', 'Price': '33,950', 'Mileage': '21,940', 'Drive Type': '4 wheel drive', 'Engine': '8-Cylinder', 'Transmission': '8-Speed Automatic', 'Fuel Type': 'Gasoline', 'MPG': '6\\'5\"', 'Exterior': '15 City / 21 Highway', 'Interior': 'Delmonico Red Pearlcoat', 'VIN': 'Black'}\n",
      "{'Title': 'Used 2018 Chevrolet Silverado 1500 4x4 Crew Cab LTZ', 'Price': '43,495', 'Mileage': '12,950', 'Drive Type': '4 wheel drive', 'Engine': '8-Cylinder', 'Transmission': '6-Speed Automatic', 'Fuel Type': 'Gasoline', 'MPG': '5\\'10\"', 'Exterior': '16 City / 22 Highway', 'Interior': 'Silver Ice Metallic - Gray', 'VIN': 'Dark Ash With Jet Black Interi'}\n",
      "{'Title': 'Used 2019 Toyota RAV4 AWD LE', 'Price': '23,388', 'Mileage': '27,996', 'Drive Type': 'All wheel drive', 'Engine': '4-Cylinder', 'Transmission': '8-Speed Automatic', 'Fuel Type': 'Gasoline', 'MPG': '27 City / 34 Highway', 'Exterior': 'Silver Sky Metallic', 'Interior': 'Black', 'VIN': '2T3F1RFV3KW029599'}\n",
      "{'Title': 'Used 2012 Lexus RX 350 AWD', 'Price': '20,990', 'Mileage': '39,752', 'Drive Type': 'All wheel drive', 'Engine': '6-Cylinder', 'Transmission': '6-Speed Automatic', 'Fuel Type': 'Gasoline', 'MPG': '18 City / 24 Highway', 'Exterior': 'Red', 'Interior': 'Black', 'VIN': '2T2BK1BA2CC129555'}\n",
      "{'Title': 'Used 2016 Nissan Altima 3.5 SL', 'Price': '14,443', 'Mileage': '74,351', 'Drive Type': '2 wheel drive - front', 'Engine': '6-Cylinder', 'Transmission': 'Continuously Variable Automatic', 'Fuel Type': 'Gasoline', 'MPG': '22 City / 31 Highway', 'Exterior': 'Super Black', 'Interior': 'Charcoal', 'VIN': '1N4BL3AP6GC144535'}\n",
      "{'Title': 'Used 2015 Toyota 4Runner SR5', 'Price': '30,990', 'Mileage': '51,905', 'Drive Type': '4 wheel drive', 'Engine': '6-Cylinder', 'Transmission': '5-Speed Automatic', 'Fuel Type': 'Gasoline', 'MPG': '17 City / 21 Highway', 'Exterior': 'Gray', 'Interior': 'Black', 'VIN': 'JTEBU5JR0F5271588'}\n",
      "{'Title': 'Used 2019 Dodge Durango AWD SXT', 'Price': '35,995', 'Mileage': '16,140', 'Drive Type': 'All wheel drive', 'Engine': '6-Cylinder', 'Transmission': '8-Speed Automatic', 'Fuel Type': 'Gasoline', 'MPG': '18 City / 25 Highway', 'Exterior': 'White Knuckle Clearcoat', 'Interior': 'Black W/Cloth Low-Back Bucket ', 'VIN': '1C4RDJAG0KC764428'}\n",
      "{'Title': 'Used 2019 Kia Sorento LX', 'Price': '20,499', 'Mileage': '19,345', 'Drive Type': '2 wheel drive - front', 'Engine': '4-Cylinder', 'Transmission': '6-Speed Automatic', 'Fuel Type': 'Gasoline', 'MPG': '22 City / 29 Highway', 'Exterior': 'Silver', 'Interior': 'Satin Black', 'VIN': '5XYPG4A31KG553702'}\n",
      "{'Title': 'New 2020 Buick Encore FWD Preferred', 'Price': '26,390MSRP', 'Mileage': '6', 'Drive Type': '2 wheel drive - front', 'Engine': '4-Cylinder Turbo', 'Transmission': '6-Speed Automatic', 'Fuel Type': 'Gasoline', 'MPG': '25 City / 30 Highway', 'Exterior': 'Summit White - White', 'Interior': 'Ebony Leather', 'VIN': 'KL4CJASB7LB080656'}\n",
      "{'Title': 'Certified 2015 GMC Sierra 1500 SLT', 'Price': '33,950', 'Mileage': '26,233', 'Drive Type': '4 wheel drive', 'Engine': '8-Cylinder', 'Transmission': '6-Speed Automatic', 'Fuel Type': 'Gasoline', 'MPG': '6\\'7\"', 'Exterior': '16 City / 22 Highway', 'Interior': 'Onyx Black', 'VIN': 'Jet Black'}\n",
      "{'Title': 'New 2021 Chevrolet Silverado 1500 4x4 Crew Cab LTZ', 'Price': '45,335', 'Mileage': '0', 'Drive Type': '4 wheel drive', 'Engine': '8-Cylinder', 'Transmission': '8-Speed Automatic', 'Fuel Type': 'Gasoline', 'MPG': '5\\'10\"', 'Exterior': '16 City / 22 Highway', 'Interior': 'Black - Black', 'VIN': 'Jet Black Leather'}\n",
      "{'Title': 'Used 2017 Ford Fusion SE Hybrid', 'Price': '14,995', 'Mileage': '51,788', 'Drive Type': '2 wheel drive - front', 'Engine': '4-Cylinder', 'Transmission': 'Continuously Variable Automatic', 'Fuel Type': 'Hybrid Gas/Electric', 'MPG': 'Information Unavailable', 'Exterior': '43 City / 41 Highway', 'Interior': 'Ruby Red Metallic Tinted Clearcoat', 'VIN': 'Ebony'}\n",
      "{'Title': 'New 2020 Honda CR-V AWD EX', 'Price': '28,493', 'Mileage': '5', 'Drive Type': 'All wheel drive', 'Engine': '4-Cylinder Turbo', 'Transmission': 'Continuously Variable Automatic', 'Fuel Type': 'Gasoline', 'MPG': '27 City / 32 Highway', 'Exterior': 'Lunar Silver Metallic', 'Interior': 'Gray', 'VIN': '2HKRW2H55LH685623'}\n",
      "{'Title': 'Used 2017 Ford F250 XLT', 'Price': '45,955', 'Mileage': '72,721', 'Drive Type': '4 wheel drive', 'Engine': '8-Cylinder Turbo', 'Transmission': '6-Speed Automatic', 'Fuel Type': 'Diesel', 'MPG': 'Information Unavailable', 'Exterior': 'Ruby Red Metallic Tinted Clearcoat', 'Interior': 'Camel', 'VIN': '1FT7W2BT0HED08770'}\n",
      "{'Title': 'Used 2018 Chevrolet Malibu LT w/ 1LT', 'Price': '18,488', 'Mileage': '43,008', 'Drive Type': '2 wheel drive - front', 'Engine': '4-Cylinder Turbo', 'Transmission': '6-Speed Automatic', 'Fuel Type': 'Gasoline', 'MPG': '27 City / 36 Highway', 'Exterior': 'Summit White', 'Interior': 'Jet Black W/Leather-Appointed ', 'VIN': '1G1ZD5ST2JF237614'}\n",
      "{'Title': 'Used 2019 GMC Terrain FWD SLE', 'Price': '20,695', 'Mileage': '21,908', 'Drive Type': '2 wheel drive - front', 'Engine': '4-Cylinder Turbo', 'Transmission': '9-Speed Automatic', 'Fuel Type': 'Gasoline', 'MPG': '26 City / 30 Highway', 'Exterior': 'Red Quartz Tintcoat', 'Interior': 'Jet Black', 'VIN': '3GKALMEV9KL144440'}\n",
      "{'Title': 'Used 2019 Buick Encore AWD Essence', 'Price': '23,990', 'Mileage': '15,151', 'Drive Type': 'All wheel drive', 'Engine': '4-Cylinder Turbo', 'Transmission': '6-Speed Automatic', 'Fuel Type': 'Gasoline', 'MPG': '24 City / 29 Highway', 'Exterior': 'White Frost Tricoat', 'Interior': 'Shale/Ebony Accents W/Leather-', 'VIN': 'KL4CJGSM6KB952781'}\n",
      "{'Title': 'Used 2014 Ford Escape FWD SE', 'Price': '11,000', 'Mileage': '88,193', 'Drive Type': '2 wheel drive - front', 'Engine': '4-Cylinder Turbo', 'Transmission': '6-Speed Automatic', 'Fuel Type': 'Gasoline', 'MPG': '22 City / 29 Highway', 'Exterior': 'Oxford White', 'Interior': 'Charcoal Black', 'VIN': '1FMCU0G94EUB15847'}\n",
      "{'Title': 'New 2021 Kia K5 LXS', 'Price': '26,375MSRP', 'Mileage': '16', 'Drive Type': '2 wheel drive - front', 'Engine': '4-Cylinder Turbo', 'Transmission': '8-Speed Automatic', 'Fuel Type': 'Gasoline', 'MPG': '27 City / 37 Highway', 'Exterior': 'Ebony Black', 'Interior': 'Sand', 'VIN': '5XXG14J21MG011869'}\n",
      "{'Title': 'Certified 2017 Honda Accord Sport Sedan', 'Price': '17,379', 'Mileage': '78,001', 'Drive Type': '2 wheel drive - front', 'Engine': '4-Cylinder', 'Transmission': 'Continuously Variable Automatic', 'Fuel Type': 'Gasoline', 'MPG': '27 City / 36 Highway', 'Exterior': 'White Orchid Pearl', 'Interior': 'Black', 'VIN': '1HGCR2F50HA130739'}\n",
      "{'Title': 'Used 2018 Nissan Altima 2.5 SV Sedan', 'Price': '12,495', 'Mileage': '33,220', 'Drive Type': '2 wheel drive - front', 'Engine': '4-Cylinder', 'Transmission': 'Continuously Variable Automatic', 'Fuel Type': 'Gasoline', 'MPG': '27 City / 38 Highway', 'Exterior': 'Gray', 'Interior': 'Black', 'VIN': '1N4AL3AP5JC251689'}\n"
     ]
    },
    {
     "name": "stdout",
     "output_type": "stream",
     "text": [
      "{'Title': 'Used 2014 Toyota 4Runner Limited', 'Price': '27,590', 'Mileage': '88,403', 'Drive Type': '4 wheel drive', 'Engine': '6-Cylinder', 'Transmission': '5-Speed Automatic', 'Fuel Type': 'Gasoline', 'MPG': '17 City / 21 Highway', 'Exterior': 'Black', 'Interior': 'Beige', 'VIN': 'JTEBU5JR9E5151531'}\n",
      "{'Title': 'Used 2017 Jeep Grand Cherokee 4WD Laredo', 'Price': '25,700', 'Mileage': '24,798', 'Drive Type': '4 wheel drive', 'Engine': '6-Cylinder', 'Transmission': '8-Speed Automatic', 'Fuel Type': 'Gasoline', 'MPG': '18 City / 25 Highway', 'Exterior': 'Diamond Black Crystal Pearlcoat', 'Interior': 'Black', 'VIN': '1C4RJFAG8HC749741'}\n",
      "{'Title': 'Used 2016 Ford Fusion SE', 'Price': '15,391', 'Mileage': '47,703', 'Drive Type': '2 wheel drive - front', 'Engine': '4-Cylinder Turbo', 'Transmission': '6-Speed Automatic', 'Fuel Type': 'Gasoline', 'MPG': '22 City / 34 Highway', 'Exterior': 'Shadow Black', 'Interior': 'Ebony', 'VIN': '3FA6P0HD3GR169166'}\n",
      "{'Title': 'Used 2020 Chevrolet Blazer AWD LT w/ 3LT', 'Price': '37,990', 'Mileage': '6,943', 'Drive Type': 'All wheel drive', 'Engine': '6-Cylinder', 'Transmission': '9-Speed Automatic', 'Fuel Type': 'Gasoline', 'MPG': '18 City / 25 Highway', 'Exterior': 'Summit White', 'Interior': 'Jet Black W/Perforated Leather', 'VIN': '3GNKBJRS0LS585891'}\n",
      "{'Title': 'Used 2020 Nissan Altima 2.5 SL', 'Price': '20,999', 'Mileage': '35,775', 'Drive Type': '2 wheel drive - front', 'Engine': '4-Cylinder', 'Transmission': 'Continuously Variable Automatic', 'Fuel Type': 'Gasoline', 'MPG': '28 City / 39 Highway', 'Exterior': 'Brilliant Silver Metallic', 'Interior': 'Charcoal', 'VIN': '1N4BL4EV2LC163477'}\n"
     ]
    }
   ],
   "source": [
    "url_records_test = url_records[::50]\n",
    "\n",
    "for url in url_records:\n",
    "    get_data(get_page(url))\n",
    "    car_urls = get_index_data(get_page(url))\n",
    "\n",
    "    for idx, link in enumerate(car_urls):\n",
    "        data = get_data(get_page(link))\n",
    "        write_csv(data)\n",
    "    \n",
    "        if idx % 25 == 0:\n",
    "            print(f'{idx} iteration complete')\n",
    "            print(data)\n",
    "            print('-----------------------------------------------------------')"
   ]
  },
  {
   "cell_type": "code",
   "execution_count": 186,
   "metadata": {},
   "outputs": [
    {
     "name": "stdout",
     "output_type": "stream",
     "text": [
      "[NbConvertApp] Converting notebook kbb-scraper.ipynb to script\n",
      "[NbConvertApp] Writing 3521 bytes to kbb-scraper.py\n"
     ]
    }
   ],
   "source": [
    "!jupyter nbconvert --to script kbb-scraper.ipynb"
   ]
  },
  {
   "cell_type": "code",
   "execution_count": null,
   "metadata": {},
   "outputs": [],
   "source": []
  }
 ],
 "metadata": {
  "kernelspec": {
   "display_name": "Python 3",
   "language": "python",
   "name": "python3"
  },
  "language_info": {
   "codemirror_mode": {
    "name": "ipython",
    "version": 3
   },
   "file_extension": ".py",
   "mimetype": "text/x-python",
   "name": "python",
   "nbconvert_exporter": "python",
   "pygments_lexer": "ipython3",
   "version": "3.7.6"
  }
 },
 "nbformat": 4,
 "nbformat_minor": 4
}
