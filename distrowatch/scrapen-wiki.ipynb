{
 "metadata": {
  "language_info": {
   "codemirror_mode": {
    "name": "ipython",
    "version": 3
   },
   "file_extension": ".py",
   "mimetype": "text/x-python",
   "name": "python",
   "nbconvert_exporter": "python",
   "pygments_lexer": "ipython3",
   "version": "3.8.5-final"
  },
  "orig_nbformat": 2,
  "kernelspec": {
   "name": "python3",
   "display_name": "Python 3",
   "language": "python"
  }
 },
 "nbformat": 4,
 "nbformat_minor": 2,
 "cells": [
  {
   "cell_type": "code",
   "execution_count": 8,
   "metadata": {},
   "outputs": [],
   "source": [
    "import pandas as pd \n",
    "import numpy as np \n",
    "import matplotlib.pyplot as plt \n",
    "import requests\n",
    "from bs4 import BeautifulSoup as bs  \n",
    "plt.style.use(['dark_background'])"
   ]
  },
  {
   "cell_type": "code",
   "execution_count": 7,
   "metadata": {},
   "outputs": [
    {
     "output_type": "execute_result",
     "data": {
      "text/plain": [
       "         ranks  1_month  3_months  6_months  12_months  rating  image_size  \\\n",
       "mx           1     3464      3407      3413       3959     8.7        1700   \n",
       "manjaro      2     2532      2451      2341       2713     8.4        1670   \n",
       "mint         3     1987      1948      2094       2355     8.7        1900   \n",
       "popos        4     2242      2204      1821       1400     8.5        2450   \n",
       "ubuntu       5     1271      1410      1378       1610     7.4        1670   \n",
       "\n",
       "         desk_kde  desk_xfce  desk_budgie  ...  init_sysv  init_oprc  \\\n",
       "mx              1          1            0  ...          1          0   \n",
       "manjaro         1          1            1  ...          0          0   \n",
       "mint            0          1            0  ...          0          0   \n",
       "popos           0          0            0  ...          0          0   \n",
       "ubuntu          0          0            0  ...          0          0   \n",
       "\n",
       "         init_other  jour_ext4  jour_ext3  jour_xfs  jour_btrfs  jour_reiser  \\\n",
       "mx                0          1          1         1           0            1   \n",
       "manjaro           0          1          1         1           1            1   \n",
       "mint              0          1          1         1           1            1   \n",
       "popos             0          1          0         0           1            0   \n",
       "ubuntu            0          1          1         1           1            1   \n",
       "\n",
       "         journ_oth  multiling  \n",
       "mx               0          1  \n",
       "manjaro          0          1  \n",
       "mint             0          1  \n",
       "popos            0          1  \n",
       "ubuntu           0          1  \n",
       "\n",
       "[5 rows x 68 columns]"
      ],
      "text/html": "<div>\n<style scoped>\n    .dataframe tbody tr th:only-of-type {\n        vertical-align: middle;\n    }\n\n    .dataframe tbody tr th {\n        vertical-align: top;\n    }\n\n    .dataframe thead th {\n        text-align: right;\n    }\n</style>\n<table border=\"1\" class=\"dataframe\">\n  <thead>\n    <tr style=\"text-align: right;\">\n      <th></th>\n      <th>ranks</th>\n      <th>1_month</th>\n      <th>3_months</th>\n      <th>6_months</th>\n      <th>12_months</th>\n      <th>rating</th>\n      <th>image_size</th>\n      <th>desk_kde</th>\n      <th>desk_xfce</th>\n      <th>desk_budgie</th>\n      <th>...</th>\n      <th>init_sysv</th>\n      <th>init_oprc</th>\n      <th>init_other</th>\n      <th>jour_ext4</th>\n      <th>jour_ext3</th>\n      <th>jour_xfs</th>\n      <th>jour_btrfs</th>\n      <th>jour_reiser</th>\n      <th>journ_oth</th>\n      <th>multiling</th>\n    </tr>\n  </thead>\n  <tbody>\n    <tr>\n      <th>mx</th>\n      <td>1</td>\n      <td>3464</td>\n      <td>3407</td>\n      <td>3413</td>\n      <td>3959</td>\n      <td>8.7</td>\n      <td>1700</td>\n      <td>1</td>\n      <td>1</td>\n      <td>0</td>\n      <td>...</td>\n      <td>1</td>\n      <td>0</td>\n      <td>0</td>\n      <td>1</td>\n      <td>1</td>\n      <td>1</td>\n      <td>0</td>\n      <td>1</td>\n      <td>0</td>\n      <td>1</td>\n    </tr>\n    <tr>\n      <th>manjaro</th>\n      <td>2</td>\n      <td>2532</td>\n      <td>2451</td>\n      <td>2341</td>\n      <td>2713</td>\n      <td>8.4</td>\n      <td>1670</td>\n      <td>1</td>\n      <td>1</td>\n      <td>1</td>\n      <td>...</td>\n      <td>0</td>\n      <td>0</td>\n      <td>0</td>\n      <td>1</td>\n      <td>1</td>\n      <td>1</td>\n      <td>1</td>\n      <td>1</td>\n      <td>0</td>\n      <td>1</td>\n    </tr>\n    <tr>\n      <th>mint</th>\n      <td>3</td>\n      <td>1987</td>\n      <td>1948</td>\n      <td>2094</td>\n      <td>2355</td>\n      <td>8.7</td>\n      <td>1900</td>\n      <td>0</td>\n      <td>1</td>\n      <td>0</td>\n      <td>...</td>\n      <td>0</td>\n      <td>0</td>\n      <td>0</td>\n      <td>1</td>\n      <td>1</td>\n      <td>1</td>\n      <td>1</td>\n      <td>1</td>\n      <td>0</td>\n      <td>1</td>\n    </tr>\n    <tr>\n      <th>popos</th>\n      <td>4</td>\n      <td>2242</td>\n      <td>2204</td>\n      <td>1821</td>\n      <td>1400</td>\n      <td>8.5</td>\n      <td>2450</td>\n      <td>0</td>\n      <td>0</td>\n      <td>0</td>\n      <td>...</td>\n      <td>0</td>\n      <td>0</td>\n      <td>0</td>\n      <td>1</td>\n      <td>0</td>\n      <td>0</td>\n      <td>1</td>\n      <td>0</td>\n      <td>0</td>\n      <td>1</td>\n    </tr>\n    <tr>\n      <th>ubuntu</th>\n      <td>5</td>\n      <td>1271</td>\n      <td>1410</td>\n      <td>1378</td>\n      <td>1610</td>\n      <td>7.4</td>\n      <td>1670</td>\n      <td>0</td>\n      <td>0</td>\n      <td>0</td>\n      <td>...</td>\n      <td>0</td>\n      <td>0</td>\n      <td>0</td>\n      <td>1</td>\n      <td>1</td>\n      <td>1</td>\n      <td>1</td>\n      <td>1</td>\n      <td>0</td>\n      <td>1</td>\n    </tr>\n  </tbody>\n</table>\n<p>5 rows × 68 columns</p>\n</div>"
     },
     "metadata": {},
     "execution_count": 7
    }
   ],
   "source": [
    "df = pd.read_csv('data/df-ohe.csv', index_col=0)\n",
    "df.head()"
   ]
  },
  {
   "cell_type": "code",
   "execution_count": 20,
   "metadata": {},
   "outputs": [],
   "source": [
    "import pickle\n",
    "\n",
    "with open('data/href2distro.pickle', 'rb') as f:\n",
    "    href2distro = pickle.load(f)\n",
    "\n",
    "distro2href = {b: a for a, b in href2distro.items()}"
   ]
  },
  {
   "cell_type": "code",
   "execution_count": 25,
   "metadata": {},
   "outputs": [],
   "source": [
    "dfs = pd.read_html('https://en.wikipedia.org/wiki/Comparison_of_Linux_distributions')\n",
    "\n",
    "general = dfs[3]\n",
    "technical = dfs[4]\n",
    "architecture = dfs[5]\n",
    "pack_manage = dfs[6]\n",
    "live_media = dfs[7]"
   ]
  },
  {
   "cell_type": "code",
   "execution_count": null,
   "metadata": {},
   "outputs": [],
   "source": []
  }
 ]
}