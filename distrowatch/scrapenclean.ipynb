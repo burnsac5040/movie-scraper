{
 "metadata": {
  "language_info": {
   "codemirror_mode": {
    "name": "ipython",
    "version": 3
   },
   "file_extension": ".py",
   "mimetype": "text/x-python",
   "name": "python",
   "nbconvert_exporter": "python",
   "pygments_lexer": "ipython3",
   "version": "3.8.5-final"
  },
  "orig_nbformat": 2,
  "kernelspec": {
   "name": "python3",
   "display_name": "Python 3",
   "language": "python"
  }
 },
 "nbformat": 4,
 "nbformat_minor": 2,
 "cells": [
  {
   "cell_type": "code",
   "execution_count": 1,
   "metadata": {},
   "outputs": [],
   "source": [
    "import requests\n",
    "from bs4 import BeautifulSoup as bs \n",
    "\n",
    "import numpy as np \n",
    "import pandas as pd \n",
    "import time, re, json, pickle"
   ]
  },
  {
   "cell_type": "code",
   "execution_count": 2,
   "metadata": {},
   "outputs": [],
   "source": [
    "url = 'https://distrowatch.com/search.php?status=All'\n",
    "base_url = 'https://distrowatch.com/'\n",
    "\n",
    "r = requests.get(url)\n",
    "soup = bs(r.text, 'html.parser')"
   ]
  },
  {
   "cell_type": "code",
   "execution_count": 3,
   "metadata": {},
   "outputs": [
    {
     "output_type": "execute_result",
     "data": {
      "text/plain": [
       "<b>1. <a href=\"mx\">MX Linux</a> (1)</b>"
      ]
     },
     "metadata": {},
     "execution_count": 3
    }
   ],
   "source": [
    "b = soup.find_all('b')\n",
    "b[21]"
   ]
  },
  {
   "cell_type": "code",
   "execution_count": 4,
   "metadata": {},
   "outputs": [],
   "source": [
    "ranking = soup.find_all('b')[21:]\n",
    "\n",
    "distros = [a.get_text() for a in ranking if a.find('a') is not None]\n",
    "hrefs = [a.find('a')['href'] for a in ranking if a.find('a') is not None]\n",
    "\n",
    "ranked_distros = distros[:275]\n",
    "ranked_hrefs = hrefs[:275]"
   ]
  },
  {
   "source": [
    "## Analyzing Single Page"
   ],
   "cell_type": "markdown",
   "metadata": {}
  },
  {
   "cell_type": "code",
   "execution_count": 5,
   "metadata": {},
   "outputs": [],
   "source": [
    "r = requests.get(base_url + hrefs[1])\n",
    "soup = bs(r.content, 'html.parser')"
   ]
  },
  {
   "cell_type": "code",
   "execution_count": 6,
   "metadata": {},
   "outputs": [],
   "source": [
    "# Distro Name\n",
    "name = soup.find('h1').text\n",
    "\n",
    "# OS Information\n",
    "out = soup.select('ul')[1]\n",
    "\n",
    "outline_ = out.find_all('b')\n",
    "outline = [b.get_text() for b in outline_]\n",
    "\n",
    "os_info_ = out.find_all('a')\n",
    "os_info = [spec.get_text(strip=True) for spec in os_info_]"
   ]
  },
  {
   "cell_type": "code",
   "execution_count": 7,
   "metadata": {},
   "outputs": [
    {
     "output_type": "stream",
     "name": "stdout",
     "text": [
      "['OS Type:', 'Based on:', 'Origin:', 'Architecture:', 'Desktop:', 'Category:', 'Status:', 'Popularity:']\n\n['Linux', 'Arch', 'Austria, Germany, France', 'aarch64', 'x86_64', 'Awesome', 'bspwm', 'Budgie', 'Cinnamon', 'GNOME', 'i3', 'KDE Plasma', 'LXQt', 'MATE', 'Openbox', 'Xfce', 'Desktop', 'Live Medium', 'Raspberry Pi', '2 (2,343 hits per day)']\n\nOS Type: LinuxBased on: ArchOrigin: Austria, Germany, France\nArchitecture: aarch64, x86_64Desktop: Awesome, bspwm, Budgie, Cinnamon, GNOME, i3, KDE Plasma, LXQt, MATE, Openbox, XfceCategory: Desktop, Live Medium, Raspberry Pi Status: ActivePopularity: 2 (2,343 hits per day)\n\n"
     ]
    }
   ],
   "source": [
    "print(outline)\n",
    "print()\n",
    "print(os_info)\n",
    "\n",
    "t = out.text\n",
    "print()\n",
    "print(t)"
   ]
  },
  {
   "cell_type": "code",
   "execution_count": 8,
   "metadata": {},
   "outputs": [],
   "source": [
    "def get_os_info(text):\n",
    "    t = text\n",
    "\n",
    "    split_index = [i for i, e in enumerate(t) if e.islower() and t[i+1].isupper()\n",
    "                                        or e.isnumeric() and t[i+1].isupper()]\n",
    "\n",
    "    for i, j in enumerate(split_index, start=1):\n",
    "        t = t[:j+i] + ' ' + t[j+i:]\n",
    "\n",
    "    t = re.sub(r'\\n', ' ', t)\n",
    "\n",
    "    # a = re.search(r'\\b(OS Type):', t).span()[0]\n",
    "    b = re.search(r'\\b(Based on):', t).span()[0]\n",
    "    c = re.search(r'\\b(Origin):', t).span()[0]\n",
    "    d = re.search(r'\\b(Architecture):', t).span()[0]\n",
    "    e = re.search(r'\\b(Desktop):', t).span()[0]\n",
    "    f = re.search(r'\\b(Category):', t).span()[0]\n",
    "    g = re.search(r'\\b(Status):', t).span()[0]\n",
    "    h = re.search(r'\\b(Popularity):', t).span()[0]\n",
    "\n",
    "    idx = [b, c, d, e, f, g, h]\n",
    "\n",
    "    split_list = [t[i:j].strip() for i, j in zip(idx, idx[1:]+[None])]\n",
    "\n",
    "    return split_list"
   ]
  },
  {
   "cell_type": "code",
   "execution_count": 9,
   "metadata": {},
   "outputs": [
    {
     "output_type": "execute_result",
     "data": {
      "text/plain": [
       "'Austria, Germany, France'"
      ]
     },
     "metadata": {},
     "execution_count": 9
    }
   ],
   "source": [
    "text = get_os_info(t)\n",
    "\n",
    "# Regular dictionary\n",
    "di = {}\n",
    "\n",
    "for a in text:\n",
    "    di[a.split(':')[0]] = a.split(':')[1].strip()\n",
    "\n",
    "\n",
    "# Defaultdict with lists\n",
    "from collections import defaultdict\n",
    "text = get_os_info(t)\n",
    "d = defaultdict(list)\n",
    "\n",
    "for a in text:\n",
    "    d[a.split(':')[0]].append(a.split(':')[1].strip())\n",
    "\n",
    "di['Origin']"
   ]
  },
  {
   "cell_type": "code",
   "execution_count": 10,
   "metadata": {},
   "outputs": [
    {
     "output_type": "execute_result",
     "data": {
      "text/plain": [
       "{'Based on': 'Arch',\n",
       " 'Origin': 'Austria, Germany, France',\n",
       " 'Architecture': 'aarch64, x86_64',\n",
       " 'Desktop': 'Awesome, bspwm, Budgie, Cinnamon, GNOME, i3, KDE Plasma, LXQt, MATE, Openbox, Xfce',\n",
       " 'Category': 'Desktop, Live Medium, Raspberry Pi',\n",
       " 'Status': 'Active',\n",
       " 'Popularity': '2 (2,343 hits per day)'}"
      ]
     },
     "metadata": {},
     "execution_count": 10
    }
   ],
   "source": [
    "def os_to_dict(text):\n",
    "    d = {}\n",
    "    for val in text:\n",
    "        d[val.split(':')[0]] = val.split(':')[1].strip()\n",
    "\n",
    "    return d\n",
    "\n",
    "test = os_to_dict(text)\n",
    "\n",
    "test"
   ]
  },
  {
   "source": [
    "### Releases / Versions Dataframe"
   ],
   "cell_type": "markdown",
   "metadata": {}
  },
  {
   "cell_type": "code",
   "execution_count": 11,
   "metadata": {},
   "outputs": [
    {
     "output_type": "execute_result",
     "data": {
      "text/plain": [
       "                         1           2           3           4           5   \\\n",
       "0                                                                             \n",
       "Feature              stable        20.2        19.0      18.1.0     17.1.12   \n",
       "Release Date     2020-12-17  2020-12-03  2020-02-25  2019-09-12  2018-08-19   \n",
       "End Of Life             NaN         NaN         NaN         NaN         NaN   \n",
       "Price (US$)            Free        Free        Free        Free        Free   \n",
       "Image Size (MB)         NaN   2600-3000   2500-2900   1800-2100   1600-2100   \n",
       "\n",
       "                         6           7           8           9   \\\n",
       "0                                                                 \n",
       "Feature             16.10.3       15.12      0.8.11       0.8.8   \n",
       "Release Date     2016-11-27  2015-12-23  2014-12-01  2013-11-26   \n",
       "End Of Life             NaN         NaN         NaN         NaN   \n",
       "Price (US$)            Free        Free        Free        Free   \n",
       "Image Size (MB)   1533-2116    589-1856    472-1481    582-1861   \n",
       "\n",
       "                              10  \n",
       "0                                 \n",
       "Feature                  Feature  \n",
       "Release Date        Release Date  \n",
       "End Of Life          End Of Life  \n",
       "Price (US$)          Price (US$)  \n",
       "Image Size (MB)  Image Size (MB)  "
      ],
      "text/html": "<div>\n<style scoped>\n    .dataframe tbody tr th:only-of-type {\n        vertical-align: middle;\n    }\n\n    .dataframe tbody tr th {\n        vertical-align: top;\n    }\n\n    .dataframe thead th {\n        text-align: right;\n    }\n</style>\n<table border=\"1\" class=\"dataframe\">\n  <thead>\n    <tr style=\"text-align: right;\">\n      <th></th>\n      <th>1</th>\n      <th>2</th>\n      <th>3</th>\n      <th>4</th>\n      <th>5</th>\n      <th>6</th>\n      <th>7</th>\n      <th>8</th>\n      <th>9</th>\n      <th>10</th>\n    </tr>\n    <tr>\n      <th>0</th>\n      <th></th>\n      <th></th>\n      <th></th>\n      <th></th>\n      <th></th>\n      <th></th>\n      <th></th>\n      <th></th>\n      <th></th>\n      <th></th>\n    </tr>\n  </thead>\n  <tbody>\n    <tr>\n      <th>Feature</th>\n      <td>stable</td>\n      <td>20.2</td>\n      <td>19.0</td>\n      <td>18.1.0</td>\n      <td>17.1.12</td>\n      <td>16.10.3</td>\n      <td>15.12</td>\n      <td>0.8.11</td>\n      <td>0.8.8</td>\n      <td>Feature</td>\n    </tr>\n    <tr>\n      <th>Release Date</th>\n      <td>2020-12-17</td>\n      <td>2020-12-03</td>\n      <td>2020-02-25</td>\n      <td>2019-09-12</td>\n      <td>2018-08-19</td>\n      <td>2016-11-27</td>\n      <td>2015-12-23</td>\n      <td>2014-12-01</td>\n      <td>2013-11-26</td>\n      <td>Release Date</td>\n    </tr>\n    <tr>\n      <th>End Of Life</th>\n      <td>NaN</td>\n      <td>NaN</td>\n      <td>NaN</td>\n      <td>NaN</td>\n      <td>NaN</td>\n      <td>NaN</td>\n      <td>NaN</td>\n      <td>NaN</td>\n      <td>NaN</td>\n      <td>End Of Life</td>\n    </tr>\n    <tr>\n      <th>Price (US$)</th>\n      <td>Free</td>\n      <td>Free</td>\n      <td>Free</td>\n      <td>Free</td>\n      <td>Free</td>\n      <td>Free</td>\n      <td>Free</td>\n      <td>Free</td>\n      <td>Free</td>\n      <td>Price (US$)</td>\n    </tr>\n    <tr>\n      <th>Image Size (MB)</th>\n      <td>NaN</td>\n      <td>2600-3000</td>\n      <td>2500-2900</td>\n      <td>1800-2100</td>\n      <td>1600-2100</td>\n      <td>1533-2116</td>\n      <td>589-1856</td>\n      <td>472-1481</td>\n      <td>582-1861</td>\n      <td>Image Size (MB)</td>\n    </tr>\n  </tbody>\n</table>\n</div>"
     },
     "metadata": {},
     "execution_count": 11
    }
   ],
   "source": [
    "dfs = pd.read_html(base_url + ranked_hrefs[1])\n",
    "\n",
    "release = dfs[15].set_index(0)\n",
    "release_df = release.iloc[:15].copy()\n",
    "release_df.head()"
   ]
  },
  {
   "source": [
    "### Rating"
   ],
   "cell_type": "markdown",
   "metadata": {}
  },
  {
   "cell_type": "code",
   "execution_count": 12,
   "metadata": {},
   "outputs": [
    {
     "output_type": "execute_result",
     "data": {
      "text/plain": [
       "'8.4'"
      ]
     },
     "metadata": {},
     "execution_count": 12
    }
   ],
   "source": [
    "rating = soup.find('div', attrs={'style': 'font-size: 64px; text-align: left'}).text\n",
    "\n",
    "rating"
   ]
  },
  {
   "source": [
    "### Overall Ranking df"
   ],
   "cell_type": "markdown",
   "metadata": {}
  },
  {
   "cell_type": "code",
   "execution_count": 13,
   "metadata": {},
   "outputs": [],
   "source": [
    "rank_dfs = pd.read_html('https://distrowatch.com/dwres.php?resource=popularity')\n",
    "\n",
    "mo_12 = rank_dfs[8].drop('Last 12 months', axis=1).rename(columns={\n",
    "            'Last 12 months.1': 'Distro',\n",
    "            'Last 12 months.2': '12 months'\n",
    "})\n",
    "\n",
    "mo_6 = rank_dfs[9].drop('Last 6 months', axis=1).rename(columns={\n",
    "            'Last 6 months.1': 'Distro',\n",
    "            'Last 6 months.2': '6 months'\n",
    "})\n",
    "\n",
    "mo_3 = rank_dfs[10].drop('Last 3 months', axis=1).rename(columns={\n",
    "            'Last 3 months.1': 'Distro',\n",
    "            'Last 3 months.2': '3 months'\n",
    "})\n",
    "\n",
    "mo_1 = rank_dfs[11].drop('Last 1 month', axis=1).rename(columns={\n",
    "            'Last 1 month.1': 'Distro',\n",
    "            'Last 1 month.2': '1 month'\n",
    "})"
   ]
  },
  {
   "cell_type": "code",
   "execution_count": 14,
   "metadata": {},
   "outputs": [
    {
     "output_type": "execute_result",
     "data": {
      "text/plain": [
       "     Distro  12 months  6 months  3 months  1 month\n",
       "0  MX Linux       3945      3409      3417     3294\n",
       "1   Manjaro       2709      2343      2395     2571\n",
       "2      Mint       2345      2061      1990     2087\n",
       "3    Ubuntu       1608      1377      1414     1275\n",
       "4    Debian       1433      1250      1275     1337"
      ],
      "text/html": "<div>\n<style scoped>\n    .dataframe tbody tr th:only-of-type {\n        vertical-align: middle;\n    }\n\n    .dataframe tbody tr th {\n        vertical-align: top;\n    }\n\n    .dataframe thead th {\n        text-align: right;\n    }\n</style>\n<table border=\"1\" class=\"dataframe\">\n  <thead>\n    <tr style=\"text-align: right;\">\n      <th></th>\n      <th>Distro</th>\n      <th>12 months</th>\n      <th>6 months</th>\n      <th>3 months</th>\n      <th>1 month</th>\n    </tr>\n  </thead>\n  <tbody>\n    <tr>\n      <th>0</th>\n      <td>MX Linux</td>\n      <td>3945</td>\n      <td>3409</td>\n      <td>3417</td>\n      <td>3294</td>\n    </tr>\n    <tr>\n      <th>1</th>\n      <td>Manjaro</td>\n      <td>2709</td>\n      <td>2343</td>\n      <td>2395</td>\n      <td>2571</td>\n    </tr>\n    <tr>\n      <th>2</th>\n      <td>Mint</td>\n      <td>2345</td>\n      <td>2061</td>\n      <td>1990</td>\n      <td>2087</td>\n    </tr>\n    <tr>\n      <th>3</th>\n      <td>Ubuntu</td>\n      <td>1608</td>\n      <td>1377</td>\n      <td>1414</td>\n      <td>1275</td>\n    </tr>\n    <tr>\n      <th>4</th>\n      <td>Debian</td>\n      <td>1433</td>\n      <td>1250</td>\n      <td>1275</td>\n      <td>1337</td>\n    </tr>\n  </tbody>\n</table>\n</div>"
     },
     "metadata": {},
     "execution_count": 14
    }
   ],
   "source": [
    "from functools import reduce\n",
    "\n",
    "rank_df = reduce(lambda x,y: pd.merge(x,y, on='Distro', how='outer'), [mo_12, mo_6, mo_3, mo_1])\n",
    "\n",
    "# rank_df.to_csv('df-ranks.csv', index=False, header=rank_df.columns.values)\n",
    "\n",
    "# The numbers represent the clicks per day\n",
    "rank_df.head()"
   ]
  },
  {
   "source": [
    "## All distros"
   ],
   "cell_type": "markdown",
   "metadata": {}
  },
  {
   "cell_type": "code",
   "execution_count": 15,
   "metadata": {},
   "outputs": [],
   "source": [
    "def get_os_info_full(text):\n",
    "    t = text\n",
    "\n",
    "    split_index = [i for i, e in enumerate(t) if e.islower() and t[i+1].isupper()\n",
    "                                        or e.isnumeric() and t[i+1].isupper()]\n",
    "\n",
    "    for i, j in enumerate(split_index, start=1):\n",
    "        t = t[:j+i] + ' ' + t[j+i:]\n",
    "\n",
    "    t = re.sub(r'\\n', ' ', t)\n",
    "\n",
    "    # a = re.search(r'\\b(OS Type):', t).span()[0]\n",
    "    try:\n",
    "        b = re.search(r'\\b(Based on):', t).span()[0]\n",
    "    except:\n",
    "        b = None\n",
    "    \n",
    "    try:\n",
    "        c = re.search(r'\\b(Origin):', t).span()[0]\n",
    "    except:\n",
    "        c = None\n",
    "\n",
    "    try: \n",
    "        d = re.search(r'\\b(Architecture):', t).span()[0]\n",
    "    except:\n",
    "        d = None\n",
    "\n",
    "    try:\n",
    "        e = re.search(r'\\b(Desktop):', t).span()[0]\n",
    "    except:\n",
    "        e = None\n",
    "    \n",
    "    try:\n",
    "        f = re.search(r'\\b(Category):', t).span()[0]\n",
    "    except:\n",
    "        f = None\n",
    "\n",
    "    try:\n",
    "        g = re.search(r'\\b(Status):', t).span()[0]\n",
    "    except:\n",
    "        g = None\n",
    "\n",
    "    try:\n",
    "        h = re.search(r'\\b(Popularity):', t).span()[0]\n",
    "    except:\n",
    "        h = None\n",
    "\n",
    "    idx = [b, c, d, e, f, g, h]\n",
    "\n",
    "    split_list = [t[i:j].strip() for i, j in zip(idx, idx[1:]+[None])]\n",
    "\n",
    "    return split_list"
   ]
  },
  {
   "source": [
    "#### I was going to use this because it looks much more elegant, however it returns multiple entries in the list and isn't split up right"
   ],
   "cell_type": "markdown",
   "metadata": {}
  },
  {
   "cell_type": "code",
   "execution_count": 16,
   "metadata": {},
   "outputs": [],
   "source": [
    "def try_except(string):\n",
    "    try:\n",
    "        return re.search(rf'\\b({string}):', out).span()[0]\n",
    "    except:\n",
    "        return None\n",
    "\n",
    "\n",
    "def get_os_info_full_2(text):\n",
    "    t = text\n",
    "\n",
    "    split_index = [i for i, e in enumerate(t) if e.islower() and t[i+1].isupper()\n",
    "                                        or e.isnumeric() and t[i+1].isupper()]\n",
    "\n",
    "    for i, j in enumerate(split_index, start=1):\n",
    "        t = t[:j+i] + ' ' + t[j+i:]\n",
    "\n",
    "    t = re.sub(r'\\n', ' ', t)\n",
    "\n",
    "    b = try_except('Based on')\n",
    "    c = try_except('Origin')\n",
    "    d = try_except('Architecture')\n",
    "    e = try_except('Desktop')\n",
    "    f = try_except('Category')\n",
    "    g = try_except('Status')\n",
    "    h = try_except('Status')\n",
    "\n",
    "    idx = [a, b, c, d, e, f, g, h]\n",
    "\n",
    "    split_list = [t[i:j].strip() for i, j in zip(idx, idx[1:]+[None])]\n",
    "\n",
    "    return split_list\n",
    "\n",
    "# get_os_info_full_2(out)"
   ]
  },
  {
   "cell_type": "code",
   "execution_count": 18,
   "metadata": {},
   "outputs": [],
   "source": [
    "def get_page(url):\n",
    "    response = requests.get(url)\n",
    "\n",
    "    if not response.ok:\n",
    "        print('Server responded: ', response.status_code)\n",
    "    else:\n",
    "        soup = bs(response.text, 'html.parser')\n",
    "\n",
    "    return soup\n",
    "\n",
    "\n",
    "def get_distro(soup):\n",
    "    name = soup.find('h1').text\n",
    "    out = soup.select('ul')[1].text\n",
    "\n",
    "    os_info = get_os_info_full(out)\n",
    "    os_dict = os_to_dict(os_info)\n",
    "\n",
    "    full_d = {}\n",
    "    temp_d = {name: {}}\n",
    "    for k, v in os_dict.items():\n",
    "        temp_d[name].setdefault(k, []).append(v)\n",
    "\n",
    "    full_d.update(temp_d)\n",
    "    return temp_d\n"
   ]
  },
  {
   "source": [
    "### Testing on small sample"
   ],
   "cell_type": "markdown",
   "metadata": {}
  },
  {
   "cell_type": "code",
   "execution_count": 19,
   "metadata": {},
   "outputs": [],
   "source": [
    "test_hrefs = np.random.choice(ranked_hrefs, size=5).tolist()\n",
    "test_urls = [base_url + item for item in test_hrefs]\n",
    "\n",
    "all_d = {}\n",
    "\n",
    "for url in test_urls:\n",
    "    t_dict = get_distro(get_page(url))\n",
    "    all_d.update(t_dict)"
   ]
  },
  {
   "source": [
    "### Getting all of the ranked distros"
   ],
   "cell_type": "markdown",
   "metadata": {}
  },
  {
   "cell_type": "code",
   "execution_count": 20,
   "metadata": {},
   "outputs": [
    {
     "output_type": "execute_result",
     "data": {
      "text/plain": [
       "275"
      ]
     },
     "metadata": {},
     "execution_count": 20
    }
   ],
   "source": [
    "len(ranked_hrefs)"
   ]
  },
  {
   "cell_type": "code",
   "execution_count": 150,
   "metadata": {},
   "outputs": [],
   "source": [
    "full_urls = [base_url + item for item in ranked_hrefs]\n",
    "\n",
    "full_d = {}\n",
    "\n",
    "for url in full_urls:\n",
    "    t_dict = get_distro(get_page(url))\n",
    "    full_d.update(t_dict)"
   ]
  },
  {
   "source": [
    "### Saving the full dictionary to json and pickle"
   ],
   "cell_type": "markdown",
   "metadata": {}
  },
  {
   "cell_type": "code",
   "execution_count": 152,
   "metadata": {},
   "outputs": [],
   "source": [
    "with open('distro_dict.json', 'w', encoding='utf-8') as f:\n",
    "    json.dump(full_d, f, ensure_ascii=False, indent=4)\n",
    "\n",
    "with open('distro_dict.json', 'r') as f:\n",
    "    data = json.load(f)"
   ]
  },
  {
   "cell_type": "code",
   "execution_count": 160,
   "metadata": {},
   "outputs": [
    {
     "output_type": "execute_result",
     "data": {
      "text/plain": [
       "['Arch']"
      ]
     },
     "metadata": {},
     "execution_count": 160
    }
   ],
   "source": [
    "data['Manjaro Linux']['Based on']"
   ]
  },
  {
   "cell_type": "code",
   "execution_count": 164,
   "metadata": {},
   "outputs": [],
   "source": [
    "with open('distro_dict.pickle', 'wb') as f:\n",
    "    pickle.dump(full_d, f, protocol=pickle.HIGHEST_PROTOCOL)\n",
    "\n",
    "with open('distro_dict.pickle', 'rb') as f:\n",
    "    data2 = pickle.load(f)"
   ]
  },
  {
   "cell_type": "code",
   "execution_count": 276,
   "metadata": {},
   "outputs": [
    {
     "output_type": "execute_result",
     "data": {
      "text/plain": [
       "                                      MX Linux  \\\n",
       "Based on       [Debian (Stable), anti XOrigin]   \n",
       "OS Type                       [Linux Based on]   \n",
       "Architecture                    [i686, x86_64]   \n",
       "Desktop                                 [Xfce]   \n",
       "Category      [Desktop, From RAM, Live Medium]   \n",
       "\n",
       "                                                  Manjaro Linux  \\\n",
       "Based on                                                 [Arch]   \n",
       "OS Type                                                     NaN   \n",
       "Architecture                                  [aarch64, x86_64]   \n",
       "Desktop       [Awesome, bspwm, Budgie, Cinnamon, GNOME, i3, ...   \n",
       "Category                   [Desktop, Live Medium, Raspberry Pi]   \n",
       "\n",
       "                                     Linux Mint           Pop!_OS  \\\n",
       "Based on                 [Debian, Ubuntu (LTS)]  [Ubuntu, Debian]   \n",
       "OS Type                                     NaN  [Linux Based on]   \n",
       "Architecture                     [i686, x86_64]          [x86_64]   \n",
       "Desktop                  [Cinnamon, MATE, Xfce]   [GNOMECategory]   \n",
       "Category      [Beginners, Desktop, Live Medium]               NaN   \n",
       "\n",
       "                                                      Ubuntu  \\\n",
       "Based on                                            [Debian]   \n",
       "OS Type                                                  NaN   \n",
       "Architecture  [armhf, i686, powerpc, ppc64el, s390x, x86_64]   \n",
       "Desktop                                       [GNOME, Unity]   \n",
       "Category           [Beginners, Desktop, Server, Live Medium]   \n",
       "\n",
       "                                                         Debian  \\\n",
       "Based on                                          [Independent]   \n",
       "OS Type                                                     NaN   \n",
       "Architecture  [aarch64, armel, armhf, i386, i686, mips, mips...   \n",
       "Desktop       [After Step, Awesome, Blackbox, Cinnamon, Flux...   \n",
       "Category                         [Desktop, Live Medium, Server]   \n",
       "\n",
       "                                  elementary OS  \\\n",
       "Based on                       [Debian, Ubuntu]   \n",
       "OS Type                                     NaN   \n",
       "Architecture                           [x86_64]   \n",
       "Desktop                              [Pantheon]   \n",
       "Category      [Beginners, Desktop, Live Medium]   \n",
       "\n",
       "                                                         Fedora  \\\n",
       "Based on                                          [Independent]   \n",
       "OS Type                                                     NaN   \n",
       "Architecture                          [aarch64, armhfp, x86_64]   \n",
       "Desktop       [Awesome, Cinnamon, Deepin, Enlightenment, GNO...   \n",
       "Category                         [Desktop, Server, Live Medium]   \n",
       "\n",
       "                                                    EndeavourOS  \\\n",
       "Based on                                                 [Arch]   \n",
       "OS Type                                                     NaN   \n",
       "Architecture                                  [aarch64, x86_64]   \n",
       "Desktop       [Budgie, Cinnamon, Deepin, GNOME, i3, KDE Plas...   \n",
       "Category                                 [Desktop, Live Medium]   \n",
       "\n",
       "                                                  Solus  ...  \\\n",
       "Based on                                  [Independent]  ...   \n",
       "OS Type                                [Linux Based on]  ...   \n",
       "Architecture                                   [x86_64]  ...   \n",
       "Desktop       [Budgie, GNOME, KDE Plasma, MATECategory]  ...   \n",
       "Category                                            NaN  ...   \n",
       "\n",
       "                           Webconverger                      YunoHost  \\\n",
       "Based on             [Debian (Testing)]                      [Debian]   \n",
       "OS Type                             NaN              [Linux Based on]   \n",
       "Architecture                     [i686]         [armhf, i686, x86_64]   \n",
       "Desktop                       [Firefox]  [No Desktop, Web UICategory]   \n",
       "Category      [Live Medium, Specialist]                           NaN   \n",
       "\n",
       "                      OB2D Linux                OSGeoLive  \\\n",
       "Based on      [Debian (Testing)]  [Debian, Lubuntu (LTS)]   \n",
       "OS Type                      NaN         [Linux Based on]   \n",
       "Architecture            [x86_64]                 [x86_64]   \n",
       "Desktop                   [Xfce]           [LXDECategory]   \n",
       "Category                [Server]                      NaN   \n",
       "\n",
       "             ARMA aka Omoikane GNU/Linux Raspberry Digital Signage  \\\n",
       "Based on                        [Debian]                [Raspbian]   \n",
       "OS Type                 [Linux Based on]                       NaN   \n",
       "Architecture                        [--]                   [armhf]   \n",
       "Desktop             [GNOME, KDECategory]                [Chromium]   \n",
       "Category                             NaN            [Raspberry Pi]   \n",
       "\n",
       "                       tuxtrans                  DRBL Live  \\\n",
       "Based on      [Xubuntu, Debian]                   [Debian]   \n",
       "OS Type        [Linux Based on]                        NaN   \n",
       "Architecture           [x86_64]             [i686, x86_64]   \n",
       "Desktop          [MATECategory]                     [Xfce]   \n",
       "Category                    NaN  [Specialist, Live Medium]   \n",
       "\n",
       "                  Canaima GNU/Linux  Baltix GNU/Linux  \n",
       "Based on          [Debian (Stable)]  [Debian, Ubuntu]  \n",
       "OS Type            [Linux Based on]  [Linux Based on]  \n",
       "Architecture               [x86_64]          [x86_64]  \n",
       "Desktop       [GNOME, MATECategory]   [GNOMECategory]  \n",
       "Category                        NaN               NaN  \n",
       "\n",
       "[5 rows x 275 columns]"
      ],
      "text/html": "<div>\n<style scoped>\n    .dataframe tbody tr th:only-of-type {\n        vertical-align: middle;\n    }\n\n    .dataframe tbody tr th {\n        vertical-align: top;\n    }\n\n    .dataframe thead th {\n        text-align: right;\n    }\n</style>\n<table border=\"1\" class=\"dataframe\">\n  <thead>\n    <tr style=\"text-align: right;\">\n      <th></th>\n      <th>MX Linux</th>\n      <th>Manjaro Linux</th>\n      <th>Linux Mint</th>\n      <th>Pop!_OS</th>\n      <th>Ubuntu</th>\n      <th>Debian</th>\n      <th>elementary OS</th>\n      <th>Fedora</th>\n      <th>EndeavourOS</th>\n      <th>Solus</th>\n      <th>...</th>\n      <th>Webconverger</th>\n      <th>YunoHost</th>\n      <th>OB2D Linux</th>\n      <th>OSGeoLive</th>\n      <th>ARMA aka Omoikane GNU/Linux</th>\n      <th>Raspberry Digital Signage</th>\n      <th>tuxtrans</th>\n      <th>DRBL Live</th>\n      <th>Canaima GNU/Linux</th>\n      <th>Baltix GNU/Linux</th>\n    </tr>\n  </thead>\n  <tbody>\n    <tr>\n      <th>Based on</th>\n      <td>[Debian (Stable), anti XOrigin]</td>\n      <td>[Arch]</td>\n      <td>[Debian, Ubuntu (LTS)]</td>\n      <td>[Ubuntu, Debian]</td>\n      <td>[Debian]</td>\n      <td>[Independent]</td>\n      <td>[Debian, Ubuntu]</td>\n      <td>[Independent]</td>\n      <td>[Arch]</td>\n      <td>[Independent]</td>\n      <td>...</td>\n      <td>[Debian (Testing)]</td>\n      <td>[Debian]</td>\n      <td>[Debian (Testing)]</td>\n      <td>[Debian, Lubuntu (LTS)]</td>\n      <td>[Debian]</td>\n      <td>[Raspbian]</td>\n      <td>[Xubuntu, Debian]</td>\n      <td>[Debian]</td>\n      <td>[Debian (Stable)]</td>\n      <td>[Debian, Ubuntu]</td>\n    </tr>\n    <tr>\n      <th>OS Type</th>\n      <td>[Linux Based on]</td>\n      <td>NaN</td>\n      <td>NaN</td>\n      <td>[Linux Based on]</td>\n      <td>NaN</td>\n      <td>NaN</td>\n      <td>NaN</td>\n      <td>NaN</td>\n      <td>NaN</td>\n      <td>[Linux Based on]</td>\n      <td>...</td>\n      <td>NaN</td>\n      <td>[Linux Based on]</td>\n      <td>NaN</td>\n      <td>[Linux Based on]</td>\n      <td>[Linux Based on]</td>\n      <td>NaN</td>\n      <td>[Linux Based on]</td>\n      <td>NaN</td>\n      <td>[Linux Based on]</td>\n      <td>[Linux Based on]</td>\n    </tr>\n    <tr>\n      <th>Architecture</th>\n      <td>[i686, x86_64]</td>\n      <td>[aarch64, x86_64]</td>\n      <td>[i686, x86_64]</td>\n      <td>[x86_64]</td>\n      <td>[armhf, i686, powerpc, ppc64el, s390x, x86_64]</td>\n      <td>[aarch64, armel, armhf, i386, i686, mips, mips...</td>\n      <td>[x86_64]</td>\n      <td>[aarch64, armhfp, x86_64]</td>\n      <td>[aarch64, x86_64]</td>\n      <td>[x86_64]</td>\n      <td>...</td>\n      <td>[i686]</td>\n      <td>[armhf, i686, x86_64]</td>\n      <td>[x86_64]</td>\n      <td>[x86_64]</td>\n      <td>[--]</td>\n      <td>[armhf]</td>\n      <td>[x86_64]</td>\n      <td>[i686, x86_64]</td>\n      <td>[x86_64]</td>\n      <td>[x86_64]</td>\n    </tr>\n    <tr>\n      <th>Desktop</th>\n      <td>[Xfce]</td>\n      <td>[Awesome, bspwm, Budgie, Cinnamon, GNOME, i3, ...</td>\n      <td>[Cinnamon, MATE, Xfce]</td>\n      <td>[GNOMECategory]</td>\n      <td>[GNOME, Unity]</td>\n      <td>[After Step, Awesome, Blackbox, Cinnamon, Flux...</td>\n      <td>[Pantheon]</td>\n      <td>[Awesome, Cinnamon, Deepin, Enlightenment, GNO...</td>\n      <td>[Budgie, Cinnamon, Deepin, GNOME, i3, KDE Plas...</td>\n      <td>[Budgie, GNOME, KDE Plasma, MATECategory]</td>\n      <td>...</td>\n      <td>[Firefox]</td>\n      <td>[No Desktop, Web UICategory]</td>\n      <td>[Xfce]</td>\n      <td>[LXDECategory]</td>\n      <td>[GNOME, KDECategory]</td>\n      <td>[Chromium]</td>\n      <td>[MATECategory]</td>\n      <td>[Xfce]</td>\n      <td>[GNOME, MATECategory]</td>\n      <td>[GNOMECategory]</td>\n    </tr>\n    <tr>\n      <th>Category</th>\n      <td>[Desktop, From RAM, Live Medium]</td>\n      <td>[Desktop, Live Medium, Raspberry Pi]</td>\n      <td>[Beginners, Desktop, Live Medium]</td>\n      <td>NaN</td>\n      <td>[Beginners, Desktop, Server, Live Medium]</td>\n      <td>[Desktop, Live Medium, Server]</td>\n      <td>[Beginners, Desktop, Live Medium]</td>\n      <td>[Desktop, Server, Live Medium]</td>\n      <td>[Desktop, Live Medium]</td>\n      <td>NaN</td>\n      <td>...</td>\n      <td>[Live Medium, Specialist]</td>\n      <td>NaN</td>\n      <td>[Server]</td>\n      <td>NaN</td>\n      <td>NaN</td>\n      <td>[Raspberry Pi]</td>\n      <td>NaN</td>\n      <td>[Specialist, Live Medium]</td>\n      <td>NaN</td>\n      <td>NaN</td>\n    </tr>\n  </tbody>\n</table>\n<p>5 rows × 275 columns</p>\n</div>"
     },
     "metadata": {},
     "execution_count": 276
    }
   ],
   "source": [
    "os_info_df = pd.DataFrame(data)\n",
    "\n",
    "# os_info_df.to_csv('df-os_info.csv', index=True, columns=os_info_df.columns.values)\n",
    "\n",
    "os_info_df.head()"
   ]
  },
  {
   "source": [
    "## Getting all versions / releases of each distro"
   ],
   "cell_type": "markdown",
   "metadata": {}
  },
  {
   "cell_type": "code",
   "execution_count": 235,
   "metadata": {},
   "outputs": [],
   "source": [
    "def get_versions(href):\n",
    "\n",
    "    dfs = pd.read_html(base_url + href)\n",
    "\n",
    "    ix = [11, 12, 13, 14, 15, 16]\n",
    "\n",
    "    for i in ix:\n",
    "        try:\n",
    "            dfs[i] = dfs[i].set_index(0)\n",
    "            if 'Feature' in dfs[i].index.values:\n",
    "                release_df = dfs[i]\n",
    "                return release_df.iloc[:15]\n",
    "            else:\n",
    "                pass\n",
    "        except:\n",
    "            pass"
   ]
  },
  {
   "source": [
    "### Testing on sample first"
   ],
   "cell_type": "markdown",
   "metadata": {}
  },
  {
   "cell_type": "code",
   "execution_count": 194,
   "metadata": {},
   "outputs": [],
   "source": [
    "df_list = []\n",
    "\n",
    "for val in test_hrefs:\n",
    "    x = get_versions(val)\n",
    "    df_list.append(x)"
   ]
  },
  {
   "cell_type": "code",
   "execution_count": 203,
   "metadata": {},
   "outputs": [
    {
     "output_type": "execute_result",
     "data": {
      "text/plain": [
       "0      Feature Release Date End Of Life Price (US$) Image Size (MB)  \\\n",
       "gobo       012   2005-06-02         NaN        Free             NaN   \n",
       "rds       11.2   2018-04-11         NaN        Free         674-674   \n",
       "sophos     6.0   2005-07-06         NaN         NaN             NaN   \n",
       "gobo       006   2003-05-19         NaN        Free             NaN   \n",
       "sophos     7.5   2009-10-01         NaN         NaN             NaN   \n",
       "\n",
       "0      Free Download Installation Default Desktop Package Management  \\\n",
       "gobo             ISO    Graphical             NaN                NaN   \n",
       "rds              IMG           --        Chromium          DEB (apt)   \n",
       "sophos           ISO          NaN              --                 --   \n",
       "gobo             ISO    Graphical             NaN                NaN   \n",
       "sophos           ISO          NaN              --                 --   \n",
       "\n",
       "0      Release Model Office Suite Processor Architecture Init Software  \\\n",
       "gobo           Fixed        OO.o*                   i686          SysV   \n",
       "rds            Fixed           --                  armhf       systemd   \n",
       "sophos         Fixed           --                   i386         other   \n",
       "gobo           Fixed        OO.o*                   i686          SysV   \n",
       "sophos         Fixed           --                   i386         other   \n",
       "\n",
       "0      Journaled File Systems Multilingual  \n",
       "gobo           ext3, ReiserFS   de, en, pt  \n",
       "rds                ext3, ext4           --  \n",
       "sophos                    NaN          NaN  \n",
       "gobo                      NaN          NaN  \n",
       "sophos                    NaN          NaN  "
      ],
      "text/html": "<div>\n<style scoped>\n    .dataframe tbody tr th:only-of-type {\n        vertical-align: middle;\n    }\n\n    .dataframe tbody tr th {\n        vertical-align: top;\n    }\n\n    .dataframe thead th {\n        text-align: right;\n    }\n</style>\n<table border=\"1\" class=\"dataframe\">\n  <thead>\n    <tr style=\"text-align: right;\">\n      <th></th>\n      <th>Feature</th>\n      <th>Release Date</th>\n      <th>End Of Life</th>\n      <th>Price (US$)</th>\n      <th>Image Size (MB)</th>\n      <th>Free Download</th>\n      <th>Installation</th>\n      <th>Default Desktop</th>\n      <th>Package Management</th>\n      <th>Release Model</th>\n      <th>Office Suite</th>\n      <th>Processor Architecture</th>\n      <th>Init Software</th>\n      <th>Journaled File Systems</th>\n      <th>Multilingual</th>\n    </tr>\n  </thead>\n  <tbody>\n    <tr>\n      <th>gobo</th>\n      <td>012</td>\n      <td>2005-06-02</td>\n      <td>NaN</td>\n      <td>Free</td>\n      <td>NaN</td>\n      <td>ISO</td>\n      <td>Graphical</td>\n      <td>NaN</td>\n      <td>NaN</td>\n      <td>Fixed</td>\n      <td>OO.o*</td>\n      <td>i686</td>\n      <td>SysV</td>\n      <td>ext3, ReiserFS</td>\n      <td>de, en, pt</td>\n    </tr>\n    <tr>\n      <th>rds</th>\n      <td>11.2</td>\n      <td>2018-04-11</td>\n      <td>NaN</td>\n      <td>Free</td>\n      <td>674-674</td>\n      <td>IMG</td>\n      <td>--</td>\n      <td>Chromium</td>\n      <td>DEB (apt)</td>\n      <td>Fixed</td>\n      <td>--</td>\n      <td>armhf</td>\n      <td>systemd</td>\n      <td>ext3, ext4</td>\n      <td>--</td>\n    </tr>\n    <tr>\n      <th>sophos</th>\n      <td>6.0</td>\n      <td>2005-07-06</td>\n      <td>NaN</td>\n      <td>NaN</td>\n      <td>NaN</td>\n      <td>ISO</td>\n      <td>NaN</td>\n      <td>--</td>\n      <td>--</td>\n      <td>Fixed</td>\n      <td>--</td>\n      <td>i386</td>\n      <td>other</td>\n      <td>NaN</td>\n      <td>NaN</td>\n    </tr>\n    <tr>\n      <th>gobo</th>\n      <td>006</td>\n      <td>2003-05-19</td>\n      <td>NaN</td>\n      <td>Free</td>\n      <td>NaN</td>\n      <td>ISO</td>\n      <td>Graphical</td>\n      <td>NaN</td>\n      <td>NaN</td>\n      <td>Fixed</td>\n      <td>OO.o*</td>\n      <td>i686</td>\n      <td>SysV</td>\n      <td>NaN</td>\n      <td>NaN</td>\n    </tr>\n    <tr>\n      <th>sophos</th>\n      <td>7.5</td>\n      <td>2009-10-01</td>\n      <td>NaN</td>\n      <td>NaN</td>\n      <td>NaN</td>\n      <td>ISO</td>\n      <td>NaN</td>\n      <td>--</td>\n      <td>--</td>\n      <td>Fixed</td>\n      <td>--</td>\n      <td>i386</td>\n      <td>other</td>\n      <td>NaN</td>\n      <td>NaN</td>\n    </tr>\n  </tbody>\n</table>\n</div>"
     },
     "metadata": {},
     "execution_count": 203
    }
   ],
   "source": [
    "sample_df = pd.concat([item.T for item in df_list], keys=[item for item in test_hrefs], axis=0).reset_index(level=1, drop=True)\n",
    "\n",
    "sample_df.sample(n=5)"
   ]
  },
  {
   "source": [
    "### Getting all versions"
   ],
   "cell_type": "markdown",
   "metadata": {}
  },
  {
   "cell_type": "code",
   "execution_count": 236,
   "metadata": {},
   "outputs": [
    {
     "output_type": "stream",
     "name": "stdout",
     "text": [
      "Finished solus, Number: 10\n",
      "Finished puppy, Number: 20\n",
      "Finished peppermint, Number: 30\n",
      "Finished devuan, Number: 40\n",
      "Finished pureos, Number: 50\n",
      "Finished ultimate, Number: 60\n",
      "Finished alt, Number: 70\n",
      "Finished nomadbsd, Number: 80\n",
      "Finished makulu, Number: 90\n",
      "Finished volumio, Number: 100\n",
      "Finished rescuezilla, Number: 110\n",
      "Finished solydxk, Number: 120\n",
      "Finished swift, Number: 130\n",
      "Finished pardus, Number: 140\n",
      "Finished parabola, Number: 150\n",
      "Finished opnsense, Number: 160\n",
      "Finished porteuskiosk, Number: 170\n",
      "Finished archstrike, Number: 180\n",
      "Finished rancheros, Number: 190\n",
      "Finished hardenedbsd, Number: 200\n",
      "Finished vine, Number: 210\n",
      "Finished rebeccablackos, Number: 220\n",
      "Finished zeroshell, Number: 230\n",
      "Finished elastix, Number: 240\n",
      "Finished linhes, Number: 250\n",
      "Finished olpc, Number: 260\n",
      "Finished omoikane, Number: 270\n"
     ]
    }
   ],
   "source": [
    "df_list = []\n",
    "\n",
    "for idx, val in enumerate(ranked_hrefs):\n",
    "    x = get_versions(val)\n",
    "    df_list.append(x)\n",
    "\n",
    "    if (idx+1) % 10 == 0:\n",
    "        print(f'Finished {val}, Number: {idx+1}')"
   ]
  },
  {
   "cell_type": "code",
   "execution_count": 237,
   "metadata": {},
   "outputs": [],
   "source": [
    "with open('versions.pickle', 'wb') as f:\n",
    "    pickle.dump(df_list, f, protocol=pickle.HIGHEST_PROTOCOL)\n",
    "\n",
    "with open('versions.pickle', 'rb') as f:\n",
    "    data2 = pickle.load(f)"
   ]
  },
  {
   "source": [
    "#### The first go around I had some missing dataframes, so I added 11 to the ranged to check and no longer have any NoneTypes"
   ],
   "cell_type": "markdown",
   "metadata": {}
  },
  {
   "cell_type": "code",
   "execution_count": 238,
   "metadata": {},
   "outputs": [
    {
     "output_type": "stream",
     "name": "stdout",
     "text": [
      "0\n[]\n"
     ]
    }
   ],
   "source": [
    "count = 0\n",
    "idxs = []\n",
    "\n",
    "for idx, item in enumerate(df_list):\n",
    "    if isinstance(item, type(None)):\n",
    "        count += 1\n",
    "        idxs.append(idx)\n",
    "\n",
    "print(count)\n",
    "print(idxs)"
   ]
  },
  {
   "cell_type": "code",
   "execution_count": 257,
   "metadata": {},
   "outputs": [
    {
     "output_type": "execute_result",
     "data": {
      "text/plain": [
       "0               Feature Release Date End Of Life Price (US$) Image Size (MB)  \\\n",
       "distro                                                                         \n",
       "solaris              11   2011-11-09         NaN         NaN             NaN   \n",
       "ubuntumate  18.10cosmic   2018-10-18     2019-07        Free       2000-2100   \n",
       "smeserver         4.1.2   2001-03-30         NaN         NaN             NaN   \n",
       "xigmanas       12.1.0.4   2020-12-12         NaN        Free         200-600   \n",
       "lite                2.8   2016-01-31         NaN        Free             NaN   \n",
       "\n",
       "0                        Free Download Installation Default Desktop  \\\n",
       "distro                                                                \n",
       "solaris     ISO, registration required    Graphical           GNOME   \n",
       "ubuntumate                         ISO    Graphical            MATE   \n",
       "smeserver                          ISO    Text mode              --   \n",
       "xigmanas                           ISO    Text mode              --   \n",
       "lite                               ISO    Graphical            Xfce   \n",
       "\n",
       "0          Package Management Release Model Office Suite  \\\n",
       "distro                                                     \n",
       "solaris           IPS, pkgadm         Fixed           --   \n",
       "ubuntumate    DEB (apt), snap         Fixed  LibreOffice   \n",
       "smeserver                 RPM         Fixed           --   \n",
       "xigmanas                   --         Fixed           --   \n",
       "lite                      DEB         Fixed  LibreOffice   \n",
       "\n",
       "0          Processor Architecture Init Software  \\\n",
       "distro                                            \n",
       "solaris           sparc64, x86_64         other   \n",
       "ubuntumate                 x86_64       systemd   \n",
       "smeserver                    i386          SysV   \n",
       "xigmanas             i386, x86_64            RC   \n",
       "lite                 i386, x86_64       systemd   \n",
       "\n",
       "0                          Journaled File Systems            Multilingual  \n",
       "distro                                                                     \n",
       "solaris                                  ZFS, UFS  de, en, es, fr, it, pt  \n",
       "ubuntumate  Btrfs, ext3, ext4, JFS, ReiserFS, XFS                     Yes  \n",
       "smeserver                                     NaN                     NaN  \n",
       "xigmanas                                       --                      --  \n",
       "lite                                          NaN                     NaN  "
      ],
      "text/html": "<div>\n<style scoped>\n    .dataframe tbody tr th:only-of-type {\n        vertical-align: middle;\n    }\n\n    .dataframe tbody tr th {\n        vertical-align: top;\n    }\n\n    .dataframe thead th {\n        text-align: right;\n    }\n</style>\n<table border=\"1\" class=\"dataframe\">\n  <thead>\n    <tr style=\"text-align: right;\">\n      <th></th>\n      <th>Feature</th>\n      <th>Release Date</th>\n      <th>End Of Life</th>\n      <th>Price (US$)</th>\n      <th>Image Size (MB)</th>\n      <th>Free Download</th>\n      <th>Installation</th>\n      <th>Default Desktop</th>\n      <th>Package Management</th>\n      <th>Release Model</th>\n      <th>Office Suite</th>\n      <th>Processor Architecture</th>\n      <th>Init Software</th>\n      <th>Journaled File Systems</th>\n      <th>Multilingual</th>\n    </tr>\n    <tr>\n      <th>distro</th>\n      <th></th>\n      <th></th>\n      <th></th>\n      <th></th>\n      <th></th>\n      <th></th>\n      <th></th>\n      <th></th>\n      <th></th>\n      <th></th>\n      <th></th>\n      <th></th>\n      <th></th>\n      <th></th>\n      <th></th>\n    </tr>\n  </thead>\n  <tbody>\n    <tr>\n      <th>solaris</th>\n      <td>11</td>\n      <td>2011-11-09</td>\n      <td>NaN</td>\n      <td>NaN</td>\n      <td>NaN</td>\n      <td>ISO, registration required</td>\n      <td>Graphical</td>\n      <td>GNOME</td>\n      <td>IPS, pkgadm</td>\n      <td>Fixed</td>\n      <td>--</td>\n      <td>sparc64, x86_64</td>\n      <td>other</td>\n      <td>ZFS, UFS</td>\n      <td>de, en, es, fr, it, pt</td>\n    </tr>\n    <tr>\n      <th>ubuntumate</th>\n      <td>18.10cosmic</td>\n      <td>2018-10-18</td>\n      <td>2019-07</td>\n      <td>Free</td>\n      <td>2000-2100</td>\n      <td>ISO</td>\n      <td>Graphical</td>\n      <td>MATE</td>\n      <td>DEB (apt), snap</td>\n      <td>Fixed</td>\n      <td>LibreOffice</td>\n      <td>x86_64</td>\n      <td>systemd</td>\n      <td>Btrfs, ext3, ext4, JFS, ReiserFS, XFS</td>\n      <td>Yes</td>\n    </tr>\n    <tr>\n      <th>smeserver</th>\n      <td>4.1.2</td>\n      <td>2001-03-30</td>\n      <td>NaN</td>\n      <td>NaN</td>\n      <td>NaN</td>\n      <td>ISO</td>\n      <td>Text mode</td>\n      <td>--</td>\n      <td>RPM</td>\n      <td>Fixed</td>\n      <td>--</td>\n      <td>i386</td>\n      <td>SysV</td>\n      <td>NaN</td>\n      <td>NaN</td>\n    </tr>\n    <tr>\n      <th>xigmanas</th>\n      <td>12.1.0.4</td>\n      <td>2020-12-12</td>\n      <td>NaN</td>\n      <td>Free</td>\n      <td>200-600</td>\n      <td>ISO</td>\n      <td>Text mode</td>\n      <td>--</td>\n      <td>--</td>\n      <td>Fixed</td>\n      <td>--</td>\n      <td>i386, x86_64</td>\n      <td>RC</td>\n      <td>--</td>\n      <td>--</td>\n    </tr>\n    <tr>\n      <th>lite</th>\n      <td>2.8</td>\n      <td>2016-01-31</td>\n      <td>NaN</td>\n      <td>Free</td>\n      <td>NaN</td>\n      <td>ISO</td>\n      <td>Graphical</td>\n      <td>Xfce</td>\n      <td>DEB</td>\n      <td>Fixed</td>\n      <td>LibreOffice</td>\n      <td>i386, x86_64</td>\n      <td>systemd</td>\n      <td>NaN</td>\n      <td>NaN</td>\n    </tr>\n  </tbody>\n</table>\n</div>"
     },
     "metadata": {},
     "execution_count": 257
    }
   ],
   "source": [
    "full_df = pd.concat([el.T for el in df_list], \n",
    "                    keys=[el for el in ranked_hrefs], axis=0).reset_index(level=1, drop=True)\n",
    "\n",
    "full_df.index.name = 'distro'\n",
    "# full_df.to_csv('df-all_versions.csv', index=True, columns=full_df.columns.values)\n",
    "\n",
    "full_df.sample(n=5)"
   ]
  },
  {
   "source": [
    "## Loading it back in"
   ],
   "cell_type": "markdown",
   "metadata": {}
  },
  {
   "cell_type": "code",
   "execution_count": 21,
   "metadata": {},
   "outputs": [],
   "source": [
    "releases = pd.read_csv('full_releases_df.csv', index_col=0)\n",
    "os_info = pd.read_csv('os_info_df.csv', index_col=0)\n",
    "distro_rank = pd.read_csv('distro_rank_df.csv', index_col=0)\n",
    "\n",
    "# df[df.index == 'arch']['Journaled File Systems'].value_counts()"
   ]
  },
  {
   "cell_type": "code",
   "execution_count": 22,
   "metadata": {},
   "outputs": [
    {
     "output_type": "stream",
     "name": "stdout",
     "text": [
      "275 275 276\n"
     ]
    }
   ],
   "source": [
    "idxs = np.unique(releases.index.values, return_index=True)[1]\n",
    "distro_hrefs = [releases.index.values[idx] for idx in sorted(idxs)]\n",
    "\n",
    "print(len(os_info.columns.values), len(distro_hrefs), distro_rank.shape[0])"
   ]
  },
  {
   "cell_type": "code",
   "execution_count": 23,
   "metadata": {},
   "outputs": [],
   "source": [
    "href2distro = dict(zip(distro_hrefs, os_info.columns.values))"
   ]
  },
  {
   "cell_type": "code",
   "execution_count": 24,
   "metadata": {},
   "outputs": [
    {
     "output_type": "execute_result",
     "data": {
      "text/plain": [
       "         12 months  6 months  3 months  1 month\n",
       "Distro                                         \n",
       "mx            3959      3413      3407     3464\n",
       "manjaro       2713      2341      2451     2532\n",
       "mint          2355      2094      1948     1987\n",
       "ubuntu        1610      1378      1410     1271\n",
       "debian        1435      1246      1258     1297"
      ],
      "text/html": "<div>\n<style scoped>\n    .dataframe tbody tr th:only-of-type {\n        vertical-align: middle;\n    }\n\n    .dataframe tbody tr th {\n        vertical-align: top;\n    }\n\n    .dataframe thead th {\n        text-align: right;\n    }\n</style>\n<table border=\"1\" class=\"dataframe\">\n  <thead>\n    <tr style=\"text-align: right;\">\n      <th></th>\n      <th>12 months</th>\n      <th>6 months</th>\n      <th>3 months</th>\n      <th>1 month</th>\n    </tr>\n    <tr>\n      <th>Distro</th>\n      <th></th>\n      <th></th>\n      <th></th>\n      <th></th>\n    </tr>\n  </thead>\n  <tbody>\n    <tr>\n      <th>mx</th>\n      <td>3959</td>\n      <td>3413</td>\n      <td>3407</td>\n      <td>3464</td>\n    </tr>\n    <tr>\n      <th>manjaro</th>\n      <td>2713</td>\n      <td>2341</td>\n      <td>2451</td>\n      <td>2532</td>\n    </tr>\n    <tr>\n      <th>mint</th>\n      <td>2355</td>\n      <td>2094</td>\n      <td>1948</td>\n      <td>1987</td>\n    </tr>\n    <tr>\n      <th>ubuntu</th>\n      <td>1610</td>\n      <td>1378</td>\n      <td>1410</td>\n      <td>1271</td>\n    </tr>\n    <tr>\n      <th>debian</th>\n      <td>1435</td>\n      <td>1246</td>\n      <td>1258</td>\n      <td>1297</td>\n    </tr>\n  </tbody>\n</table>\n</div>"
     },
     "metadata": {},
     "execution_count": 24
    }
   ],
   "source": [
    "distro_rank = distro_rank.rename(index={b: a for a, b in href2distro.items()})\n",
    "distro_rank.index = distro_rank.index.str.lower()\n",
    "\n",
    "distro_rank.head(5)"
   ]
  },
  {
   "cell_type": "code",
   "execution_count": 25,
   "metadata": {},
   "outputs": [
    {
     "output_type": "execute_result",
     "data": {
      "text/plain": [
       "             mx manjaro  mint popos ubuntu debian elementary fedora endeavour  \\\n",
       "ranks         1       2     3     4      5      6          7      8         9   \n",
       "1 month    3464    2532  1987  2242   1271   1297       1129    908      1085   \n",
       "3 months   3407    2451  1948  2204   1410   1258       1109   1070      1024   \n",
       "6 months   3413    2341  2094  1821   1378   1246       1133    966       877   \n",
       "12 months  3959    2713  2355  1400   1610   1435       1337   1028       727   \n",
       "\n",
       "          solus  ... ubuntu dp suse debian edu fatdog64 secure-k photon  \\\n",
       "ranks        10  ...       280  281        282      283      284    285   \n",
       "1 month     771  ...       148   68        105       39       36     35   \n",
       "3 months    785  ...       174   62         95       40       36     34   \n",
       "6 months    863  ...       176   82         79       38       34     32   \n",
       "12 months  1073  ...       117   83         75       47       35     32   \n",
       "\n",
       "          source mage super grub2 rocks cluster pakos  \n",
       "ranks             286         287           288   289  \n",
       "1 month            33          32            36     3  \n",
       "3 months           33          30            32     1  \n",
       "6 months           31          30            30     0  \n",
       "12 months          32          31            30     0  \n",
       "\n",
       "[5 rows x 289 columns]"
      ],
      "text/html": "<div>\n<style scoped>\n    .dataframe tbody tr th:only-of-type {\n        vertical-align: middle;\n    }\n\n    .dataframe tbody tr th {\n        vertical-align: top;\n    }\n\n    .dataframe thead th {\n        text-align: right;\n    }\n</style>\n<table border=\"1\" class=\"dataframe\">\n  <thead>\n    <tr style=\"text-align: right;\">\n      <th></th>\n      <th>mx</th>\n      <th>manjaro</th>\n      <th>mint</th>\n      <th>popos</th>\n      <th>ubuntu</th>\n      <th>debian</th>\n      <th>elementary</th>\n      <th>fedora</th>\n      <th>endeavour</th>\n      <th>solus</th>\n      <th>...</th>\n      <th>ubuntu dp</th>\n      <th>suse</th>\n      <th>debian edu</th>\n      <th>fatdog64</th>\n      <th>secure-k</th>\n      <th>photon</th>\n      <th>source mage</th>\n      <th>super grub2</th>\n      <th>rocks cluster</th>\n      <th>pakos</th>\n    </tr>\n  </thead>\n  <tbody>\n    <tr>\n      <th>ranks</th>\n      <td>1</td>\n      <td>2</td>\n      <td>3</td>\n      <td>4</td>\n      <td>5</td>\n      <td>6</td>\n      <td>7</td>\n      <td>8</td>\n      <td>9</td>\n      <td>10</td>\n      <td>...</td>\n      <td>280</td>\n      <td>281</td>\n      <td>282</td>\n      <td>283</td>\n      <td>284</td>\n      <td>285</td>\n      <td>286</td>\n      <td>287</td>\n      <td>288</td>\n      <td>289</td>\n    </tr>\n    <tr>\n      <th>1 month</th>\n      <td>3464</td>\n      <td>2532</td>\n      <td>1987</td>\n      <td>2242</td>\n      <td>1271</td>\n      <td>1297</td>\n      <td>1129</td>\n      <td>908</td>\n      <td>1085</td>\n      <td>771</td>\n      <td>...</td>\n      <td>148</td>\n      <td>68</td>\n      <td>105</td>\n      <td>39</td>\n      <td>36</td>\n      <td>35</td>\n      <td>33</td>\n      <td>32</td>\n      <td>36</td>\n      <td>3</td>\n    </tr>\n    <tr>\n      <th>3 months</th>\n      <td>3407</td>\n      <td>2451</td>\n      <td>1948</td>\n      <td>2204</td>\n      <td>1410</td>\n      <td>1258</td>\n      <td>1109</td>\n      <td>1070</td>\n      <td>1024</td>\n      <td>785</td>\n      <td>...</td>\n      <td>174</td>\n      <td>62</td>\n      <td>95</td>\n      <td>40</td>\n      <td>36</td>\n      <td>34</td>\n      <td>33</td>\n      <td>30</td>\n      <td>32</td>\n      <td>1</td>\n    </tr>\n    <tr>\n      <th>6 months</th>\n      <td>3413</td>\n      <td>2341</td>\n      <td>2094</td>\n      <td>1821</td>\n      <td>1378</td>\n      <td>1246</td>\n      <td>1133</td>\n      <td>966</td>\n      <td>877</td>\n      <td>863</td>\n      <td>...</td>\n      <td>176</td>\n      <td>82</td>\n      <td>79</td>\n      <td>38</td>\n      <td>34</td>\n      <td>32</td>\n      <td>31</td>\n      <td>30</td>\n      <td>30</td>\n      <td>0</td>\n    </tr>\n    <tr>\n      <th>12 months</th>\n      <td>3959</td>\n      <td>2713</td>\n      <td>2355</td>\n      <td>1400</td>\n      <td>1610</td>\n      <td>1435</td>\n      <td>1337</td>\n      <td>1028</td>\n      <td>727</td>\n      <td>1073</td>\n      <td>...</td>\n      <td>117</td>\n      <td>83</td>\n      <td>75</td>\n      <td>47</td>\n      <td>35</td>\n      <td>32</td>\n      <td>32</td>\n      <td>31</td>\n      <td>30</td>\n      <td>0</td>\n    </tr>\n  </tbody>\n</table>\n<p>5 rows × 289 columns</p>\n</div>"
     },
     "metadata": {},
     "execution_count": 25
    }
   ],
   "source": [
    "os_info = os_info.rename(columns={b: a for a, b in href2distro.items()})\n",
    "\n",
    "ranks = pd.DataFrame(np.arange(1, os_info.shape[1]+1)).rename(columns={0: 'ranks'})\n",
    "ranks = ranks.T\n",
    "ranks.columns = os_info.columns\n",
    "\n",
    "os_info = pd.concat([ranks, os_info])\n",
    "os_info = pd.concat([os_info, distro_rank.T])\n",
    "\n",
    "cols = os_info.T.columns.tolist()\n",
    "cols = [cols[0]] + cols[9:][::-1] + cols[1:9]\n",
    "\n",
    "os_info = os_info.T[cols].T\n",
    "\n",
    "# I guess the column lengths changed, so:\n",
    "os_info.iloc[0] = np.where(os_info.iloc[0].isnull(), [x for x in np.arange(1, 290)], os_info.iloc[0])\n",
    "\n",
    "os_info.head()"
   ]
  },
  {
   "source": [
    "### Getting all the ratings"
   ],
   "cell_type": "markdown",
   "metadata": {}
  },
  {
   "cell_type": "code",
   "execution_count": 26,
   "metadata": {},
   "outputs": [],
   "source": [
    "full_urls = [base_url + item for item in ranked_hrefs]\n",
    "\n",
    "\n",
    "def get_rating(soup):\n",
    "    name = soup.find('h1').text\n",
    "    rating = soup.find('div', attrs={'style': 'font-size: 64px; text-align: left'}).text\n",
    "\n",
    "    d = {name: rating}\n",
    "\n",
    "    return d"
   ]
  },
  {
   "cell_type": "code",
   "execution_count": 28,
   "metadata": {},
   "outputs": [],
   "source": [
    "test_ratings = np.random.choice(full_urls, 5).tolist()\n",
    "\n",
    "ratings_dict = {}\n",
    "\n",
    "[ratings_dict.update(get_rating(get_page(el))) for el in test_ratings]"
   ]
  },
  {
   "cell_type": "code",
   "execution_count": 27,
   "metadata": {},
   "outputs": [],
   "source": [
    "full_ratings = {}\n",
    "\n",
    "for i, el in enumerate(full_urls):\n",
    "    full_ratings.update(get_rating(get_page(el)))\n",
    "\n",
    "    if (i+1) % 10 == 0:\n",
    "        print(f'Distro {el} completed, number {i+1}')"
   ]
  },
  {
   "cell_type": "code",
   "execution_count": 38,
   "metadata": {},
   "outputs": [],
   "source": [
    "with open('ratings.json', 'w', encoding='utf-8') as f:\n",
    "    json.dump(full_ratings, f, ensure_ascii=False, indent=4)"
   ]
  },
  {
   "cell_type": "code",
   "execution_count": 29,
   "metadata": {},
   "outputs": [],
   "source": [
    "with open('ratings.json', 'r') as f:\n",
    "    ratings = json.load(f)"
   ]
  },
  {
   "source": [
    "### Adding ratings to the dataframe"
   ],
   "cell_type": "markdown",
   "metadata": {}
  },
  {
   "cell_type": "code",
   "execution_count": 30,
   "metadata": {},
   "outputs": [
    {
     "output_type": "execute_result",
     "data": {
      "text/plain": [
       "{'Baltix GNU/Linux', 'Scientific Linux'}"
      ]
     },
     "metadata": {},
     "execution_count": 30
    }
   ],
   "source": [
    "distro2href = {b: a for a, b in href2distro.items()}\n",
    "\n",
    "r_keys = list(ratings.keys())\n",
    "d_keys = list(distro2href.keys())\n",
    "\n",
    "ra_keys = distro_rank.T.columns.values\n",
    "\n",
    "# Symmetric difference between the two\n",
    "{*d_keys} ^ {*r_keys}"
   ]
  },
  {
   "cell_type": "code",
   "execution_count": 31,
   "metadata": {},
   "outputs": [
    {
     "output_type": "stream",
     "name": "stdout",
     "text": [
      "False\nFalse\n275 275 276 289\nFalse\nTrue\n"
     ]
    }
   ],
   "source": [
    "print('Scientific Linux' in d_keys)\n",
    "print('Baltix GNU/Linux' in r_keys)\n",
    "\n",
    "# Scientific Linux = scientific\n",
    "# Baltix GNU/Linux = baltix\n",
    "\n",
    "print(len(r_keys), len(d_keys), len(ra_keys), os_info.shape[1])\n",
    "\n",
    "print('scientific' in os_info.columns.values)\n",
    "print('baltix' in os_info.columns.values)\n",
    "\n",
    "# {*os_info.columns.values} ^ {*href2distro}"
   ]
  },
  {
   "cell_type": "code",
   "execution_count": 32,
   "metadata": {},
   "outputs": [],
   "source": [
    "ratings['Baltix GNU/Linux'] = np.nan\n",
    "href2distro['scientific'] = 'Scientific Linux'\n",
    "\n",
    "distro2href = {b: a for a, b in href2distro.items()}"
   ]
  },
  {
   "cell_type": "code",
   "execution_count": 33,
   "metadata": {},
   "outputs": [],
   "source": [
    "ratings_dict = {distro2href.get(k, v): v for k, v in ratings.items()}\n",
    "\n",
    "# s_ratings = dict(sorted(ratings.items()))\n",
    "# s_distro2href = dict(sorted(distro2href.items()))\n",
    "\n",
    "# dict(zip(s_distro2href.values(), s_ratings.values()))"
   ]
  },
  {
   "cell_type": "code",
   "execution_count": 34,
   "metadata": {},
   "outputs": [
    {
     "output_type": "stream",
     "name": "stdout",
     "text": [
      "[('N/A', 32)]\n"
     ]
    }
   ],
   "source": [
    "from collections import Counter\n",
    "\n",
    "print(Counter(list(ratings.values())).most_common(1))\n",
    "\n",
    "na = [k for k, v in ratings.items() if v == 'N/A']"
   ]
  },
  {
   "cell_type": "code",
   "execution_count": 35,
   "metadata": {},
   "outputs": [
    {
     "output_type": "execute_result",
     "data": {
      "text/plain": [
       "   ranks 1 month 3 months 6 months 12 months  \\\n",
       "mx     1    3464     3407     3413      3959   \n",
       "\n",
       "                             Based on             OS Type      Architecture  \\\n",
       "mx  ['Debian (Stable), anti XOrigin']  ['Linux Based on']  ['i686, x86_64']   \n",
       "\n",
       "     Desktop                            Category      Status Origin  rating  \n",
       "mx  ['Xfce']  ['Desktop, From RAM, Live Medium']  ['Active']    NaN     8.7  "
      ],
      "text/html": "<div>\n<style scoped>\n    .dataframe tbody tr th:only-of-type {\n        vertical-align: middle;\n    }\n\n    .dataframe tbody tr th {\n        vertical-align: top;\n    }\n\n    .dataframe thead th {\n        text-align: right;\n    }\n</style>\n<table border=\"1\" class=\"dataframe\">\n  <thead>\n    <tr style=\"text-align: right;\">\n      <th></th>\n      <th>ranks</th>\n      <th>1 month</th>\n      <th>3 months</th>\n      <th>6 months</th>\n      <th>12 months</th>\n      <th>Based on</th>\n      <th>OS Type</th>\n      <th>Architecture</th>\n      <th>Desktop</th>\n      <th>Category</th>\n      <th>Status</th>\n      <th>Origin</th>\n      <th>rating</th>\n    </tr>\n  </thead>\n  <tbody>\n    <tr>\n      <th>mx</th>\n      <td>1</td>\n      <td>3464</td>\n      <td>3407</td>\n      <td>3413</td>\n      <td>3959</td>\n      <td>['Debian (Stable), anti XOrigin']</td>\n      <td>['Linux Based on']</td>\n      <td>['i686, x86_64']</td>\n      <td>['Xfce']</td>\n      <td>['Desktop, From RAM, Live Medium']</td>\n      <td>['Active']</td>\n      <td>NaN</td>\n      <td>8.7</td>\n    </tr>\n  </tbody>\n</table>\n</div>"
     },
     "metadata": {},
     "execution_count": 35
    }
   ],
   "source": [
    "os_turned = os_info.T.copy()\n",
    "os_turned['rating'] = os_turned.index.map(ratings_dict)\n",
    "\n",
    "# Popularity column is redundant since I have the rank and hits per day in separate columns\n",
    "os_turned = os_turned.drop('Popularity', axis=1)\n",
    "os_turned['rating'] = os_turned['rating'].replace('N/A', np.nan).fillna(np.nan).astype(np.float32)\n",
    "\n",
    "os_turned[os_turned.index == 'mx']"
   ]
  },
  {
   "cell_type": "code",
   "execution_count": 36,
   "metadata": {},
   "outputs": [],
   "source": [
    "full_releases = releases.copy()"
   ]
  },
  {
   "cell_type": "code",
   "execution_count": 37,
   "metadata": {},
   "outputs": [
    {
     "output_type": "execute_result",
     "data": {
      "text/plain": [
       "        ranks 1 month 3 months 6 months 12 months  \\\n",
       "mx          1    3464     3407     3413      3959   \n",
       "manjaro     2    2532     2451     2341      2713   \n",
       "mint        3    1987     1948     2094      2355   \n",
       "popos       4    2242     2204     1821      1400   \n",
       "ubuntu      5    1271     1410     1378      1610   \n",
       "\n",
       "                                  Based on             OS Type  \\\n",
       "mx       ['Debian (Stable), anti XOrigin']  ['Linux Based on']   \n",
       "manjaro                           ['Arch']                 NaN   \n",
       "mint              ['Debian, Ubuntu (LTS)']                 NaN   \n",
       "popos                   ['Ubuntu, Debian']  ['Linux Based on']   \n",
       "ubuntu                          ['Debian']                 NaN   \n",
       "\n",
       "                                             Architecture  \\\n",
       "mx                                       ['i686, x86_64']   \n",
       "manjaro                               ['aarch64, x86_64']   \n",
       "mint                                     ['i686, x86_64']   \n",
       "popos                                          ['x86_64']   \n",
       "ubuntu   ['armhf, i686, powerpc, ppc64el, s390x, x86_64']   \n",
       "\n",
       "                                                   Desktop  \\\n",
       "mx                                                ['Xfce']   \n",
       "manjaro  ['Awesome, bspwm, Budgie, Cinnamon, GNOME, i3,...   \n",
       "mint                              ['Cinnamon, MATE, Xfce']   \n",
       "popos                                    ['GNOMECategory']   \n",
       "ubuntu                                    ['GNOME, Unity']   \n",
       "\n",
       "                                            Category  ... Free Download  \\\n",
       "mx                ['Desktop, From RAM, Live Medium']  ...           ISO   \n",
       "manjaro       ['Desktop, Live Medium, Raspberry Pi']  ...           ISO   \n",
       "mint             ['Beginners, Desktop, Live Medium']  ...           ISO   \n",
       "popos                                            NaN  ...           ISO   \n",
       "ubuntu   ['Beginners, Desktop, Server, Live Medium']  ...           ISO   \n",
       "\n",
       "        Installation       Default Desktop Package Management Release Model  \\\n",
       "mx         Graphical      KDE Plasma, Xfce                DEB  Semi-Rolling   \n",
       "manjaro    Graphical                   NaN       Pacman, snap       Rolling   \n",
       "mint       Graphical  Cinnamon, MATE, Xfce                DEB         Fixed   \n",
       "popos      Graphical                 GNOME          DEB (apt)         Fixed   \n",
       "ubuntu     Graphical                 GNOME                DEB       Rolling   \n",
       "\n",
       "                    Office Suite        Processor Architecture Init Software  \\\n",
       "mx                   LibreOffice                  i386, x86_64          SysV   \n",
       "manjaro  FreeOffice, LibreOffice                        x86_64       systemd   \n",
       "mint                 LibreOffice                        x86_64       systemd   \n",
       "popos                LibreOffice                        x86_64       systemd   \n",
       "ubuntu               LibreOffice  amd64, arm64, ppc64el, s390x       systemd   \n",
       "\n",
       "                        Journaled File Systems  \\\n",
       "mx              ext3, ext4, JFS, ReiserFS, XFS   \n",
       "manjaro  Btrfs, ext3, ext4, JFS, ReiserFS, XFS   \n",
       "mint     Btrfs, ext3, ext4, JFS, ReiserFS, XFS   \n",
       "popos                              Btrfs, ext4   \n",
       "ubuntu   Btrfs, ext3, ext4, JFS, ReiserFS, XFS   \n",
       "\n",
       "                                  Multilingual  \n",
       "mx       en, ca, cs, de, es, fr, hu, nl, pt_br  \n",
       "manjaro                             de, en, fr  \n",
       "mint                                       Yes  \n",
       "popos                                      Yes  \n",
       "ubuntu                                     Yes  \n",
       "\n",
       "[5 rows x 28 columns]"
      ],
      "text/html": "<div>\n<style scoped>\n    .dataframe tbody tr th:only-of-type {\n        vertical-align: middle;\n    }\n\n    .dataframe tbody tr th {\n        vertical-align: top;\n    }\n\n    .dataframe thead th {\n        text-align: right;\n    }\n</style>\n<table border=\"1\" class=\"dataframe\">\n  <thead>\n    <tr style=\"text-align: right;\">\n      <th></th>\n      <th>ranks</th>\n      <th>1 month</th>\n      <th>3 months</th>\n      <th>6 months</th>\n      <th>12 months</th>\n      <th>Based on</th>\n      <th>OS Type</th>\n      <th>Architecture</th>\n      <th>Desktop</th>\n      <th>Category</th>\n      <th>...</th>\n      <th>Free Download</th>\n      <th>Installation</th>\n      <th>Default Desktop</th>\n      <th>Package Management</th>\n      <th>Release Model</th>\n      <th>Office Suite</th>\n      <th>Processor Architecture</th>\n      <th>Init Software</th>\n      <th>Journaled File Systems</th>\n      <th>Multilingual</th>\n    </tr>\n  </thead>\n  <tbody>\n    <tr>\n      <th>mx</th>\n      <td>1</td>\n      <td>3464</td>\n      <td>3407</td>\n      <td>3413</td>\n      <td>3959</td>\n      <td>['Debian (Stable), anti XOrigin']</td>\n      <td>['Linux Based on']</td>\n      <td>['i686, x86_64']</td>\n      <td>['Xfce']</td>\n      <td>['Desktop, From RAM, Live Medium']</td>\n      <td>...</td>\n      <td>ISO</td>\n      <td>Graphical</td>\n      <td>KDE Plasma, Xfce</td>\n      <td>DEB</td>\n      <td>Semi-Rolling</td>\n      <td>LibreOffice</td>\n      <td>i386, x86_64</td>\n      <td>SysV</td>\n      <td>ext3, ext4, JFS, ReiserFS, XFS</td>\n      <td>en, ca, cs, de, es, fr, hu, nl, pt_br</td>\n    </tr>\n    <tr>\n      <th>manjaro</th>\n      <td>2</td>\n      <td>2532</td>\n      <td>2451</td>\n      <td>2341</td>\n      <td>2713</td>\n      <td>['Arch']</td>\n      <td>NaN</td>\n      <td>['aarch64, x86_64']</td>\n      <td>['Awesome, bspwm, Budgie, Cinnamon, GNOME, i3,...</td>\n      <td>['Desktop, Live Medium, Raspberry Pi']</td>\n      <td>...</td>\n      <td>ISO</td>\n      <td>Graphical</td>\n      <td>NaN</td>\n      <td>Pacman, snap</td>\n      <td>Rolling</td>\n      <td>FreeOffice, LibreOffice</td>\n      <td>x86_64</td>\n      <td>systemd</td>\n      <td>Btrfs, ext3, ext4, JFS, ReiserFS, XFS</td>\n      <td>de, en, fr</td>\n    </tr>\n    <tr>\n      <th>mint</th>\n      <td>3</td>\n      <td>1987</td>\n      <td>1948</td>\n      <td>2094</td>\n      <td>2355</td>\n      <td>['Debian, Ubuntu (LTS)']</td>\n      <td>NaN</td>\n      <td>['i686, x86_64']</td>\n      <td>['Cinnamon, MATE, Xfce']</td>\n      <td>['Beginners, Desktop, Live Medium']</td>\n      <td>...</td>\n      <td>ISO</td>\n      <td>Graphical</td>\n      <td>Cinnamon, MATE, Xfce</td>\n      <td>DEB</td>\n      <td>Fixed</td>\n      <td>LibreOffice</td>\n      <td>x86_64</td>\n      <td>systemd</td>\n      <td>Btrfs, ext3, ext4, JFS, ReiserFS, XFS</td>\n      <td>Yes</td>\n    </tr>\n    <tr>\n      <th>popos</th>\n      <td>4</td>\n      <td>2242</td>\n      <td>2204</td>\n      <td>1821</td>\n      <td>1400</td>\n      <td>['Ubuntu, Debian']</td>\n      <td>['Linux Based on']</td>\n      <td>['x86_64']</td>\n      <td>['GNOMECategory']</td>\n      <td>NaN</td>\n      <td>...</td>\n      <td>ISO</td>\n      <td>Graphical</td>\n      <td>GNOME</td>\n      <td>DEB (apt)</td>\n      <td>Fixed</td>\n      <td>LibreOffice</td>\n      <td>x86_64</td>\n      <td>systemd</td>\n      <td>Btrfs, ext4</td>\n      <td>Yes</td>\n    </tr>\n    <tr>\n      <th>ubuntu</th>\n      <td>5</td>\n      <td>1271</td>\n      <td>1410</td>\n      <td>1378</td>\n      <td>1610</td>\n      <td>['Debian']</td>\n      <td>NaN</td>\n      <td>['armhf, i686, powerpc, ppc64el, s390x, x86_64']</td>\n      <td>['GNOME, Unity']</td>\n      <td>['Beginners, Desktop, Server, Live Medium']</td>\n      <td>...</td>\n      <td>ISO</td>\n      <td>Graphical</td>\n      <td>GNOME</td>\n      <td>DEB</td>\n      <td>Rolling</td>\n      <td>LibreOffice</td>\n      <td>amd64, arm64, ppc64el, s390x</td>\n      <td>systemd</td>\n      <td>Btrfs, ext3, ext4, JFS, ReiserFS, XFS</td>\n      <td>Yes</td>\n    </tr>\n  </tbody>\n</table>\n<p>5 rows × 28 columns</p>\n</div>"
     },
     "metadata": {},
     "execution_count": 37
    }
   ],
   "source": [
    "idxs = np.unique(releases.index.values, return_index=True)[1]\n",
    "distro_hrefs = [releases.index.values[idx] for idx in sorted(idxs)]\n",
    "\n",
    "recent_release_idx = [(full_releases.index == i).argmax() for i in distro_hrefs]\n",
    "# full_releases.groupby(full_releases.index).first()\n",
    "recent_releases = full_releases.iloc[recent_release_idx]\n",
    "\n",
    "info_releases = pd.concat([os_turned, recent_releases], join='outer', axis=1)\n",
    "info_releases = info_releases.drop(info_releases.tail(14).index) # Last 14 are all nan\n",
    "info_releases.head()"
   ]
  },
  {
   "source": [
    "----\n",
    "----\n",
    "## Cleaning the Data\n",
    "----\n",
    "### Desktops:\n",
    "Most common: KDE, Xfce, Budgie, Cinnamon, GNOME, MATE, LXDE, LXQt, Openbox, Fluxbox\n",
    "\n",
    "----"
   ],
   "cell_type": "markdown",
   "metadata": {}
  },
  {
   "cell_type": "code",
   "execution_count": 38,
   "metadata": {},
   "outputs": [],
   "source": [
    "i_release = info_releases.copy()\n",
    "i_release['ddesktop'] = i_release['Desktop'].astype(str) + ' ' + i_release['Default Desktop'].astype(str)\n",
    "i_release = i_release.replace(r\"\\[|\\]|\\'|\\,|\\(|\\)\", '', regex=True)\n",
    "\n",
    "i_release = i_release.rename(columns={'1 month': '1_month', '3 months': '3_months', '6 months': '6_months', '12 months': '12_months'}).drop(['Desktop', 'Default Desktop'], axis=1)\n",
    "\n",
    "i_release.columns = i_release.columns.str.lower()"
   ]
  },
  {
   "cell_type": "code",
   "execution_count": 39,
   "metadata": {},
   "outputs": [],
   "source": [
    "def other(df:pd.core.frame.DataFrame, l:list, col, new_col:str):\n",
    "    other = df[col].str.contains('|'.join(l), case=False, na=False).astype(int)\n",
    "    df[new_col] = 0\n",
    "    df.loc[other[other == 0].index, new_col] = 1\n",
    "\n",
    "    df = df.drop(col, axis=1)\n",
    "\n",
    "    return df"
   ]
  },
  {
   "cell_type": "code",
   "execution_count": 40,
   "metadata": {},
   "outputs": [
    {
     "output_type": "execute_result",
     "data": {
      "text/plain": [
       "          ranks  1_month  3_months  6_months  12_months     based on  \\\n",
       "ghostbsd     49    329.0     229.0     232.0      254.0          NaN   \n",
       "hamonikr    259     28.0      28.0      26.0       13.0  Debian Mint   \n",
       "\n",
       "              os type architecture             category  status  ...  \\\n",
       "ghostbsd  BSDBased on       x86_64  Desktop Live Medium  Active  ...   \n",
       "hamonikr          NaN       x86_64  Desktop Live Medium  Active  ...   \n",
       "\n",
       "         desk_gnome  desk_mate desk_lxde desk_lxqt desk_openbox desk_fluxbox  \\\n",
       "ghostbsd          0          1         0         0            0            0   \n",
       "hamonikr          0          0         0         0            0            0   \n",
       "\n",
       "         desk_nodesk desk_web desk_i3 desk_other  \n",
       "ghostbsd           0        0       0          0  \n",
       "hamonikr           0        0       0          0  \n",
       "\n",
       "[2 rows x 40 columns]"
      ],
      "text/html": "<div>\n<style scoped>\n    .dataframe tbody tr th:only-of-type {\n        vertical-align: middle;\n    }\n\n    .dataframe tbody tr th {\n        vertical-align: top;\n    }\n\n    .dataframe thead th {\n        text-align: right;\n    }\n</style>\n<table border=\"1\" class=\"dataframe\">\n  <thead>\n    <tr style=\"text-align: right;\">\n      <th></th>\n      <th>ranks</th>\n      <th>1_month</th>\n      <th>3_months</th>\n      <th>6_months</th>\n      <th>12_months</th>\n      <th>based on</th>\n      <th>os type</th>\n      <th>architecture</th>\n      <th>category</th>\n      <th>status</th>\n      <th>...</th>\n      <th>desk_gnome</th>\n      <th>desk_mate</th>\n      <th>desk_lxde</th>\n      <th>desk_lxqt</th>\n      <th>desk_openbox</th>\n      <th>desk_fluxbox</th>\n      <th>desk_nodesk</th>\n      <th>desk_web</th>\n      <th>desk_i3</th>\n      <th>desk_other</th>\n    </tr>\n  </thead>\n  <tbody>\n    <tr>\n      <th>ghostbsd</th>\n      <td>49</td>\n      <td>329.0</td>\n      <td>229.0</td>\n      <td>232.0</td>\n      <td>254.0</td>\n      <td>NaN</td>\n      <td>BSDBased on</td>\n      <td>x86_64</td>\n      <td>Desktop Live Medium</td>\n      <td>Active</td>\n      <td>...</td>\n      <td>0</td>\n      <td>1</td>\n      <td>0</td>\n      <td>0</td>\n      <td>0</td>\n      <td>0</td>\n      <td>0</td>\n      <td>0</td>\n      <td>0</td>\n      <td>0</td>\n    </tr>\n    <tr>\n      <th>hamonikr</th>\n      <td>259</td>\n      <td>28.0</td>\n      <td>28.0</td>\n      <td>26.0</td>\n      <td>13.0</td>\n      <td>Debian Mint</td>\n      <td>NaN</td>\n      <td>x86_64</td>\n      <td>Desktop Live Medium</td>\n      <td>Active</td>\n      <td>...</td>\n      <td>0</td>\n      <td>0</td>\n      <td>0</td>\n      <td>0</td>\n      <td>0</td>\n      <td>0</td>\n      <td>0</td>\n      <td>0</td>\n      <td>0</td>\n      <td>0</td>\n    </tr>\n  </tbody>\n</table>\n<p>2 rows × 40 columns</p>\n</div>"
     },
     "metadata": {},
     "execution_count": 40
    }
   ],
   "source": [
    "# Counter(' '.join(i_release['ddesktop']).split()).most_common()\n",
    "\n",
    "i_release['desk_kde'] = i_release['ddesktop'].str.contains('KDE', case=False, na=False).astype(int)\n",
    "i_release['desk_xfce'] = i_release['ddesktop'].str.contains('Xfce', case=False, na=False).astype(int)\n",
    "i_release['desk_budgie'] = i_release['ddesktop'].str.contains('Budgie', case=False, na=False).astype(int)\n",
    "i_release['desk_cinnamon'] = i_release['ddesktop'].str.contains('Cinnamon', case=False, na=False).astype(int)\n",
    "i_release['desk_gnome'] = i_release['ddesktop'].str.contains('GNOME', case=False, na=False).astype(int)\n",
    "i_release['desk_mate'] = i_release['ddesktop'].str.contains('MATE', case=False, na=False).astype(int)\n",
    "i_release['desk_lxde'] = i_release['ddesktop'].str.contains('LXDE', case=False, na=False).astype(int)\n",
    "i_release['desk_lxqt'] = i_release['ddesktop'].str.contains('LXQt', case=False, na=False).astype(int)\n",
    "i_release['desk_openbox'] = i_release['ddesktop'].str.contains('openbox', case=False, na=False).astype(int)\n",
    "i_release['desk_fluxbox'] = i_release['ddesktop'].str.contains('fluxbox', case=False, na=False).astype(int)\n",
    "i_release['desk_nodesk'] = i_release['ddesktop'].str.contains('no desktop', case=False, na=False).astype(int)\n",
    "i_release['desk_web'] = i_release['ddesktop'].str.contains('web', case=False, na=False).astype(int)\n",
    "i_release['desk_i3'] = i_release['ddesktop'].str.contains('i3', case=False, na=False).astype(int)\n",
    "\n",
    "# Other desktops\n",
    "desktops = ['KDE', 'Xfce', 'Budgie', 'Cinnamon', 'GNOME', 'MATE', 'LXDE', 'LXQt', 'openbox', 'fluxbox', 'no desktop', 'web', 'i3']\n",
    "\n",
    "i_release = other(df=i_release, l=desktops, col='ddesktop', new_col='desk_other')\n",
    "\n",
    "i_release.sample(2)"
   ]
  },
  {
   "cell_type": "code",
   "execution_count": 41,
   "metadata": {},
   "outputs": [],
   "source": [
    "# other = i_release['ddesktop'].str.contains('|'.join(desktops), case=False, na=False).astype(int)\n",
    "# i_release['desk_other'] = 0\n",
    "# i_release.loc[other[other == 0].index, 'desk_other'] = 1\n",
    "\n",
    "# i_release"
   ]
  },
  {
   "source": [
    "----\n",
    "### Based On:\n",
    "Most common: Fedora, Red Hat, Debian, Ubuntu, Independent, Arch (pacman), Gentoo, Slackware \n",
    "\n",
    "----"
   ],
   "cell_type": "markdown",
   "metadata": {}
  },
  {
   "cell_type": "code",
   "execution_count": 42,
   "metadata": {},
   "outputs": [
    {
     "output_type": "execute_result",
     "data": {
      "text/plain": [
       "            ranks  1_month  3_months  6_months  12_months         os type  \\\n",
       "nethserver    166    181.0      78.0      52.0       44.0  Linux Based on   \n",
       "ipfire        113    133.0     115.0      97.0       98.0  Linux Based on   \n",
       "\n",
       "                    architecture category  status   origin  ...  desk_i3  \\\n",
       "nethserver                x86_64      NaN  Active      NaN  ...        0   \n",
       "ipfire      armv5tel i586 x86_64      NaN  Active  Germany  ...        0   \n",
       "\n",
       "           desk_other based_cent based_fedora based_debian based_indep  \\\n",
       "nethserver          0          1            0            0           0   \n",
       "ipfire              0          0            0            0           1   \n",
       "\n",
       "           based_pacman based_gentoo based_slack based_other  \n",
       "nethserver            0            0           0           0  \n",
       "ipfire                0            0           0           0  \n",
       "\n",
       "[2 rows x 47 columns]"
      ],
      "text/html": "<div>\n<style scoped>\n    .dataframe tbody tr th:only-of-type {\n        vertical-align: middle;\n    }\n\n    .dataframe tbody tr th {\n        vertical-align: top;\n    }\n\n    .dataframe thead th {\n        text-align: right;\n    }\n</style>\n<table border=\"1\" class=\"dataframe\">\n  <thead>\n    <tr style=\"text-align: right;\">\n      <th></th>\n      <th>ranks</th>\n      <th>1_month</th>\n      <th>3_months</th>\n      <th>6_months</th>\n      <th>12_months</th>\n      <th>os type</th>\n      <th>architecture</th>\n      <th>category</th>\n      <th>status</th>\n      <th>origin</th>\n      <th>...</th>\n      <th>desk_i3</th>\n      <th>desk_other</th>\n      <th>based_cent</th>\n      <th>based_fedora</th>\n      <th>based_debian</th>\n      <th>based_indep</th>\n      <th>based_pacman</th>\n      <th>based_gentoo</th>\n      <th>based_slack</th>\n      <th>based_other</th>\n    </tr>\n  </thead>\n  <tbody>\n    <tr>\n      <th>nethserver</th>\n      <td>166</td>\n      <td>181.0</td>\n      <td>78.0</td>\n      <td>52.0</td>\n      <td>44.0</td>\n      <td>Linux Based on</td>\n      <td>x86_64</td>\n      <td>NaN</td>\n      <td>Active</td>\n      <td>NaN</td>\n      <td>...</td>\n      <td>0</td>\n      <td>0</td>\n      <td>1</td>\n      <td>0</td>\n      <td>0</td>\n      <td>0</td>\n      <td>0</td>\n      <td>0</td>\n      <td>0</td>\n      <td>0</td>\n    </tr>\n    <tr>\n      <th>ipfire</th>\n      <td>113</td>\n      <td>133.0</td>\n      <td>115.0</td>\n      <td>97.0</td>\n      <td>98.0</td>\n      <td>Linux Based on</td>\n      <td>armv5tel i586 x86_64</td>\n      <td>NaN</td>\n      <td>Active</td>\n      <td>Germany</td>\n      <td>...</td>\n      <td>0</td>\n      <td>0</td>\n      <td>0</td>\n      <td>0</td>\n      <td>0</td>\n      <td>1</td>\n      <td>0</td>\n      <td>0</td>\n      <td>0</td>\n      <td>0</td>\n    </tr>\n  </tbody>\n</table>\n<p>2 rows × 47 columns</p>\n</div>"
     },
     "metadata": {},
     "execution_count": 42
    }
   ],
   "source": [
    "# Counter(' '.join(i_release['Based on']).split()).most_common()\n",
    "\n",
    "i_release['based_cent'] = i_release['based on'].str.contains('Cent|Clear|Scientific', case=False, na=False).astype(int)\n",
    "# Fedora and Red Hat are different (red hat spnosors fedora) so I'm combining them\n",
    "i_release['based_fedora'] = i_release['based on'].str.contains('Fedora|Red|Hat', case=False, na=False).astype(int)\n",
    "# Ubuntu is Debian based, and there is a line of Unbuntu-based distros but i'm combining them\n",
    "i_release['based_debian'] = i_release['based on'].str.contains('Debian|Ubuntu', case=False, na=False).astype(int)\n",
    "i_release['based_indep'] = i_release['based on'].str.contains('Independent', case=False, na=False).astype(int)\n",
    "i_release['based_pacman'] = i_release['based on'].str.contains('Arch', case=False, na=False).astype(int)\n",
    "i_release['based_gentoo'] = i_release['based on'].str.contains('Gentoo', case=False, na=False).astype(int)\n",
    "i_release['based_slack'] = i_release['based on'].str.contains('Slackware', case=False, na=False).astype(int)\n",
    "\n",
    "# Other 'based_on'\n",
    "based_on = ['Cent', 'Clear', 'Scientific', 'Fedora', 'Red', 'Hat', 'Debian', 'Ubuntu', 'Independent', 'Arch', 'Gentoo', 'Slackware']\n",
    "\n",
    "i_release = other(df=i_release, l=based_on, col='based on', new_col='based_other')\n",
    "i_release.sample(2)"
   ]
  },
  {
   "source": [
    "----\n",
    "### OS Type\n",
    "\n",
    "Doesn't look useful, so I will drop it\n",
    "\n",
    "----"
   ],
   "cell_type": "markdown",
   "metadata": {}
  },
  {
   "cell_type": "code",
   "execution_count": 43,
   "metadata": {},
   "outputs": [
    {
     "output_type": "stream",
     "name": "stdout",
     "text": [
      "[('nan', 170), ('on', 105), ('Based', 84), ('Linux', 83), ('BSDBased', 15), ('Other', 4), ('OSBased', 4), ('Solaris', 1), ('KISSBased', 1), ('GRUBBased', 1)]\n"
     ]
    }
   ],
   "source": [
    "print(Counter(' '.join(i_release['os type'].astype(str)).split()).most_common())\n",
    "\n",
    "i_release = i_release.drop('os type', axis=1)"
   ]
  },
  {
   "source": [
    "----\n",
    "### Architecture\n",
    "----"
   ],
   "cell_type": "markdown",
   "metadata": {}
  },
  {
   "cell_type": "code",
   "execution_count": 44,
   "metadata": {},
   "outputs": [
    {
     "output_type": "execute_result",
     "data": {
      "text/plain": [
       "[('x86_64', 502), ('i686', 111), ('i386', 74), ('armhf', 54), ('aarch64', 36)]"
      ]
     },
     "metadata": {},
     "execution_count": 44
    }
   ],
   "source": [
    "i_release['processor'] = i_release['architecture'].astype(str) + ' ' + i_release['processor architecture'].astype(str)\n",
    "\n",
    "i_release = i_release.drop(['architecture', 'processor architecture'], axis=1)\n",
    "\n",
    "Counter(' '.join(i_release['processor'].astype(str)).split()).most_common(5)"
   ]
  },
  {
   "cell_type": "code",
   "execution_count": 45,
   "metadata": {},
   "outputs": [
    {
     "output_type": "execute_result",
     "data": {
      "text/plain": [
       "        ranks  1_month  3_months  6_months  12_months category  status  \\\n",
       "antix      18    517.0     588.0     567.0      706.0      NaN  Active   \n",
       "redhat     63      NaN       NaN       NaN        NaN      NaN  Active   \n",
       "\n",
       "        origin  rating   feature  ... based_pacman based_gentoo based_slack  \\\n",
       "antix   Greece     8.3      19.3  ...            0            0           0   \n",
       "redhat     USA     7.8  RHEL-8.3  ...            0            0           0   \n",
       "\n",
       "       based_other arc_x86 arc_i686 arc_i386 arc_arm arc_aarch arc_other  \n",
       "antix            0       1        1        0       0         0         0  \n",
       "redhat           0       1        0        1       0         1         0  \n",
       "\n",
       "[2 rows x 50 columns]"
      ],
      "text/html": "<div>\n<style scoped>\n    .dataframe tbody tr th:only-of-type {\n        vertical-align: middle;\n    }\n\n    .dataframe tbody tr th {\n        vertical-align: top;\n    }\n\n    .dataframe thead th {\n        text-align: right;\n    }\n</style>\n<table border=\"1\" class=\"dataframe\">\n  <thead>\n    <tr style=\"text-align: right;\">\n      <th></th>\n      <th>ranks</th>\n      <th>1_month</th>\n      <th>3_months</th>\n      <th>6_months</th>\n      <th>12_months</th>\n      <th>category</th>\n      <th>status</th>\n      <th>origin</th>\n      <th>rating</th>\n      <th>feature</th>\n      <th>...</th>\n      <th>based_pacman</th>\n      <th>based_gentoo</th>\n      <th>based_slack</th>\n      <th>based_other</th>\n      <th>arc_x86</th>\n      <th>arc_i686</th>\n      <th>arc_i386</th>\n      <th>arc_arm</th>\n      <th>arc_aarch</th>\n      <th>arc_other</th>\n    </tr>\n  </thead>\n  <tbody>\n    <tr>\n      <th>antix</th>\n      <td>18</td>\n      <td>517.0</td>\n      <td>588.0</td>\n      <td>567.0</td>\n      <td>706.0</td>\n      <td>NaN</td>\n      <td>Active</td>\n      <td>Greece</td>\n      <td>8.3</td>\n      <td>19.3</td>\n      <td>...</td>\n      <td>0</td>\n      <td>0</td>\n      <td>0</td>\n      <td>0</td>\n      <td>1</td>\n      <td>1</td>\n      <td>0</td>\n      <td>0</td>\n      <td>0</td>\n      <td>0</td>\n    </tr>\n    <tr>\n      <th>redhat</th>\n      <td>63</td>\n      <td>NaN</td>\n      <td>NaN</td>\n      <td>NaN</td>\n      <td>NaN</td>\n      <td>NaN</td>\n      <td>Active</td>\n      <td>USA</td>\n      <td>7.8</td>\n      <td>RHEL-8.3</td>\n      <td>...</td>\n      <td>0</td>\n      <td>0</td>\n      <td>0</td>\n      <td>0</td>\n      <td>1</td>\n      <td>0</td>\n      <td>1</td>\n      <td>0</td>\n      <td>1</td>\n      <td>0</td>\n    </tr>\n  </tbody>\n</table>\n<p>2 rows × 50 columns</p>\n</div>"
     },
     "metadata": {},
     "execution_count": 45
    }
   ],
   "source": [
    "i_release['arc_x86'] = i_release['processor'].str.contains('x86_64', case=False, na=False).astype(int)\n",
    "i_release['arc_i686'] = i_release['processor'].str.contains('i686', case=False, na=False).astype(int)\n",
    "i_release['arc_i386'] = i_release['processor'].str.contains('i386', case=False, na=False).astype(int)\n",
    "i_release['arc_arm'] = i_release['processor'].str.contains('armfh', case=False, na=False).astype(int)\n",
    "i_release['arc_aarch'] = i_release['processor'].str.contains('aarch64', case=False, na=False).astype(int)\n",
    "\n",
    "# Other architecture\n",
    "arc = ['x86_64', 'i686', 'i386', 'armfh', 'aarch64']\n",
    "i_release = other(df=i_release, l=arc, col='processor', new_col='arc_other')\n",
    "\n",
    "i_release.sample(2)"
   ]
  },
  {
   "source": [
    "----\n",
    "### Category\n",
    "----"
   ],
   "cell_type": "markdown",
   "metadata": {}
  },
  {
   "cell_type": "code",
   "execution_count": 46,
   "metadata": {},
   "outputs": [
    {
     "output_type": "execute_result",
     "data": {
      "text/plain": [
       "[('Live', 126), ('Medium', 125), ('Desktop', 119), ('nan', 80), ('Server', 41)]"
      ]
     },
     "metadata": {},
     "execution_count": 46
    }
   ],
   "source": [
    "Counter(' '.join(i_release['category'].astype(str)).split()).most_common(5)"
   ]
  },
  {
   "cell_type": "code",
   "execution_count": 47,
   "metadata": {},
   "outputs": [
    {
     "output_type": "execute_result",
     "data": {
      "text/plain": [
       "          ranks  1_month  3_months  6_months  12_months  status  origin  \\\n",
       "archbang     65    154.0     235.0     183.0      169.0  Active  Canada   \n",
       "artix        51    212.0     216.0     230.0      207.0  Active  Global   \n",
       "\n",
       "          rating   feature release date  ... arc_i686 arc_i386 arc_arm  \\\n",
       "archbang     9.2      0711   2020-11-07  ...        0        0       0   \n",
       "artix        8.9  20200210   2020-02-10  ...        0        0       0   \n",
       "\n",
       "         arc_aarch arc_other cat_live cat_med cat_desk cat_serv cat_other  \n",
       "archbang         0         0        1       1        1        0         0  \n",
       "artix            0         0        1       1        1        0         0  \n",
       "\n",
       "[2 rows x 54 columns]"
      ],
      "text/html": "<div>\n<style scoped>\n    .dataframe tbody tr th:only-of-type {\n        vertical-align: middle;\n    }\n\n    .dataframe tbody tr th {\n        vertical-align: top;\n    }\n\n    .dataframe thead th {\n        text-align: right;\n    }\n</style>\n<table border=\"1\" class=\"dataframe\">\n  <thead>\n    <tr style=\"text-align: right;\">\n      <th></th>\n      <th>ranks</th>\n      <th>1_month</th>\n      <th>3_months</th>\n      <th>6_months</th>\n      <th>12_months</th>\n      <th>status</th>\n      <th>origin</th>\n      <th>rating</th>\n      <th>feature</th>\n      <th>release date</th>\n      <th>...</th>\n      <th>arc_i686</th>\n      <th>arc_i386</th>\n      <th>arc_arm</th>\n      <th>arc_aarch</th>\n      <th>arc_other</th>\n      <th>cat_live</th>\n      <th>cat_med</th>\n      <th>cat_desk</th>\n      <th>cat_serv</th>\n      <th>cat_other</th>\n    </tr>\n  </thead>\n  <tbody>\n    <tr>\n      <th>archbang</th>\n      <td>65</td>\n      <td>154.0</td>\n      <td>235.0</td>\n      <td>183.0</td>\n      <td>169.0</td>\n      <td>Active</td>\n      <td>Canada</td>\n      <td>9.2</td>\n      <td>0711</td>\n      <td>2020-11-07</td>\n      <td>...</td>\n      <td>0</td>\n      <td>0</td>\n      <td>0</td>\n      <td>0</td>\n      <td>0</td>\n      <td>1</td>\n      <td>1</td>\n      <td>1</td>\n      <td>0</td>\n      <td>0</td>\n    </tr>\n    <tr>\n      <th>artix</th>\n      <td>51</td>\n      <td>212.0</td>\n      <td>216.0</td>\n      <td>230.0</td>\n      <td>207.0</td>\n      <td>Active</td>\n      <td>Global</td>\n      <td>8.9</td>\n      <td>20200210</td>\n      <td>2020-02-10</td>\n      <td>...</td>\n      <td>0</td>\n      <td>0</td>\n      <td>0</td>\n      <td>0</td>\n      <td>0</td>\n      <td>1</td>\n      <td>1</td>\n      <td>1</td>\n      <td>0</td>\n      <td>0</td>\n    </tr>\n  </tbody>\n</table>\n<p>2 rows × 54 columns</p>\n</div>"
     },
     "metadata": {},
     "execution_count": 47
    }
   ],
   "source": [
    "i_release['cat_live'] = i_release['category'].str.contains('Live', case=False, na=False).astype(int)\n",
    "i_release['cat_med'] = i_release['category'].str.contains('Medium', case=False, na=False).astype(int)\n",
    "i_release['cat_desk'] = i_release['category'].str.contains('Desktop', case=False, na=False).astype(int)\n",
    "i_release['cat_serv'] = i_release['category'].str.contains('Server', case=False, na=False).astype(int)\n",
    "\n",
    "cat = ['Live', 'Medium', 'Desktop', 'Server']\n",
    "\n",
    "i_release = other(df=i_release, l=cat, col='category', new_col='cat_other')\n",
    "\n",
    "i_release.sample(2)"
   ]
  },
  {
   "source": [
    "----\n",
    "### Status\n",
    "All are active, so I am going to drop this column\n",
    "\n",
    "----\n"
   ],
   "cell_type": "markdown",
   "metadata": {}
  },
  {
   "cell_type": "code",
   "execution_count": 48,
   "metadata": {},
   "outputs": [
    {
     "output_type": "stream",
     "name": "stdout",
     "text": [
      "[('Active', 275)]\n"
     ]
    }
   ],
   "source": [
    "print(Counter(' '.join(i_release['status'].astype(str)).split()).most_common(5))\n",
    "\n",
    "i_release = i_release.drop('status', axis=1)"
   ]
  },
  {
   "source": [
    "----\n",
    "### Origin\n",
    "\n",
    "Since I am from the United States and for simplicities sake, I am going to do either USA or not\n",
    "\n",
    "----"
   ],
   "cell_type": "markdown",
   "metadata": {}
  },
  {
   "cell_type": "code",
   "execution_count": 49,
   "metadata": {},
   "outputs": [
    {
     "output_type": "stream",
     "name": "stdout",
     "text": [
      "[('USA', 68), ('nan', 29), ('France', 19), ('United', 15), ('Kingdom', 15)]\n"
     ]
    }
   ],
   "source": [
    "print(Counter(' '.join(i_release['origin'].astype(str)).split()).most_common(5))\n",
    "\n",
    "i_release = other(df=i_release, l=['USA'], col='origin', new_col='org_usa')"
   ]
  },
  {
   "source": [
    "----\n",
    "### Ranks and Clicks\n",
    "----"
   ],
   "cell_type": "markdown",
   "metadata": {}
  },
  {
   "cell_type": "code",
   "execution_count": 50,
   "metadata": {},
   "outputs": [],
   "source": [
    "# Clicks\n",
    "i_release.iloc[:, 1:5] = i_release.iloc[:, 1:5].fillna(0).astype(int)\n",
    "\n",
    "# Ranks\n",
    "na_df = i_release.loc[i_release['rating'].isna(), 'ranks']\n",
    "na_ranks = list(zip(na_df.index, na_df))\n",
    "\n",
    "fill_ranks = {}\n",
    "\n",
    "for dist, rank in na_ranks:\n",
    "    fill_val = round(i_release.loc[i_release['ranks'].between(rank-10, rank+10), 'rating'].mean(), 1)\n",
    "    fill_ranks[dist] = fill_val\n",
    "\n",
    "i_release['rating'] = i_release['rating'].fillna(fill_ranks)"
   ]
  },
  {
   "source": [
    "----\n",
    "### Feature\n",
    "\n",
    "\n",
    "----"
   ],
   "cell_type": "markdown",
   "metadata": {}
  },
  {
   "cell_type": "code",
   "execution_count": 51,
   "metadata": {},
   "outputs": [
    {
     "output_type": "stream",
     "name": "stdout",
     "text": [
      "[('20.10groovy', 7), ('current', 4), ('20.04', 4), ('4.1', 3), ('3.0', 3)]\n"
     ]
    }
   ],
   "source": [
    "print(Counter(' '.join(i_release['feature'].astype(str)).split()).most_common(5))\n",
    "\n",
    "i_release['feature'] = i_release['feature'].str.extract('(\\d+.?\\d+.?\\d+)', expand=False).fillna(1.0)\n",
    "\n",
    "# Show what the other versions look like since they don't follow the traditional incremental versions\n",
    "start20_n = i_release[i_release['feature'].str.startswith('2020', na=False)].index.tolist()\n",
    "start20 = [full_releases.groupby(full_releases.index).get_group(name=el)[['Feature', 'Release Date']] for el in start20_n]"
   ]
  },
  {
   "source": [
    "#### I decided to create a column that will show the number of releases for the distribution in the past year instead of using the version"
   ],
   "cell_type": "markdown",
   "metadata": {}
  },
  {
   "cell_type": "code",
   "execution_count": 52,
   "metadata": {},
   "outputs": [],
   "source": [
    "rel2020 = full_releases['Release Date'].str.startswith('2020', na=False).groupby(full_releases.index).sum()\n",
    "rel2020.name = 'rel_2020'\n",
    "\n",
    "i_release = pd.concat([i_release, rel2020], join='outer', axis=1)\n",
    "i_release = i_release.drop('feature', axis=1)"
   ]
  },
  {
   "source": [
    "----\n",
    "### Release date\n",
    "\n",
    "I'm not sure if the month would have any correlation, but I'm going to add it\n",
    "\n",
    "#### Could create season\n",
    "\n",
    "----"
   ],
   "cell_type": "markdown",
   "metadata": {}
  },
  {
   "cell_type": "code",
   "execution_count": 53,
   "metadata": {},
   "outputs": [],
   "source": [
    "i_release['release_date'] = pd.to_datetime(i_release['release date'])\n",
    "i_release['release_month'] = i_release['release_date'].dt.month\n",
    "\n",
    "i_release = i_release.drop('release date', axis=1)\n",
    "i_release = i_release.drop('release_date', axis=1)"
   ]
  },
  {
   "source": [
    "----\n",
    "### End of Life\n",
    "\n",
    "Doesn't seem useful so I'm going to drop it\n",
    "\n",
    "----"
   ],
   "cell_type": "markdown",
   "metadata": {}
  },
  {
   "cell_type": "code",
   "execution_count": 54,
   "metadata": {},
   "outputs": [],
   "source": [
    "i_release = i_release.drop('end of life', axis=1)"
   ]
  },
  {
   "source": [
    "----\n",
    "### Price\n",
    "\n",
    "94% of them are free so I'm going to drop it as well\n",
    "\n",
    "----"
   ],
   "cell_type": "markdown",
   "metadata": {}
  },
  {
   "cell_type": "code",
   "execution_count": 55,
   "metadata": {},
   "outputs": [],
   "source": [
    "i_release = i_release.drop('price (us$)', axis=1)"
   ]
  },
  {
   "source": [
    "----\n",
    "### Image Size (MB)\n",
    "\n",
    "Since most are a range, I'm going to average it\n",
    "\n",
    "----"
   ],
   "cell_type": "markdown",
   "metadata": {}
  },
  {
   "cell_type": "code",
   "execution_count": 56,
   "metadata": {},
   "outputs": [
    {
     "output_type": "execute_result",
     "data": {
      "text/plain": [
       "mx          1500-1900\n",
       "manjaro           NaN\n",
       "mint        1800-2000\n",
       "popos       2200-2700\n",
       "ubuntu            NaN\n",
       "              ...    \n",
       "rds           674-674\n",
       "tuxtrans    2900-3000\n",
       "drbl          700-800\n",
       "canaima     2700-2800\n",
       "baltix      3500-3600\n",
       "Name: image_size, Length: 275, dtype: object"
      ]
     },
     "metadata": {},
     "execution_count": 56
    }
   ],
   "source": [
    "i_release = i_release.rename(columns={'image size (mb)': 'image_size'})\n",
    "i_release['image_size']"
   ]
  },
  {
   "cell_type": "code",
   "execution_count": 57,
   "metadata": {},
   "outputs": [],
   "source": [
    "fill_avg = i_release['image_size'].str.split('-', expand=True).astype(float).mean(axis=0)\n",
    "fill_val = int((fill_avg[0] + fill_avg[1]) / 2)\n",
    "\n",
    "i_release['image_size'] = (i_release['image_size'].str.split('-', expand=True).fillna(fill_val)\n",
    "                                                         .astype(int).mean(axis=1).astype(int))"
   ]
  },
  {
   "source": [
    "----\n",
    "### Free Download\n",
    "----"
   ],
   "cell_type": "markdown",
   "metadata": {}
  },
  {
   "cell_type": "code",
   "execution_count": 58,
   "metadata": {},
   "outputs": [],
   "source": [
    "i_release['down_iso'] = i_release['free download'].str.contains('ISO', case=False, na=False).astype(int)\n",
    "i_release['down_img'] = i_release['free download'].str.contains('IMG', case=False, na=False).astype(int)\n",
    "\n",
    "i_release = other(df=i_release, l=['ISO', 'IMG'], col='free download', new_col='down_oth')"
   ]
  },
  {
   "source": [
    "----\n",
    "### Installation\n",
    "----"
   ],
   "cell_type": "markdown",
   "metadata": {}
  },
  {
   "cell_type": "code",
   "execution_count": 59,
   "metadata": {},
   "outputs": [],
   "source": [
    "i_release['inst_graph'] = i_release['installation'].str.contains('Graphic', case=False, na=False).astype(int)\n",
    "i_release['inst_text'] = i_release['installation'].str.contains('Text', case=False, na=False).astype(int)\n",
    "\n",
    "i_release = other(df=i_release, l=['Graphic', 'Text'], col='installation', new_col='inst_oth')"
   ]
  },
  {
   "source": [
    "----\n",
    "### Package Management\n",
    "----"
   ],
   "cell_type": "markdown",
   "metadata": {}
  },
  {
   "cell_type": "code",
   "execution_count": 60,
   "metadata": {},
   "outputs": [
    {
     "output_type": "execute_result",
     "data": {
      "text/plain": [
       "[('DEB', 125), ('RPM', 34), ('apt', 29), ('Pacman', 22), ('--', 21)]"
      ]
     },
     "metadata": {},
     "execution_count": 60
    }
   ],
   "source": [
    "Counter(' '.join(i_release['package management'].astype(str)).split()).most_common(5)"
   ]
  },
  {
   "cell_type": "code",
   "execution_count": 61,
   "metadata": {},
   "outputs": [],
   "source": [
    "i_release['pack_deb'] = i_release['package management'].str.contains('DEB', case=False, na=False).astype(int)\n",
    "i_release['pack_rpm'] = i_release['package management'].str.contains('RPM', case=False, na=False).astype(int)\n",
    "i_release['pack_apt'] = i_release['package management'].str.contains('Pacman', case=False, na=False).astype(int)\n",
    "i_release['pack_pacman'] = i_release['package management'].str.contains('APT', case=False, na=False).astype(int)\n",
    "\n",
    "i_release = other(df=i_release, l=['DEB', 'RPM', 'Pacman', 'APT'], col='package management', new_col='pack_other')"
   ]
  },
  {
   "source": [
    "----\n",
    "### Release Model\n",
    "----"
   ],
   "cell_type": "markdown",
   "metadata": {}
  },
  {
   "cell_type": "code",
   "execution_count": 62,
   "metadata": {},
   "outputs": [
    {
     "output_type": "execute_result",
     "data": {
      "text/plain": [
       "[('Fixed', 217), ('Rolling', 55), ('Semi-Rolling', 4), ('Semi', 1), ('--', 1)]"
      ]
     },
     "metadata": {},
     "execution_count": 62
    }
   ],
   "source": [
    "Counter(' '.join(i_release['release model'].astype(str)).split()).most_common(15)"
   ]
  },
  {
   "cell_type": "code",
   "execution_count": 63,
   "metadata": {},
   "outputs": [],
   "source": [
    "i_release['rel_fix'] = i_release['release model'].str.contains('Fixed', case=False, na=False).astype(int)\n",
    "i_release['rel_roll'] = i_release['release model'].str.contains('Rolling', case=False, na=False).astype(int)\n",
    "\n",
    "i_release = other(df=i_release, l=['Fixed', 'Rolling'], col='release model', new_col='rel_other')"
   ]
  },
  {
   "source": [
    "----\n",
    "### Office Suite\n",
    "\n",
    "Doesn't seem to be unique/useful\n",
    "\n",
    "----"
   ],
   "cell_type": "markdown",
   "metadata": {}
  },
  {
   "cell_type": "code",
   "execution_count": 64,
   "metadata": {},
   "outputs": [],
   "source": [
    "i_release = i_release.drop('office suite', axis=1)"
   ]
  },
  {
   "source": [
    "----\n",
    "### Init Software\n",
    "----"
   ],
   "cell_type": "markdown",
   "metadata": {}
  },
  {
   "cell_type": "code",
   "execution_count": 65,
   "metadata": {},
   "outputs": [
    {
     "output_type": "execute_result",
     "data": {
      "text/plain": [
       "[('systemd', 172), ('SysV', 38), ('other', 37), ('RC', 10), ('OpenRC', 10)]"
      ]
     },
     "metadata": {},
     "execution_count": 65
    }
   ],
   "source": [
    "Counter(' '.join(i_release['init software'].astype(str)).split()).most_common(5)"
   ]
  },
  {
   "cell_type": "code",
   "execution_count": 66,
   "metadata": {},
   "outputs": [],
   "source": [
    "i_release['init_sysd'] = i_release['init software'].str.contains('systemd', case=False, na=False).astype(int)\n",
    "i_release['init_sysv'] = i_release['init software'].str.contains('sysv', case=False, na=False).astype(int)\n",
    "i_release['init_oprc'] = i_release['init software'].str.contains('OpenRC', case=False, na=False).astype(int)\n",
    "\n",
    "i_release = other(df=i_release, l=['systemd', 'sysv', 'openrc'], col='init software', new_col='init_other')"
   ]
  },
  {
   "source": [
    "----\n",
    "### Journaled File System\n",
    "----"
   ],
   "cell_type": "markdown",
   "metadata": {}
  },
  {
   "cell_type": "code",
   "execution_count": 67,
   "metadata": {},
   "outputs": [
    {
     "output_type": "execute_result",
     "data": {
      "text/plain": [
       "[('ext4', 151), ('ext3', 122), ('XFS', 76), ('ReiserFS', 71), ('Btrfs', 70)]"
      ]
     },
     "metadata": {},
     "execution_count": 67
    }
   ],
   "source": [
    "Counter(' '.join(i_release['journaled file systems'].astype(str)).split()).most_common(5)"
   ]
  },
  {
   "cell_type": "code",
   "execution_count": 68,
   "metadata": {},
   "outputs": [],
   "source": [
    "i_release['jour_ext4'] = i_release['journaled file systems'].str.contains('ext4', case=False, na=False).astype(int)\n",
    "i_release['jour_ext3'] = i_release['journaled file systems'].str.contains('ext3', case=False, na=False).astype(int)\n",
    "i_release['jour_xfs'] = i_release['journaled file systems'].str.contains('XFS', case=False, na=False).astype(int)\n",
    "i_release['jour_btrfs'] = i_release['journaled file systems'].str.contains('btrfs', case=False, na=False).astype(int)\n",
    "i_release['jour_reiser'] = i_release['journaled file systems'].str.contains('Reiser', case=False, na=False).astype(int)\n",
    "\n",
    "# Possibly add JFS / NFS\n",
    "\n",
    "i_release = other(df=i_release, l=['ext4', 'ext3', 'xfs', 'btrfs', 'reiser'], col='journaled file systems', new_col='journ_oth')"
   ]
  },
  {
   "source": [
    "----\n",
    "### Multilingual\n",
    "----"
   ],
   "cell_type": "markdown",
   "metadata": {}
  },
  {
   "cell_type": "code",
   "execution_count": 69,
   "metadata": {},
   "outputs": [],
   "source": [
    "i_release['multiling'] = np.where(~i_release['multilingual'].str.contains('No|--', case=False, na=True), 1, 0)\n",
    "\n",
    "i_release = i_release.drop('multilingual', axis=1)"
   ]
  },
  {
   "cell_type": "code",
   "execution_count": 70,
   "metadata": {},
   "outputs": [
    {
     "output_type": "execute_result",
     "data": {
      "text/plain": [
       "          ranks  1_month  3_months  6_months  12_months  rating  image_size  \\\n",
       "tinycore     83        0         0         0          0     9.4         110   \n",
       "photonos    227        0         0         0          0     6.5        3150   \n",
       "\n",
       "          desk_kde  desk_xfce  desk_budgie  ...  init_sysv  init_oprc  \\\n",
       "tinycore         0          0            0  ...          0          0   \n",
       "photonos         0          0            0  ...          0          0   \n",
       "\n",
       "          init_other  jour_ext4  jour_ext3  jour_xfs  jour_btrfs  jour_reiser  \\\n",
       "tinycore           1          0          0         0           0            0   \n",
       "photonos           0          1          0         0           0            0   \n",
       "\n",
       "          journ_oth  multiling  \n",
       "tinycore          1          1  \n",
       "photonos          0          0  \n",
       "\n",
       "[2 rows x 68 columns]"
      ],
      "text/html": "<div>\n<style scoped>\n    .dataframe tbody tr th:only-of-type {\n        vertical-align: middle;\n    }\n\n    .dataframe tbody tr th {\n        vertical-align: top;\n    }\n\n    .dataframe thead th {\n        text-align: right;\n    }\n</style>\n<table border=\"1\" class=\"dataframe\">\n  <thead>\n    <tr style=\"text-align: right;\">\n      <th></th>\n      <th>ranks</th>\n      <th>1_month</th>\n      <th>3_months</th>\n      <th>6_months</th>\n      <th>12_months</th>\n      <th>rating</th>\n      <th>image_size</th>\n      <th>desk_kde</th>\n      <th>desk_xfce</th>\n      <th>desk_budgie</th>\n      <th>...</th>\n      <th>init_sysv</th>\n      <th>init_oprc</th>\n      <th>init_other</th>\n      <th>jour_ext4</th>\n      <th>jour_ext3</th>\n      <th>jour_xfs</th>\n      <th>jour_btrfs</th>\n      <th>jour_reiser</th>\n      <th>journ_oth</th>\n      <th>multiling</th>\n    </tr>\n  </thead>\n  <tbody>\n    <tr>\n      <th>tinycore</th>\n      <td>83</td>\n      <td>0</td>\n      <td>0</td>\n      <td>0</td>\n      <td>0</td>\n      <td>9.4</td>\n      <td>110</td>\n      <td>0</td>\n      <td>0</td>\n      <td>0</td>\n      <td>...</td>\n      <td>0</td>\n      <td>0</td>\n      <td>1</td>\n      <td>0</td>\n      <td>0</td>\n      <td>0</td>\n      <td>0</td>\n      <td>0</td>\n      <td>1</td>\n      <td>1</td>\n    </tr>\n    <tr>\n      <th>photonos</th>\n      <td>227</td>\n      <td>0</td>\n      <td>0</td>\n      <td>0</td>\n      <td>0</td>\n      <td>6.5</td>\n      <td>3150</td>\n      <td>0</td>\n      <td>0</td>\n      <td>0</td>\n      <td>...</td>\n      <td>0</td>\n      <td>0</td>\n      <td>0</td>\n      <td>1</td>\n      <td>0</td>\n      <td>0</td>\n      <td>0</td>\n      <td>0</td>\n      <td>0</td>\n      <td>0</td>\n    </tr>\n  </tbody>\n</table>\n<p>2 rows × 68 columns</p>\n</div>"
     },
     "metadata": {},
     "execution_count": 70
    }
   ],
   "source": [
    "i_release.sample(2)"
   ]
  },
  {
   "cell_type": "code",
   "execution_count": 71,
   "metadata": {},
   "outputs": [],
   "source": [
    "i_release.to_csv('df-ohe.csv', index=True, columns=i_release.columns.values)"
   ]
  }
 ]
}