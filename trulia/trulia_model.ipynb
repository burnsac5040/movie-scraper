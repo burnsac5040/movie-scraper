{
 "cells": [
  {
   "cell_type": "code",
   "execution_count": 1,
   "metadata": {},
   "outputs": [],
   "source": [
    "import numpy as np \n",
    "import pandas as pd\n",
    "import matplotlib.pyplot as plt \n",
    "import seaborn as sns\n",
    "\n",
    "plt.rcParams['figure.dpi'] = 200\n",
    "plt.style.use(['dark_background'])"
   ]
  },
  {
   "cell_type": "code",
   "execution_count": 2,
   "metadata": {},
   "outputs": [],
   "source": [
    "from sklearn.model_selection import train_test_split\n",
    "\n",
    "df = pd.read_csv('df/df_full.csv', index_col=0)\n",
    "# Drop these because I think they give too much data\n",
    "df = df.drop(['typ_val', 'typ_sqft', 'pp_sqft'], axis=1)\n",
    "df['region'] = df['region'].astype('category').cat.codes\n",
    "\n",
    "# df = df.drop(['val_pct', 'sqft_pct', 'eschl', 'mschl', 'hschl', 'gas', 'forsdair', 'elctric', 'solar', 'roof', 'floors', 'exterior'], axis=1)\n",
    "\n",
    "# X = df[['new', 'bedrm', 'bth', 'sqft']]\n",
    "X = df.drop('price', axis=1)\n",
    "y = df['price']\n",
    "\n",
    "\n",
    "X_train, X_test, y_train, y_test = train_test_split(X, y, test_size=0.2, random_state=42)"
   ]
  },
  {
   "cell_type": "code",
   "execution_count": 3,
   "metadata": {},
   "outputs": [],
   "source": [
    "from sklearn.linear_model import LinearRegression\n",
    "from sklearn.metrics import r2_score, mean_squared_error\n",
    "from sklearn.preprocessing import StandardScaler\n",
    "\n",
    "# ss = StandardScaler()\n",
    "# ss.fit(X_train)\n",
    "# X_train = ss.transform(X_train)\n",
    "# X_test = ss.transform(X_test)\n",
    "\n",
    "regr = LinearRegression()\n",
    "regr.fit(X_train, y_train)\n",
    "\n",
    "y_pred = regr.predict(X_test)"
   ]
  },
  {
   "cell_type": "code",
   "execution_count": 4,
   "metadata": {},
   "outputs": [
    {
     "data": {
      "text/plain": [
       "array([-1.65528593e+03,  1.58730530e+04, -4.58307121e+04,  7.47555338e+04,\n",
       "        9.25876088e+01, -2.20511290e+04,  1.45120902e+03,  6.93628454e-01,\n",
       "        9.09416450e+04, -1.43839696e+04, -9.31444044e+03, -6.56097874e+04,\n",
       "       -1.33252160e+04,  1.59798245e+04, -3.84478594e+04, -3.79237543e+04,\n",
       "        3.52930696e+02, -3.41720976e+02,  3.06386815e+04, -5.38408017e+04,\n",
       "        6.13758242e+03,  3.49505472e+04,  1.98448166e+04, -4.55519507e+03,\n",
       "        2.01307514e+03, -7.05622411e+00,  3.40684516e+04, -1.12174800e+04,\n",
       "       -1.25656020e+01, -6.53335093e+04,  8.49242560e+04, -2.43148912e+03,\n",
       "        2.26409123e+04])"
      ]
     },
     "execution_count": 4,
     "metadata": {},
     "output_type": "execute_result"
    }
   ],
   "source": [
    "regr.coef_"
   ]
  },
  {
   "cell_type": "code",
   "execution_count": 5,
   "metadata": {},
   "outputs": [
    {
     "name": "stdout",
     "output_type": "stream",
     "text": [
      "MSE: 54448107199.80535\n",
      "R2: 0.7386434997272027\n"
     ]
    }
   ],
   "source": [
    "print(f'MSE: {mean_squared_error(y_test, y_pred)}')\n",
    "print(f'R2: {r2_score(y_test, y_pred)}')"
   ]
  },
  {
   "cell_type": "code",
   "execution_count": 6,
   "metadata": {},
   "outputs": [
    {
     "data": {
      "text/plain": [
       "array(['region', 'new', 'price', 'bedrm', 'bth', 'sqft', 'crime',\n",
       "       'val_pct', 'sqft_pct', 'eschl', 'mschl', 'hschl', 'bsmnt', 'gas',\n",
       "       'forsdair', 'elctric', 'solar', 'dayonmark', 'yrbuilt', 'update',\n",
       "       'stories', 'n_rooms', 'garage', 'roof', 'floors', 'exterior',\n",
       "       'lot_sz', 'prk_spc', 'parking', 'hoa_fee', 'sec_sys', 'pool',\n",
       "       'list_cnt', 'assess'], dtype=object)"
      ]
     },
     "execution_count": 6,
     "metadata": {},
     "output_type": "execute_result"
    }
   ],
   "source": [
    "df.columns.values"
   ]
  }
 ],
 "metadata": {
  "jupytext": {
   "formats": "ipynb,py"
  },
  "kernelspec": {
   "display_name": "Python 3",
   "language": "python",
   "name": "python3"
  },
  "language_info": {
   "codemirror_mode": {
    "name": "ipython",
    "version": 3
   },
   "file_extension": ".py",
   "mimetype": "text/x-python",
   "name": "python",
   "nbconvert_exporter": "python",
   "pygments_lexer": "ipython3",
   "version": "3.8.5-final"
  }
 },
 "nbformat": 4,
 "nbformat_minor": 2
}
