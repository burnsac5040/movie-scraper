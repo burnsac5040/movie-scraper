{
 "metadata": {
  "language_info": {
   "codemirror_mode": {
    "name": "ipython",
    "version": 3
   },
   "file_extension": ".py",
   "mimetype": "text/x-python",
   "name": "python",
   "nbconvert_exporter": "python",
   "pygments_lexer": "ipython3",
   "version": "3.8.5-final"
  },
  "orig_nbformat": 2,
  "kernelspec": {
   "name": "python3",
   "display_name": "Python 3",
   "language": "python"
  }
 },
 "nbformat": 4,
 "nbformat_minor": 2,
 "cells": [
  {
   "cell_type": "code",
   "execution_count": 1,
   "metadata": {},
   "outputs": [],
   "source": [
    "import numpy as np \n",
    "import pandas as pd\n",
    "import time\n",
    "import re"
   ]
  },
  {
   "source": [
    "### Importing the Data"
   ],
   "cell_type": "markdown",
   "metadata": {}
  },
  {
   "cell_type": "code",
   "execution_count": 2,
   "metadata": {},
   "outputs": [],
   "source": [
    "df_main = pd.read_csv('df/df_main.csv', index_col=0)\n",
    "df_ind = pd.read_csv('df/df_ind.csv', index_col=0)\n",
    "\n",
    "df = pd.merge(df_main, df_ind, left_index=True, right_index=True)\n",
    "df.to_csv('df/df_tot.csv', index=True, columns=df.columns.values)"
   ]
  },
  {
   "cell_type": "code",
   "execution_count": 3,
   "metadata": {},
   "outputs": [
    {
     "output_type": "execute_result",
     "data": {
      "text/plain": [
       "                                                region  new     price bedrm  \\\n",
       "7644 N Wabash Ave                        Gladstone, MO  OLD  $205,000   3bd   \n",
       "6104 Bentpath Dr                          Columbia, MO  OLD  $895,000   6bd   \n",
       "2119 E 73rd St           East Meyer 7, Kansas City, MO  OLD   $49,900   2bd   \n",
       "3344 S Benton Ave  Oak Park Northwest, Kansas City, MO  OLD  $120,000   6bd   \n",
       "1225 Buckner Pl                        Saint Louis, MO  OLD   $74,900   2bd   \n",
       "\n",
       "                   bth        sqft  \\\n",
       "7644 N Wabash Ave  2ba  1,400 sqft   \n",
       "6104 Bentpath Dr   5ba  6,273 sqft   \n",
       "2119 E 73rd St     1ba  1,068 sqft   \n",
       "3344 S Benton Ave  3ba  2,435 sqft   \n",
       "1225 Buckner Pl    2ba  1,173 sqft   \n",
       "\n",
       "                                                               crime  \\\n",
       "7644 N Wabash Ave  CrimeLowest crime relative to the rest of Clay...   \n",
       "6104 Bentpath Dr   CrimeLowest crime relative to the rest of Boon...   \n",
       "2119 E 73rd St     CrimeLowest crime relative to the rest of Jack...   \n",
       "3344 S Benton Ave  CrimeModerate crime relative to the rest of Ja...   \n",
       "1225 Buckner Pl    CrimeLowest crime relative to the rest of Sain...   \n",
       "\n",
       "                                                             schools  \\\n",
       "7644 N Wabash Ave  Schools2 Elementary Schools1 Middle School1 Hi...   \n",
       "6104 Bentpath Dr   Schools1 Elementary School1 Middle School1 Hig...   \n",
       "2119 E 73rd St     Schools1 Elementary School1 Middle School1 Hig...   \n",
       "3344 S Benton Ave  Schools1 Elementary School1 Middle School1 Hig...   \n",
       "1225 Buckner Pl                                 Schools1 High School   \n",
       "\n",
       "                                                             details  \\\n",
       "7644 N Wabash Ave  ['Basement', 'Heating: Other', 'Stories: 1', '...   \n",
       "6104 Bentpath Dr   ['Basement', 'Heating: Forced Air, Gas', 'Roof...   \n",
       "2119 E 73rd St     ['Basement', 'Heating: Forced Air, Gas', 'Roof...   \n",
       "3344 S Benton Ave  ['Basement', 'Heating: Forced Air, Gas', 'Stor...   \n",
       "1225 Buckner Pl    ['Heating: Forced Air, Propane Butane', 'Stori...   \n",
       "\n",
       "                                                           list_hist  \\\n",
       "7644 N Wabash Ave             ['12/12/2020Listed For Sale$205K', '']   \n",
       "6104 Bentpath Dr   ['10/10/2020PriceChange$895K', '', '09/13/2020...   \n",
       "2119 E 73rd St     ['12/23/2020PendingToActive$49.9K', '', '12/09...   \n",
       "3344 S Benton Ave  ['12/14/2020Listed For Sale$120K', '', '08/17/...   \n",
       "1225 Buckner Pl    ['12/15/2020PendingToActive$74.9K', '', '11/30...   \n",
       "\n",
       "                                                               tax   typ_val  \\\n",
       "7644 N Wabash Ave  ['Year2019', 'Tax$2,046', 'Assessment$132,000']  $188,822   \n",
       "6104 Bentpath Dr   ['Year2018', 'Tax$8,171', 'Assessment$599,300']  $254,792   \n",
       "2119 E 73rd St        ['Year2020', 'Tax$599', 'Assessment$38,000']   $61,927   \n",
       "3344 S Benton Ave     ['Year2020', 'Tax$417', 'Assessment$26,469']   $49,332   \n",
       "1225 Buckner Pl       ['Year2019', 'Tax$824', 'Assessment$30,200']   $41,934   \n",
       "\n",
       "                       val_pct typ_sqft    sqft_pct  \n",
       "7644 N Wabash Ave     9% above     $139    5% above  \n",
       "6104 Bentpath Dr    251% above     $128   11% above  \n",
       "2119 E 73rd St       19% below      $58   19% below  \n",
       "3344 S Benton Ave   143% above      $44   12% above  \n",
       "1225 Buckner Pl      79% above      $43   48% above  "
      ],
      "text/html": "<div>\n<style scoped>\n    .dataframe tbody tr th:only-of-type {\n        vertical-align: middle;\n    }\n\n    .dataframe tbody tr th {\n        vertical-align: top;\n    }\n\n    .dataframe thead th {\n        text-align: right;\n    }\n</style>\n<table border=\"1\" class=\"dataframe\">\n  <thead>\n    <tr style=\"text-align: right;\">\n      <th></th>\n      <th>region</th>\n      <th>new</th>\n      <th>price</th>\n      <th>bedrm</th>\n      <th>bth</th>\n      <th>sqft</th>\n      <th>crime</th>\n      <th>schools</th>\n      <th>details</th>\n      <th>list_hist</th>\n      <th>tax</th>\n      <th>typ_val</th>\n      <th>val_pct</th>\n      <th>typ_sqft</th>\n      <th>sqft_pct</th>\n    </tr>\n  </thead>\n  <tbody>\n    <tr>\n      <th>7644 N Wabash Ave</th>\n      <td>Gladstone, MO</td>\n      <td>OLD</td>\n      <td>$205,000</td>\n      <td>3bd</td>\n      <td>2ba</td>\n      <td>1,400 sqft</td>\n      <td>CrimeLowest crime relative to the rest of Clay...</td>\n      <td>Schools2 Elementary Schools1 Middle School1 Hi...</td>\n      <td>['Basement', 'Heating: Other', 'Stories: 1', '...</td>\n      <td>['12/12/2020Listed For Sale$205K', '']</td>\n      <td>['Year2019', 'Tax$2,046', 'Assessment$132,000']</td>\n      <td>$188,822</td>\n      <td>9% above</td>\n      <td>$139</td>\n      <td>5% above</td>\n    </tr>\n    <tr>\n      <th>6104 Bentpath Dr</th>\n      <td>Columbia, MO</td>\n      <td>OLD</td>\n      <td>$895,000</td>\n      <td>6bd</td>\n      <td>5ba</td>\n      <td>6,273 sqft</td>\n      <td>CrimeLowest crime relative to the rest of Boon...</td>\n      <td>Schools1 Elementary School1 Middle School1 Hig...</td>\n      <td>['Basement', 'Heating: Forced Air, Gas', 'Roof...</td>\n      <td>['10/10/2020PriceChange$895K', '', '09/13/2020...</td>\n      <td>['Year2018', 'Tax$8,171', 'Assessment$599,300']</td>\n      <td>$254,792</td>\n      <td>251% above</td>\n      <td>$128</td>\n      <td>11% above</td>\n    </tr>\n    <tr>\n      <th>2119 E 73rd St</th>\n      <td>East Meyer 7, Kansas City, MO</td>\n      <td>OLD</td>\n      <td>$49,900</td>\n      <td>2bd</td>\n      <td>1ba</td>\n      <td>1,068 sqft</td>\n      <td>CrimeLowest crime relative to the rest of Jack...</td>\n      <td>Schools1 Elementary School1 Middle School1 Hig...</td>\n      <td>['Basement', 'Heating: Forced Air, Gas', 'Roof...</td>\n      <td>['12/23/2020PendingToActive$49.9K', '', '12/09...</td>\n      <td>['Year2020', 'Tax$599', 'Assessment$38,000']</td>\n      <td>$61,927</td>\n      <td>19% below</td>\n      <td>$58</td>\n      <td>19% below</td>\n    </tr>\n    <tr>\n      <th>3344 S Benton Ave</th>\n      <td>Oak Park Northwest, Kansas City, MO</td>\n      <td>OLD</td>\n      <td>$120,000</td>\n      <td>6bd</td>\n      <td>3ba</td>\n      <td>2,435 sqft</td>\n      <td>CrimeModerate crime relative to the rest of Ja...</td>\n      <td>Schools1 Elementary School1 Middle School1 Hig...</td>\n      <td>['Basement', 'Heating: Forced Air, Gas', 'Stor...</td>\n      <td>['12/14/2020Listed For Sale$120K', '', '08/17/...</td>\n      <td>['Year2020', 'Tax$417', 'Assessment$26,469']</td>\n      <td>$49,332</td>\n      <td>143% above</td>\n      <td>$44</td>\n      <td>12% above</td>\n    </tr>\n    <tr>\n      <th>1225 Buckner Pl</th>\n      <td>Saint Louis, MO</td>\n      <td>OLD</td>\n      <td>$74,900</td>\n      <td>2bd</td>\n      <td>2ba</td>\n      <td>1,173 sqft</td>\n      <td>CrimeLowest crime relative to the rest of Sain...</td>\n      <td>Schools1 High School</td>\n      <td>['Heating: Forced Air, Propane Butane', 'Stori...</td>\n      <td>['12/15/2020PendingToActive$74.9K', '', '11/30...</td>\n      <td>['Year2019', 'Tax$824', 'Assessment$30,200']</td>\n      <td>$41,934</td>\n      <td>79% above</td>\n      <td>$43</td>\n      <td>48% above</td>\n    </tr>\n  </tbody>\n</table>\n</div>"
     },
     "metadata": {},
     "execution_count": 3
    }
   ],
   "source": [
    "df.sample(5)"
   ]
  },
  {
   "source": [
    "----\n",
    "### Region\n",
    "The ones that I entered in and specifically scraped for:\n",
    "- Saint Louis\n",
    "- Kansas City\n",
    "- Lees Summit\n",
    "- Springfield\n",
    "- Columbia\n",
    "\n",
    "Below is what I am reclassifying cities to be in line with the 5 cities above.\n",
    "\n",
    "I looked each one up on Google.\n",
    "\n",
    "----"
   ],
   "cell_type": "markdown",
   "metadata": {}
  },
  {
   "source": [
    "```\n",
    "Raytown                74 = Kansas City\n",
    "Parkville              28 = Kansas City\n",
    "Florissant             20 = Saint Louis\n",
    "Gladstone              13 = Kansas City\n",
    "Independence           12 = Kansas City\n",
    "Ashland                10 = Columbia\n",
    "Riverside              10 = Kansas City\n",
    "Nixa                   7 = Springfield\n",
    "Liberty                7 = Kansas City\n",
    "Greenwood              6 = Kansas City\n",
    "Centralia              5 = Columbia\n",
    "Lake Waukomis          5 = Kansas City\n",
    "Weatherby Lake         4 = Kansas City\n",
    "Kirkwood               3 = Saint Louis\n",
    "Fulton                 3 = Columbia\n",
    "Republic               3 = Springfield\n",
    "Strafford              3 = Springfield\n",
    "Kearney                3 = Lees Summit\n",
    "Hallsville             3 = Columbia\n",
    "Platte Woods           2 = Kansas City\n",
    "Town And Country       2 = Saint Louis\n",
    "Black Jack             2 = Saint Louis\n",
    "Brookline              2 = Springfield\n",
    "Grandview              2 = Kansas City\n",
    "New Bloomfield         2 = Columbia\n",
    "Platte City            2 = Kansas City\n",
    "California             1 = Columbia\n",
    "Brighton               1 = Springfield\n",
    "Fair Grove             1 = Springfield\n",
    "Hartsburg              1 = Columbia\n",
    "Berkeley               1 = Saint Louis\n",
    "Hazelwood              1 = Saint Louis\n",
    "Ozark                  1 = Springfield\n",
    "Willard                1 = Springfield\n",
    "Auxvasse               1 = Columbia\n",
    "Webster Groves         1 = Saint Louis\n",
    "Harrisburg             1 = Columbia\n",
    "Rocheport              1 = Columbia\n",
    "Kingdom City           1 = Columbia\n",
    "Blue Springs           1 = Kansas City\n",
    "```"
   ],
   "cell_type": "markdown",
   "metadata": {}
  },
  {
   "cell_type": "code",
   "execution_count": 4,
   "metadata": {},
   "outputs": [],
   "source": [
    "df['region'] = df['region'].replace(', MO', '', regex=True)\n",
    "\n",
    "# Other\n",
    "df.loc[df['region'].str.contains('Independence'), 'region'] = 'Independence'\n",
    "df.loc[df['region'].str.contains('Raytown'), 'region'] = 'Raytown'\n",
    "# Saint Louis\n",
    "df.loc[df['region'].str.contains('Saint Louis|St Louis'), 'region'] = 'Saint Louis'\n",
    "df.loc[df['region'].str.contains('Florissant|Kirkwood|Town And Country|Black Jack|Berkeley|Hazelwood|Webster Groves'), 'region'] = 'Saint Louis'\n",
    "# Kansas City\n",
    "df.loc[df['region'].str.contains('Kansas City'), 'region'] = 'Kansas City'\n",
    "df.loc[df['region'].str.contains('Raytown|Parkville|Independence|Gladstone|Riverside|Liberty|Greenwood|Lake Waukomis|Weatherby Lake|Platte Woods|Grandview|Platte City|Blue Springs'), 'region'] = 'Kansas City'\n",
    "# Lees Summit\n",
    "df.loc[df['region'].str.contains(\"Lees Summit|Lee's Summit\"), 'region'] = 'Lees Summit'\n",
    "df.loc[df['region'].str.contains('Kearney'), 'region'] = 'Lees Summit'\n",
    "# Springfiled\n",
    "df.loc[df['region'].str.contains('Springfield'), 'region'] = 'Springfield'\n",
    "df.loc[df['region'].str.contains('Nixa|Republic|Strafford|Brookline|Brighton|Fair Grove|Ozark|Willard'), 'region'] = 'Springfield'\n",
    "# Columbia\n",
    "df.loc[df['region'].str.contains('Columbia'), 'region'] = 'Columbia'\n",
    "df.loc[df['region'].str.contains('Ashland|Centralia|Fulton|Hallsville|New Bloomfield|California|Hartsburg|Auxvasse|Harrisburg|Rocheport|Kingdom City'), 'region'] = 'Columbia'\n",
    "\n",
    "# df['region'] = df['region'].astype('category').cat.codes"
   ]
  },
  {
   "cell_type": "code",
   "execution_count": 5,
   "metadata": {},
   "outputs": [
    {
     "output_type": "execute_result",
     "data": {
      "text/plain": [
       "Kansas City    1228\n",
       "Saint Louis    1016\n",
       "Springfield     394\n",
       "Columbia        233\n",
       "Lees Summit     197\n",
       "Name: region, dtype: int64"
      ]
     },
     "metadata": {},
     "execution_count": 5
    }
   ],
   "source": [
    "df['region'].value_counts()"
   ]
  },
  {
   "source": [
    "----\n",
    "### New, Price\n",
    "----"
   ],
   "cell_type": "markdown",
   "metadata": {}
  },
  {
   "cell_type": "code",
   "execution_count": 6,
   "metadata": {},
   "outputs": [],
   "source": [
    "df.loc[df['new'].str.contains('NEW|OWNER|COMING', na=False), 'new'] = 1\n",
    "df.loc[df['new'].str.contains('BANK|OPEN|AUCTION|OLD', na=False), 'new'] = 0\n",
    "df['new'] = pd.to_numeric(df['new'])\n",
    "\n",
    "df['price'] = df['price'].replace(r'\\$|,', '', regex=True)\n",
    "df['price'] = pd.to_numeric(df['price'].replace(r'\\W', np.nan, regex=True), errors='coerce')\n",
    "df = df[df['price'].notnull()]"
   ]
  },
  {
   "source": [
    "----\n",
    "### Bedrooms, Bathrooms, Square Footage\n",
    "----"
   ],
   "cell_type": "markdown",
   "metadata": {}
  },
  {
   "cell_type": "code",
   "execution_count": 7,
   "metadata": {},
   "outputs": [],
   "source": [
    "df['bedrm'] = pd.to_numeric(df['bedrm'].replace(r'bd', '', regex=True))\n",
    "df['bth'] = pd.to_numeric(df['bth'].replace(r'ba|(\\.\\d)?', '', regex=True))\n",
    "df['sqft'] = pd.to_numeric(df['sqft'].replace(r'sqft|,', '', regex=True))"
   ]
  },
  {
   "source": [
    "----\n",
    "### Crime\n",
    "----"
   ],
   "cell_type": "markdown",
   "metadata": {}
  },
  {
   "cell_type": "code",
   "execution_count": 8,
   "metadata": {},
   "outputs": [
    {
     "output_type": "stream",
     "name": "stdout",
     "text": [
      "Learn about crime in this area.\n"
     ]
    }
   ],
   "source": [
    "df['crime'] = df['crime'].replace(r'Crime', '', regex=True) \n",
    "# Some do not have a rating and instead have 'Learn about crime in this area'\n",
    "print(df.loc[df['crime'].str.contains('Learn'), 'crime'][0])\n",
    "\n",
    "df['crime'] = [x.split()[0] for x in df['crime']]\n",
    "# So I will replace 'Learn about crime...' with 'Low'\n",
    "df.loc[df['crime'].str.contains('Learn'), 'crime'] = 'Low'"
   ]
  },
  {
   "cell_type": "code",
   "execution_count": 9,
   "metadata": {},
   "outputs": [
    {
     "output_type": "execute_result",
     "data": {
      "text/plain": [
       "Lowest      2229\n",
       "Low          389\n",
       "Moderate     212\n",
       "High         161\n",
       "Highest       42\n",
       "Name: crime, dtype: int64"
      ]
     },
     "metadata": {},
     "execution_count": 9
    }
   ],
   "source": [
    "df['crime'].value_counts()"
   ]
  },
  {
   "cell_type": "code",
   "execution_count": 10,
   "metadata": {},
   "outputs": [],
   "source": [
    "crime_d = {'Lowest': 1, 'Low': 2, 'Moderate': 3, 'High': 4, 'Highest': 5}\n",
    "\n",
    "df['crime'] = df['crime'].map(crime_d)"
   ]
  },
  {
   "source": [
    "----\n",
    "### Schools\n",
    "----"
   ],
   "cell_type": "markdown",
   "metadata": {}
  },
  {
   "cell_type": "code",
   "execution_count": 11,
   "metadata": {},
   "outputs": [
    {
     "output_type": "execute_result",
     "data": {
      "text/plain": [
       "['1E', '1M', '1H']"
      ]
     },
     "metadata": {},
     "execution_count": 11
    }
   ],
   "source": [
    "from textwrap import wrap\n",
    "\n",
    "df['schools'] = df['schools'].replace(r'Schools', ' ', regex=True)\n",
    "\n",
    "df['schools'] = df['schools'].replace(r'Elementary (School)?', 'E', regex=True)\n",
    "df['schools'] = df['schools'].replace(r'Middle (School)?', 'M', regex=True)\n",
    "df['schools'] = df['schools'].replace(r'High (School)?', 'H', regex=True)\n",
    "\n",
    "school = [wrap(''.join(x.split()).strip(), 2) for x in df['schools']]\n",
    "school[0]"
   ]
  },
  {
   "cell_type": "code",
   "execution_count": 12,
   "metadata": {
    "tags": []
   },
   "outputs": [],
   "source": [
    "for el in school:\n",
    "    try: \n",
    "        re.search('E', ''.join(el)).group()\n",
    "    except:\n",
    "        el.insert(0, '0E')\n",
    "\n",
    "    try: \n",
    "        re.search('M', ''.join(el)).group()\n",
    "    except:\n",
    "        el.insert(1, '0M')\n",
    "\n",
    "    try: \n",
    "        re.search('H', ''.join(el)).group()\n",
    "    except:\n",
    "        el.insert(2, '0H')\n",
    "\n",
    "\n",
    "df['eschl'] = [x[0] for x in school]\n",
    "df['eschl'] = pd.to_numeric(df['eschl'].replace(r'E', '', regex=True))\n",
    "\n",
    "df['mschl'] = [x[1] for x in school]\n",
    "df['mschl'] = pd.to_numeric(df['mschl'].replace(r'M', '', regex=True))\n",
    "\n",
    "df['hschl'] = [x[2] for x in school]\n",
    "df['hschl'] = pd.to_numeric(df['hschl'].replace(r'H', '', regex=True))\n",
    "\n",
    "df = df.drop('schools', axis=1)"
   ]
  },
  {
   "source": [
    "----\n",
    "### Details\n",
    "\n",
    "```json\n",
    "{\n",
    "  \"Basement\": \"boolean\",\n",
    "  \"Heating\": [\"Forced Air\", \"Gas\", \"Electric\", \"Solar\", \"Heat\", \"Pump\", \"Radiant\", \"Oil\"],\n",
    "  \"Days on Market\": \"47 Days on Trulia\",\n",
    "  \"Year Built\": \"1951\",\n",
    "  \"Year Updated\": \"2008\",\n",
    "  \"Stories\": \"2\",\n",
    "  \"Property Type\": \"Single Family Home\",\n",
    "  \"Number of Rooms\": \"6\",\n",
    "  \"Cooling System\": \"Central\",\n",
    "  \"Assigned Parking Space\": \"Garage\",\n",
    "  \"Architecture\": \"Ranch / Rambler\",\n",
    "  \"Price Per Sqft\": \"$135\",\n",
    "  \"MLS/Source ID\": \"396348\",\n",
    "  \"Roof\": \"Composition\",\n",
    "  \"Floors\": \"Carpet\",\n",
    "  \"Exterior\": \"Stucco\",\n",
    "  \"Foundation Type\": \"Stone\",\n",
    "  \"Lot Size\": \"0.77 acres\",\n",
    "  \"Parking Spaces\": \"2\",\n",
    "  \"Parking\": \"Garage Garage Attached\",\n",
    "  \"HOA Fee\": \"$400/monthly\",\n",
    "  \"Security System\": \"bool\"\n",
    "}\n",
    "\n",
    "  ```\n",
    "\n",
    "  ----"
   ],
   "cell_type": "markdown",
   "metadata": {}
  },
  {
   "cell_type": "code",
   "execution_count": 13,
   "metadata": {},
   "outputs": [
    {
     "output_type": "execute_result",
     "data": {
      "text/plain": [
       "(55, 1698)"
      ]
     },
     "metadata": {},
     "execution_count": 13
    }
   ],
   "source": [
    "import ast\n",
    "from operator import itemgetter\n",
    "\n",
    "# Create a column that is made of lists\n",
    "df['details_l'] = [ast.literal_eval(x) for x in df['details']]\n",
    "df['details'] = df['details'].replace(r\"'|\\[|\\]\", '', regex=True)\n",
    "df['details'] = df['details'].replace(r'\\,', '', regex=True)\n",
    "\n",
    "# Create an actual list of lists\n",
    "details = [x for x in df['details_l']]\n",
    "len_ = [(len(x), idx) for idx, x in enumerate(details)]\n",
    "# Finding the largest list to possibly find more features\n",
    "max(len_, key=itemgetter(0))"
   ]
  },
  {
   "cell_type": "code",
   "execution_count": 14,
   "metadata": {},
   "outputs": [],
   "source": [
    "### Basement ### \n",
    "df['bsmnt'] = np.where(df['details'].str.contains('Basement', case=False), 1, 0)\n",
    "\n",
    "### Heating ###\n",
    "df['gas'] = np.where(df['details'].str.contains('Gas', case=False), 1, 0)\n",
    "df['forsdair'] = np.where(df['details'].str.contains('Forced Air', case=False), 1, 0)\n",
    "df['elctric'] = np.where(df['details'].str.contains('Electric', case=False), 1, 0)\n",
    "df['solar'] = np.where(df['details'].str.contains('Solar', case=False), 1, 0)\n",
    "\n",
    "### Days on Market ###\n",
    "df['dayonmark'] = pd.to_numeric(df['details'].str.extract('(Days on Market:)\\s(\\d*)')[1])\n",
    "df['dayonmark'] = df['dayonmark'].fillna(1)\n",
    "\n",
    "### Year Built ###\n",
    "df['yrbuilt'] = df['details'].str.extract('(Year Built:)\\s(\\d*)')[1]\n",
    "df.loc[(df['yrbuilt'].isna()) & (df['new'] == 1), 'yrbuilt'] = round(df.loc[df['new'] == 1, 'yrbuilt'].astype(float).median(), 0)\n",
    "df.loc[(df['yrbuilt'].isna()) & (df['price'].gt(400000)), 'yrbuilt'] = round(df.loc[df['price'].gt(400000), 'yrbuilt'].astype(float).median(), 0)\n",
    "df.loc[(df['yrbuilt'].isna()) & (df['price'].between(300000, 400000)), 'yrbuilt'] = round(df.loc[df['price'].between(300000, 400000), 'yrbuilt'].astype(float).median(), 0)\n",
    "df['yrbuilt'] = df['yrbuilt'].fillna(round(df['yrbuilt'].astype(float).mean(), 0))\n",
    "df['yrbuilt'] = pd.to_numeric(df['yrbuilt'])\n",
    "\n",
    "### Year Updated ###\n",
    "df['update'] = np.where(df['details'].str.contains('Year Updated', case=False), 1, 0)\n",
    "\n",
    "### Stories ###\n",
    "df['stories'] = df['details'].str.extract('(Stories:)\\s(\\d*)')[1]\n",
    "# Average price of a Missouri home from Zillow: $176,609\n",
    "df.loc[(df['price'].lt(176609)) & (df['stories'].isna()) & (df['bsmnt'] == 0), 'stories'] = 1\n",
    "df.loc[(df['price'].gt(176609)) & (df['stories'].isna()) & (df['bsmnt'] == 1), 'stories'] = 2\n",
    "# Average square footage of a one story home from finanicalsamurai.com: 2422 sq. ft.\n",
    "df.loc[(df['stories'].isna()) & (df['sqft'].lt(1816)), 'stories'] = 1 # 2422 - (.25 * 2422)\n",
    "df.loc[(df['stories'].isna()) & (df['sqft'].between(1816, 3027)), 'stories'] = 2 # 2422 + (.25 * 2422)\n",
    "df.loc[(df['sqft'].ge(3027)) & (df['stories'].isna()), 'stories'] = 3\n",
    "df['stories'] = pd.to_numeric(df['stories'])\n",
    "\n",
    "### Property Type ###\n",
    "# df['details'].str.extract('(Property Type:)\\s(\\w*)(\\s?\\w*)')[1].unique() # All are the same\n",
    "\n",
    "### Number of Rooms ###\n",
    "df['n_rooms'] = df['details'].str.extract('(Number of Rooms:)\\s(\\d*)')[1]\n",
    "df['n_rooms'] = df['n_rooms'].fillna(df[['bedrm', 'bth']].sum(axis=1))\n",
    "df['n_rooms'] = pd.to_numeric(df['n_rooms'])\n",
    "\n",
    "### Cooling System ###\n",
    "# df['details'].str.extract('(Cooling System:)\\s(\\w*)')[1].value_counts() # Not important\n",
    "\n",
    "### Garage ###\n",
    "df['garage'] = np.where(df['details'].str.contains('Garage', case=False), 1, 0)\n",
    "\n",
    "### Architecture ###\n",
    "# df['details'].str.extract('(Architecture:)\\s(\\w*)')[1].isna().sum() # Too many nan's & too many uniques\n",
    "\n",
    "### Price Per Square Foot\n",
    "df['pp_sqft'] = pd.to_numeric(df['details'].str.extract('(Sqft:)\\s(\\$\\d*)')[1].replace(r'\\$', '', regex=True))\n",
    "df['pp_sqft'] = df['pp_sqft'].fillna(df['pp_sqft'].median())\n",
    "\n",
    "### Roof ###\n",
    "# df['details'].str.extract('(Roof:)\\s(\\w*)')[1].value_counts()\n",
    "df['roof'] = df['details'].str.extract('(Roof:)\\s(\\w*)')[1].fillna('Composition').astype('category').cat.codes\n",
    "\n",
    "### Floors ###\n",
    "# df['details'].str.extract('(Floors:)\\s(\\w*)')[1].value_counts()\n",
    "df['floors'] = df['details'].str.extract('(Floors:)\\s(\\w*)')[1]\n",
    "df['floors'] = df['floors'].apply(lambda x: np.random.choice(df['floors'].dropna().values) if pd.isna(x) else x)\n",
    "df['floors'] = df['floors'].astype('category').cat.codes\n",
    "\n",
    "### Exterior ###\n",
    "# df['details'].str.extract('(Exterior:)\\s(\\w*)')[1].replace(r'Composition', 'Wood', regex=True).value_counts()\n",
    "df['exterior'] = df['details'].str.extract('(Exterior:)\\s(\\w*)')[1].replace(r'Composition', 'Wood', regex=True)\n",
    "df['exterior'] = df['exterior'].apply(lambda x: np.random.choice(df['exterior'].dropna().values) if pd.isna(x) else x).astype('category').cat.codes\n",
    "\n",
    "### Foundation Type ###\n",
    "# df['details'].str.extract('(Foundation Type:)\\s(\\w*)')[1].value_counts() \n",
    "\n",
    "### Lot Size ###\n",
    "df['lot_sz'] = pd.to_numeric(df['details'].str.extract('(Lot Size:)\\s(\\w*)(\\s?\\w*)')[1]).fillna(df['sqft'])\n",
    "# df['lot_sz'] = np.where(df['lot_sz'] == 0, df['sqft'], df['lot_sz'])\n",
    "df['lot_sz'][df['lot_sz'] == 0] = df['sqft']\n",
    "\n",
    "### Parking Spaces ###\n",
    "df['prk_spc'] = df['details'].str.extract('(Parking Spaces:)\\s(\\w*)')[1].astype(float)\n",
    "df['prk_spc'] = pd.to_numeric(df['prk_spc'].fillna(round(df['prk_spc'].mean(), 2)))\n",
    "\n",
    "### Parking Area ###\n",
    "# df[(df['parking'].isna()) & (df['garage'] == 1)] # If you run this before filling na, it = None\n",
    "df['parking'] = df['details'].str.extract('(Parking:)\\s(\\w*)')[1].replace(r'None', 'Off', regex=True).replace(r'Built|On', 'Garage', regex=True).fillna('Off')\n",
    "park_dct = {'Off': 0, 'Underground': 1, 'Carport': 2, 'Garage': 3}\n",
    "df['parking'] = df['parking'].map(park_dct)\n",
    "\n",
    "### HOA Fee ###\n",
    "df['hoa_fee'] = pd.to_numeric(df['details'].str.extract('(HOA Fee:)\\s\\$(\\d*)')[1].fillna(0))\n",
    "\n",
    "### Security System ###\n",
    "df['sec_sys'] = (df['details'].str.contains('Security System', case=False)).astype(int)\n",
    "\n",
    "### Pool ### \n",
    "df['pool'] = (df['details'].str.contains('Pool', case=False)).astype(int)\n",
    "\n",
    "df = df.drop(['details', 'details_l'], axis=1)"
   ]
  },
  {
   "source": [
    "----\n",
    "### Listing History\n",
    "----"
   ],
   "cell_type": "markdown",
   "metadata": {}
  },
  {
   "cell_type": "code",
   "execution_count": 15,
   "metadata": {},
   "outputs": [],
   "source": [
    "# df['list_hist'] = df['list_hist'].replace(r\"[\\[\\]\\'\\,a-zA-JLN-Z]\", '', regex=True).replace(r'(\\d+\\/\\d+\\/\\d+)', '', regex=True)\n",
    "# df['list_hist'] = df['list_hist'].fillna(1).replace(r'\\/', '', regex=True)\n",
    "# df['list_cnt'] = [str(l).strip().split() for l in df['list_hist']]\n",
    "\n",
    "# Another (much much simpler) way that I don't know why I didn't think of first\n",
    "df['list_hist'] = df['list_hist'].fillna(1)\n",
    "df['list_cnt'] = [str(x).count('$') for x in df['list_hist']]\n",
    "\n",
    "df = df.drop('list_hist', axis=1)"
   ]
  },
  {
   "source": [
    "----\n",
    "### Tax Assessment\n",
    "- 1 if assessment is greater than the price listing\n",
    "\n",
    "----"
   ],
   "cell_type": "markdown",
   "metadata": {}
  },
  {
   "cell_type": "code",
   "execution_count": 16,
   "metadata": {},
   "outputs": [],
   "source": [
    "df['tax'] = pd.to_numeric(df['tax'].replace(r\"\\[|\\]|\\'|,\", '', regex=True).str.extract(r'(Assessment\\$(\\d*))')[1])\n",
    "df['tax'] = df['tax'].fillna(df['price'])\n",
    "df['assess'] = (df['tax'] > df['price']).astype(int)\n",
    "\n",
    "df = df.drop('tax', axis=1)"
   ]
  },
  {
   "source": [
    "----\n",
    "### Typical Home Value of Similar Houses\n",
    "----"
   ],
   "cell_type": "markdown",
   "metadata": {}
  },
  {
   "cell_type": "code",
   "execution_count": 17,
   "metadata": {},
   "outputs": [],
   "source": [
    "df['typ_val'] = pd.to_numeric(df['typ_val'].replace(r'\\D', '', regex=True))\n",
    "df['typ_val'] = df['typ_val'].fillna(df['price'])"
   ]
  },
  {
   "cell_type": "code",
   "execution_count": 18,
   "metadata": {},
   "outputs": [
    {
     "output_type": "execute_result",
     "data": {
      "text/plain": [
       "1 Aspen Arbors At Stonegate Dr     182028.0\n",
       "1 Avanleigh Arbors Frontenac Dr    664548.0\n",
       "1 Avanti La Collina                250488.0\n",
       "1 Bella Vista Lacollina St         250488.0\n",
       "1 Bellendon Arbors Frontenac Dr    664548.0\n",
       "                                     ...   \n",
       "Tbb The Bridlespur Conway Rd       495319.0\n",
       "Tbb The Cambridge Conway Rd        495319.0\n",
       "Tbb The Chesapeake Conway Rd       495319.0\n",
       "Tbb The Mooreland Conway Rd        495319.0\n",
       "Tbb The Nantucket Conway Rd        495319.0\n",
       "Name: typ_val, Length: 3033, dtype: float64"
      ]
     },
     "metadata": {},
     "execution_count": 18
    }
   ],
   "source": [
    "df['typ_val']"
   ]
  },
  {
   "source": [
    "#### How Price of House relates to other Houses (above or below)\n",
    "\n",
    "################################################################################################################\n",
    "- EITHER DROP THIS OR TYP_VAL\n",
    "\n",
    "################################################################################################################"
   ],
   "cell_type": "markdown",
   "metadata": {}
  },
  {
   "cell_type": "code",
   "execution_count": 19,
   "metadata": {
    "tags": []
   },
   "outputs": [],
   "source": [
    "df['val_pct'] = [f'-{el}' if 'below' in el else el for el in df['val_pct']]\n",
    "df['val_pct'] = df['val_pct'].replace(r'above|below|%|,', '', regex=True).replace(r'[a-zA-Z]', '', regex=True)\n",
    "df['val_pct'] = [''.join(x.replace(' ', '')) for x in df['val_pct']]\n",
    "\n",
    "df['val_pct'] = pd.to_numeric(df['val_pct'])\n",
    "\n",
    "df.loc[(df['val_pct'].isna()) & (df['price'].lt(100000)), 'val_pct'] = df.loc[(df['price'].lt(100000)), 'val_pct'].mean()\n",
    "df.loc[(df['val_pct'].isna()) & (df['price'].between(100000, 200000)), 'val_pct'] = df.loc[(df['price'].between(100000, 200000)), 'val_pct'].mean()\n",
    "df.loc[(df['val_pct'].isna()) & (df['price'].between(200000, 300000)), 'val_pct'] = df.loc[(df['price'].between(200000, 300000)), 'val_pct'].mean()\n",
    "df.loc[(df['val_pct'].isna()) & (df['price'].between(300000, 400000)), 'val_pct'] = df.loc[(df['price'].between(300000, 400000)), 'val_pct'].mean()\n",
    "df.loc[(df['val_pct'].isna()) & (df['price'].gt(400000)), 'val_pct'] = df.loc[(df['price'].gt(400000)), 'val_pct'].mean()"
   ]
  },
  {
   "source": [
    "----\n",
    "### Typical Square Footage Price of Similar Houses\n",
    "----"
   ],
   "cell_type": "markdown",
   "metadata": {}
  },
  {
   "cell_type": "code",
   "execution_count": 20,
   "metadata": {},
   "outputs": [],
   "source": [
    "df['typ_sqft'] = pd.to_numeric(df['typ_sqft'].replace(r'\\$|\\D', '', regex=True))\n",
    "\n",
    "df.loc[(df['typ_sqft'].isna()) & (df['sqft'].lt(1000)), 'typ_sqft'] =  df.loc[df['sqft'].lt(1000), 'sqft'].mean()\n",
    "df.loc[(df['typ_sqft'].isna()) & (df['sqft'].between(1000, 2000)), 'typ_sqft'] =  df.loc[df['sqft'].between(1000, 2000), 'sqft'].mean()\n",
    "df.loc[(df['typ_sqft'].isna()) & (df['sqft'].between(2000, 3000)), 'typ_sqft'] =  df.loc[df['sqft'].between(2000, 3000), 'sqft'].mean()"
   ]
  },
  {
   "source": [
    "#### How Price of a Square Foot relates to other Houses (above or below)\n",
    "\n",
    "################################################################################################################\n",
    "- EITHER DROP THIS OR TYP_SQFT\n",
    "\n",
    "################################################################################################################"
   ],
   "cell_type": "markdown",
   "metadata": {}
  },
  {
   "cell_type": "code",
   "execution_count": 21,
   "metadata": {},
   "outputs": [],
   "source": [
    "df['sqft_pct'] = [f'-{el}' if 'below' in el else el for el in df['sqft_pct']]\n",
    "df['sqft_pct'] = df['sqft_pct'].replace(r'above|below|%|,', '', regex=True).replace(r'[a-zA-Z]', '', regex=True)\n",
    "df['sqft_pct'] = [''.join(x.replace(' ', '')) for x in df['sqft_pct']]\n",
    "\n",
    "df['sqft_pct'] = pd.to_numeric(df['sqft_pct'])\n",
    "\n",
    "df.loc[(df['sqft_pct'].isna()) & (df['price'].lt(100000)), 'sqft_pct'] = df.loc[df['sqft_pct'].lt(100000), 'sqft_pct'].mean()\n",
    "df.loc[(df['sqft_pct'].isna()) & (df['price'].between(100000, 300000)), 'sqft_pct'] = df.loc[df['sqft_pct'].between(100000, 300000), 'sqft_pct'].mean()"
   ]
  },
  {
   "cell_type": "code",
   "execution_count": 22,
   "metadata": {},
   "outputs": [
    {
     "output_type": "stream",
     "name": "stdout",
     "text": [
      "<class 'pandas.core.frame.DataFrame'>\nIndex: 3033 entries, 1 Aspen Arbors At Stonegate Dr to Tbb The Nantucket Conway Rd\nData columns (total 37 columns):\n #   Column     Non-Null Count  Dtype  \n---  ------     --------------  -----  \n 0   region     3033 non-null   object \n 1   new        3033 non-null   int64  \n 2   price      3033 non-null   float64\n 3   bedrm      3033 non-null   int64  \n 4   bth        3033 non-null   int64  \n 5   sqft       3033 non-null   int64  \n 6   crime      3033 non-null   int64  \n 7   typ_val    3033 non-null   float64\n 8   val_pct    3033 non-null   float64\n 9   typ_sqft   3033 non-null   float64\n 10  sqft_pct   3033 non-null   float64\n 11  eschl      3033 non-null   int64  \n 12  mschl      3033 non-null   int64  \n 13  hschl      3033 non-null   int64  \n 14  bsmnt      3033 non-null   int64  \n 15  gas        3033 non-null   int64  \n 16  forsdair   3033 non-null   int64  \n 17  elctric    3033 non-null   int64  \n 18  solar      3033 non-null   int64  \n 19  dayonmark  3033 non-null   float64\n 20  yrbuilt    3033 non-null   float64\n 21  update     3033 non-null   int64  \n 22  stories    3033 non-null   int64  \n 23  n_rooms    3033 non-null   int64  \n 24  garage     3033 non-null   int64  \n 25  pp_sqft    3033 non-null   float64\n 26  roof       3033 non-null   int8   \n 27  floors     3033 non-null   int8   \n 28  exterior   3033 non-null   int8   \n 29  lot_sz     3033 non-null   float64\n 30  prk_spc    3033 non-null   float64\n 31  parking    3033 non-null   int64  \n 32  hoa_fee    3033 non-null   int64  \n 33  sec_sys    3033 non-null   int64  \n 34  pool       3033 non-null   int64  \n 35  list_cnt   3033 non-null   int64  \n 36  assess     3033 non-null   int64  \ndtypes: float64(10), int64(23), int8(3), object(1)\nmemory usage: 902.8+ KB\n"
     ]
    }
   ],
   "source": [
    "df.info()"
   ]
  },
  {
   "cell_type": "code",
   "execution_count": 23,
   "metadata": {},
   "outputs": [],
   "source": [
    "df = df.drop_duplicates()\n",
    "df.to_csv('df/df_full.csv', index=True, columns=df.columns.values)"
   ]
  }
 ]
}